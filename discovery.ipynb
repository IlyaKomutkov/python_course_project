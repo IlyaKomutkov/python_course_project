{
 "cells": [
  {
   "cell_type": "code",
   "execution_count": 1,
   "id": "37c4d33f",
   "metadata": {},
   "outputs": [],
   "source": [
    "import matplotlib.pyplot as plt\n",
    "import pandas as pd\n",
    "import plotly.express as px\n",
    "import numpy as np\n",
    "from wordcloud import WordCloud"
   ]
  },
  {
   "cell_type": "markdown",
   "id": "3e792429",
   "metadata": {},
   "source": [
    "## Что будет на дашборде"
   ]
  },
  {
   "cell_type": "markdown",
   "id": "33376c34",
   "metadata": {},
   "source": [
    "После запуска программы будет открываться страница с выбором типа спортивного питания - аминокислоты, протеины или энергия. После выбора типа открывается дашборд с аналитикой, который будет содержать три страницы: общая аналитика, анализ численных полей, анализ текстовых полей. С каждой страницы должна быть возможность вернуться на выбор типа."
   ]
  },
  {
   "cell_type": "markdown",
   "id": "c3274488",
   "metadata": {},
   "source": [
    "## Общая аналитика"
   ]
  },
  {
   "cell_type": "markdown",
   "id": "1b36fdfa",
   "metadata": {},
   "source": [
    "Содержит первые 5 строк датасета, возможность скачать как .xlsx, по каждому полю основную информацию (текстовое или численное, сколько заполнено, сколько уникальных значений), для количественных данных таблицу описательных статистик и корреляционную матрицу"
   ]
  },
  {
   "cell_type": "code",
   "execution_count": 2,
   "id": "02a15e1e",
   "metadata": {},
   "outputs": [],
   "source": [
    "acids_df = pd.read_csv('acids.csv')"
   ]
  },
  {
   "cell_type": "code",
   "execution_count": 3,
   "id": "7c02143b",
   "metadata": {},
   "outputs": [
    {
     "data": {
      "text/html": [
       "<div>\n",
       "<style scoped>\n",
       "    .dataframe tbody tr th:only-of-type {\n",
       "        vertical-align: middle;\n",
       "    }\n",
       "\n",
       "    .dataframe tbody tr th {\n",
       "        vertical-align: top;\n",
       "    }\n",
       "\n",
       "    .dataframe thead th {\n",
       "        text-align: right;\n",
       "    }\n",
       "</style>\n",
       "<table border=\"1\" class=\"dataframe\">\n",
       "  <thead>\n",
       "    <tr style=\"text-align: right;\">\n",
       "      <th></th>\n",
       "      <th>name</th>\n",
       "      <th>Цель</th>\n",
       "      <th>Тип</th>\n",
       "      <th>Страна производитель</th>\n",
       "      <th>Количество в упаковке</th>\n",
       "      <th>Количество порций</th>\n",
       "      <th>Срок годности, мес.</th>\n",
       "      <th>price</th>\n",
       "      <th>Форма выпуска</th>\n",
       "      <th>Диетические особенности</th>\n",
       "      <th>...</th>\n",
       "      <th>Вес нетто, г</th>\n",
       "      <th>Минералы</th>\n",
       "      <th>Витамины</th>\n",
       "      <th>Штрихкод</th>\n",
       "      <th>Белок: грамм в 1 порции</th>\n",
       "      <th>Объем, мл</th>\n",
       "      <th>Материал</th>\n",
       "      <th>Форма креатина</th>\n",
       "      <th>Вид транспортной системы</th>\n",
       "      <th>Вид белка</th>\n",
       "    </tr>\n",
       "  </thead>\n",
       "  <tbody>\n",
       "    <tr>\n",
       "      <th>0</th>\n",
       "      <td>Аминокислота SupHerb L-Лизин 60 таб</td>\n",
       "      <td>Мужское здоровье, Женское здоровье, Продлить м...</td>\n",
       "      <td>Аминокислоты отдельные</td>\n",
       "      <td>ИЗРАИЛЬ</td>\n",
       "      <td>60</td>\n",
       "      <td>60.0</td>\n",
       "      <td>36.0</td>\n",
       "      <td>1490</td>\n",
       "      <td>таблетки</td>\n",
       "      <td>без ароматизаторов</td>\n",
       "      <td>...</td>\n",
       "      <td>NaN</td>\n",
       "      <td>NaN</td>\n",
       "      <td>NaN</td>\n",
       "      <td>NaN</td>\n",
       "      <td>NaN</td>\n",
       "      <td>NaN</td>\n",
       "      <td>NaN</td>\n",
       "      <td>NaN</td>\n",
       "      <td>NaN</td>\n",
       "      <td>NaN</td>\n",
       "    </tr>\n",
       "    <tr>\n",
       "      <th>1</th>\n",
       "      <td>Аминокислота GEON Essential Amino L-Lysine 90 ...</td>\n",
       "      <td>Мужское здоровье, Женское здоровье, Продлить м...</td>\n",
       "      <td>Аминокислоты отдельные</td>\n",
       "      <td>Россия</td>\n",
       "      <td>90</td>\n",
       "      <td>15.0</td>\n",
       "      <td>24.0</td>\n",
       "      <td>690</td>\n",
       "      <td>капсулы</td>\n",
       "      <td>без ароматизаторов</td>\n",
       "      <td>...</td>\n",
       "      <td>NaN</td>\n",
       "      <td>NaN</td>\n",
       "      <td>NaN</td>\n",
       "      <td>NaN</td>\n",
       "      <td>NaN</td>\n",
       "      <td>NaN</td>\n",
       "      <td>NaN</td>\n",
       "      <td>NaN</td>\n",
       "      <td>NaN</td>\n",
       "      <td>NaN</td>\n",
       "    </tr>\n",
       "    <tr>\n",
       "      <th>2</th>\n",
       "      <td>Аминокислота Таурин GEON Taurine Power 90 капсул</td>\n",
       "      <td>Мужское здоровье, Женское здоровье, Продлить м...</td>\n",
       "      <td>Таурин</td>\n",
       "      <td>Россия</td>\n",
       "      <td>90</td>\n",
       "      <td>90.0</td>\n",
       "      <td>24.0</td>\n",
       "      <td>790</td>\n",
       "      <td>капсулы</td>\n",
       "      <td>без ароматизаторов, без консервантов</td>\n",
       "      <td>...</td>\n",
       "      <td>NaN</td>\n",
       "      <td>NaN</td>\n",
       "      <td>NaN</td>\n",
       "      <td>NaN</td>\n",
       "      <td>NaN</td>\n",
       "      <td>NaN</td>\n",
       "      <td>NaN</td>\n",
       "      <td>NaN</td>\n",
       "      <td>NaN</td>\n",
       "      <td>NaN</td>\n",
       "    </tr>\n",
       "    <tr>\n",
       "      <th>3</th>\n",
       "      <td>Аргинин Takem Инфинити Аргинин-1200 60 капсул</td>\n",
       "      <td>Нарастить массу, Мужское здоровье, Улучшить вы...</td>\n",
       "      <td>Аргинин</td>\n",
       "      <td>Япония</td>\n",
       "      <td>60</td>\n",
       "      <td>20.0</td>\n",
       "      <td>36.0</td>\n",
       "      <td>8090</td>\n",
       "      <td>капсулы</td>\n",
       "      <td>без ароматизаторов, без сахара</td>\n",
       "      <td>...</td>\n",
       "      <td>100.0</td>\n",
       "      <td>NaN</td>\n",
       "      <td>NaN</td>\n",
       "      <td>NaN</td>\n",
       "      <td>NaN</td>\n",
       "      <td>NaN</td>\n",
       "      <td>NaN</td>\n",
       "      <td>NaN</td>\n",
       "      <td>NaN</td>\n",
       "      <td>NaN</td>\n",
       "    </tr>\n",
       "    <tr>\n",
       "      <th>4</th>\n",
       "      <td>Аминокислотный комплекс Mutant GEAAR 378 г</td>\n",
       "      <td>Восстановление</td>\n",
       "      <td>Аминокислотные комплексы</td>\n",
       "      <td>Канада</td>\n",
       "      <td>378</td>\n",
       "      <td>30.0</td>\n",
       "      <td>24.0</td>\n",
       "      <td>1963</td>\n",
       "      <td>порошок</td>\n",
       "      <td>без консервантов, без красителей, без лактозы,...</td>\n",
       "      <td>...</td>\n",
       "      <td>378.0</td>\n",
       "      <td>калий, кальций, магний</td>\n",
       "      <td>NaN</td>\n",
       "      <td>NaN</td>\n",
       "      <td>NaN</td>\n",
       "      <td>NaN</td>\n",
       "      <td>NaN</td>\n",
       "      <td>NaN</td>\n",
       "      <td>NaN</td>\n",
       "      <td>NaN</td>\n",
       "    </tr>\n",
       "    <tr>\n",
       "      <th>...</th>\n",
       "      <td>...</td>\n",
       "      <td>...</td>\n",
       "      <td>...</td>\n",
       "      <td>...</td>\n",
       "      <td>...</td>\n",
       "      <td>...</td>\n",
       "      <td>...</td>\n",
       "      <td>...</td>\n",
       "      <td>...</td>\n",
       "      <td>...</td>\n",
       "      <td>...</td>\n",
       "      <td>...</td>\n",
       "      <td>...</td>\n",
       "      <td>...</td>\n",
       "      <td>...</td>\n",
       "      <td>...</td>\n",
       "      <td>...</td>\n",
       "      <td>...</td>\n",
       "      <td>...</td>\n",
       "      <td>...</td>\n",
       "      <td>...</td>\n",
       "    </tr>\n",
       "    <tr>\n",
       "      <th>921</th>\n",
       "      <td>BCAA 510 мг 180 капс</td>\n",
       "      <td>NaN</td>\n",
       "      <td>BCAA</td>\n",
       "      <td>Россия</td>\n",
       "      <td>180</td>\n",
       "      <td>36.0</td>\n",
       "      <td>NaN</td>\n",
       "      <td>1120</td>\n",
       "      <td>NaN</td>\n",
       "      <td>NaN</td>\n",
       "      <td>...</td>\n",
       "      <td>200.0</td>\n",
       "      <td>NaN</td>\n",
       "      <td>NaN</td>\n",
       "      <td>4602242023524</td>\n",
       "      <td>NaN</td>\n",
       "      <td>NaN</td>\n",
       "      <td>NaN</td>\n",
       "      <td>NaN</td>\n",
       "      <td>NaN</td>\n",
       "      <td>NaN</td>\n",
       "    </tr>\n",
       "    <tr>\n",
       "      <th>922</th>\n",
       "      <td>Аминокислоты BCAA CAPS 180 капсул</td>\n",
       "      <td>Восстановление</td>\n",
       "      <td>BCAA</td>\n",
       "      <td>Германия</td>\n",
       "      <td>180</td>\n",
       "      <td>30.0</td>\n",
       "      <td>3.0</td>\n",
       "      <td>1240</td>\n",
       "      <td>капсулы</td>\n",
       "      <td>без ГМО, без ароматизаторов, без глютена, без ...</td>\n",
       "      <td>...</td>\n",
       "      <td>NaN</td>\n",
       "      <td>NaN</td>\n",
       "      <td>NaN</td>\n",
       "      <td>4260122321193</td>\n",
       "      <td>NaN</td>\n",
       "      <td>NaN</td>\n",
       "      <td>NaN</td>\n",
       "      <td>NaN</td>\n",
       "      <td>NaN</td>\n",
       "      <td>NaN</td>\n",
       "    </tr>\n",
       "    <tr>\n",
       "      <th>923</th>\n",
       "      <td>BCAA ALLNUTRITION BCAA 2:1:1 1000 XtraCaps, 18...</td>\n",
       "      <td>Восстановление</td>\n",
       "      <td>BCAA</td>\n",
       "      <td>Польша</td>\n",
       "      <td>180</td>\n",
       "      <td>30.0</td>\n",
       "      <td>24.0</td>\n",
       "      <td>1510</td>\n",
       "      <td>капсулы</td>\n",
       "      <td>NaN</td>\n",
       "      <td>...</td>\n",
       "      <td>360.0</td>\n",
       "      <td>NaN</td>\n",
       "      <td>NaN</td>\n",
       "      <td>5902837705538</td>\n",
       "      <td>NaN</td>\n",
       "      <td>NaN</td>\n",
       "      <td>NaN</td>\n",
       "      <td>NaN</td>\n",
       "      <td>NaN</td>\n",
       "      <td>NaN</td>\n",
       "    </tr>\n",
       "    <tr>\n",
       "      <th>924</th>\n",
       "      <td>Аминокислоты Maxler BCAA + Glutamine 300 г</td>\n",
       "      <td>Восстановление</td>\n",
       "      <td>BCAA</td>\n",
       "      <td>Германия</td>\n",
       "      <td>300</td>\n",
       "      <td>30.0</td>\n",
       "      <td>24.0</td>\n",
       "      <td>1390</td>\n",
       "      <td>порошок</td>\n",
       "      <td>с сахарозаменителем</td>\n",
       "      <td>...</td>\n",
       "      <td>350.0</td>\n",
       "      <td>NaN</td>\n",
       "      <td>NaN</td>\n",
       "      <td>4260122320455</td>\n",
       "      <td>NaN</td>\n",
       "      <td>NaN</td>\n",
       "      <td>NaN</td>\n",
       "      <td>NaN</td>\n",
       "      <td>NaN</td>\n",
       "      <td>NaN</td>\n",
       "    </tr>\n",
       "    <tr>\n",
       "      <th>925</th>\n",
       "      <td>Аминокислоты BCAA Optimum Nutrition BCAA 1000 ...</td>\n",
       "      <td>Восстановление</td>\n",
       "      <td>BCAA</td>\n",
       "      <td>США</td>\n",
       "      <td>60</td>\n",
       "      <td>30.0</td>\n",
       "      <td>3.0</td>\n",
       "      <td>990</td>\n",
       "      <td>NaN</td>\n",
       "      <td>без ГМО, без ароматизаторов, без глютена, без ...</td>\n",
       "      <td>...</td>\n",
       "      <td>150.0</td>\n",
       "      <td>NaN</td>\n",
       "      <td>NaN</td>\n",
       "      <td>748927020359</td>\n",
       "      <td>NaN</td>\n",
       "      <td>NaN</td>\n",
       "      <td>NaN</td>\n",
       "      <td>NaN</td>\n",
       "      <td>NaN</td>\n",
       "      <td>NaN</td>\n",
       "    </tr>\n",
       "  </tbody>\n",
       "</table>\n",
       "<p>926 rows × 22 columns</p>\n",
       "</div>"
      ],
      "text/plain": [
       "                                                  name  \\\n",
       "0                  Аминокислота SupHerb L-Лизин 60 таб   \n",
       "1    Аминокислота GEON Essential Amino L-Lysine 90 ...   \n",
       "2     Аминокислота Таурин GEON Taurine Power 90 капсул   \n",
       "3        Аргинин Takem Инфинити Аргинин-1200 60 капсул   \n",
       "4           Аминокислотный комплекс Mutant GEAAR 378 г   \n",
       "..                                                 ...   \n",
       "921                               BCAA 510 мг 180 капс   \n",
       "922                  Аминокислоты BCAA CAPS 180 капсул   \n",
       "923  BCAA ALLNUTRITION BCAA 2:1:1 1000 XtraCaps, 18...   \n",
       "924         Аминокислоты Maxler BCAA + Glutamine 300 г   \n",
       "925  Аминокислоты BCAA Optimum Nutrition BCAA 1000 ...   \n",
       "\n",
       "                                                  Цель  \\\n",
       "0    Мужское здоровье, Женское здоровье, Продлить м...   \n",
       "1    Мужское здоровье, Женское здоровье, Продлить м...   \n",
       "2    Мужское здоровье, Женское здоровье, Продлить м...   \n",
       "3    Нарастить массу, Мужское здоровье, Улучшить вы...   \n",
       "4                                       Восстановление   \n",
       "..                                                 ...   \n",
       "921                                                NaN   \n",
       "922                                     Восстановление   \n",
       "923                                     Восстановление   \n",
       "924                                     Восстановление   \n",
       "925                                     Восстановление   \n",
       "\n",
       "                          Тип Страна производитель  Количество в упаковке  \\\n",
       "0      Аминокислоты отдельные              ИЗРАИЛЬ                     60   \n",
       "1      Аминокислоты отдельные               Россия                     90   \n",
       "2                      Таурин               Россия                     90   \n",
       "3                     Аргинин               Япония                     60   \n",
       "4    Аминокислотные комплексы               Канада                    378   \n",
       "..                        ...                  ...                    ...   \n",
       "921                      BCAA               Россия                    180   \n",
       "922                      BCAA             Германия                    180   \n",
       "923                      BCAA               Польша                    180   \n",
       "924                      BCAA             Германия                    300   \n",
       "925                      BCAA                  США                     60   \n",
       "\n",
       "     Количество порций  Срок годности, мес.  price Форма выпуска  \\\n",
       "0                 60.0                 36.0   1490      таблетки   \n",
       "1                 15.0                 24.0    690       капсулы   \n",
       "2                 90.0                 24.0    790       капсулы   \n",
       "3                 20.0                 36.0   8090       капсулы   \n",
       "4                 30.0                 24.0   1963       порошок   \n",
       "..                 ...                  ...    ...           ...   \n",
       "921               36.0                  NaN   1120           NaN   \n",
       "922               30.0                  3.0   1240       капсулы   \n",
       "923               30.0                 24.0   1510       капсулы   \n",
       "924               30.0                 24.0   1390       порошок   \n",
       "925               30.0                  3.0    990           NaN   \n",
       "\n",
       "                               Диетические особенности  ... Вес нетто, г  \\\n",
       "0                                   без ароматизаторов  ...          NaN   \n",
       "1                                   без ароматизаторов  ...          NaN   \n",
       "2                 без ароматизаторов, без консервантов  ...          NaN   \n",
       "3                       без ароматизаторов, без сахара  ...        100.0   \n",
       "4    без консервантов, без красителей, без лактозы,...  ...        378.0   \n",
       "..                                                 ...  ...          ...   \n",
       "921                                                NaN  ...        200.0   \n",
       "922  без ГМО, без ароматизаторов, без глютена, без ...  ...          NaN   \n",
       "923                                                NaN  ...        360.0   \n",
       "924                                с сахарозаменителем  ...        350.0   \n",
       "925  без ГМО, без ароматизаторов, без глютена, без ...  ...        150.0   \n",
       "\n",
       "                   Минералы  Витамины       Штрихкод Белок: грамм в 1 порции  \\\n",
       "0                       NaN       NaN            NaN                     NaN   \n",
       "1                       NaN       NaN            NaN                     NaN   \n",
       "2                       NaN       NaN            NaN                     NaN   \n",
       "3                       NaN       NaN            NaN                     NaN   \n",
       "4    калий, кальций, магний       NaN            NaN                     NaN   \n",
       "..                      ...       ...            ...                     ...   \n",
       "921                     NaN       NaN  4602242023524                     NaN   \n",
       "922                     NaN       NaN  4260122321193                     NaN   \n",
       "923                     NaN       NaN  5902837705538                     NaN   \n",
       "924                     NaN       NaN  4260122320455                     NaN   \n",
       "925                     NaN       NaN   748927020359                     NaN   \n",
       "\n",
       "    Объем, мл  Материал  Форма креатина Вид транспортной системы Вид белка  \n",
       "0         NaN       NaN             NaN                      NaN       NaN  \n",
       "1         NaN       NaN             NaN                      NaN       NaN  \n",
       "2         NaN       NaN             NaN                      NaN       NaN  \n",
       "3         NaN       NaN             NaN                      NaN       NaN  \n",
       "4         NaN       NaN             NaN                      NaN       NaN  \n",
       "..        ...       ...             ...                      ...       ...  \n",
       "921       NaN       NaN             NaN                      NaN       NaN  \n",
       "922       NaN       NaN             NaN                      NaN       NaN  \n",
       "923       NaN       NaN             NaN                      NaN       NaN  \n",
       "924       NaN       NaN             NaN                      NaN       NaN  \n",
       "925       NaN       NaN             NaN                      NaN       NaN  \n",
       "\n",
       "[926 rows x 22 columns]"
      ]
     },
     "execution_count": 3,
     "metadata": {},
     "output_type": "execute_result"
    }
   ],
   "source": [
    "acids_df"
   ]
  },
  {
   "cell_type": "code",
   "execution_count": 4,
   "id": "64e0c44c",
   "metadata": {},
   "outputs": [
    {
     "name": "stdout",
     "output_type": "stream",
     "text": [
      "<class 'pandas.core.frame.DataFrame'>\n",
      "RangeIndex: 926 entries, 0 to 925\n",
      "Data columns (total 22 columns):\n",
      " #   Column                    Non-Null Count  Dtype  \n",
      "---  ------                    --------------  -----  \n",
      " 0   name                      926 non-null    object \n",
      " 1   Цель                      922 non-null    object \n",
      " 2   Тип                       924 non-null    object \n",
      " 3   Страна производитель      925 non-null    object \n",
      " 4   Количество в упаковке     926 non-null    int64  \n",
      " 5   Количество порций         917 non-null    float64\n",
      " 6   Срок годности, мес.       444 non-null    float64\n",
      " 7   price                     926 non-null    int64  \n",
      " 8   Форма выпуска             436 non-null    object \n",
      " 9   Диетические особенности   375 non-null    object \n",
      " 10  Подходит для              440 non-null    object \n",
      " 11  Ингредиенты               687 non-null    object \n",
      " 12  Вес нетто, г              755 non-null    float64\n",
      " 13  Минералы                  21 non-null     object \n",
      " 14  Витамины                  43 non-null     object \n",
      " 15  Штрихкод                  855 non-null    object \n",
      " 16  Белок: грамм в 1 порции   6 non-null      float64\n",
      " 17  Объем, мл                 11 non-null     float64\n",
      " 18  Материал                  19 non-null     object \n",
      " 19  Форма креатина            64 non-null     object \n",
      " 20  Вид транспортной системы  7 non-null      object \n",
      " 21  Вид белка                 1 non-null      object \n",
      "dtypes: float64(5), int64(2), object(15)\n",
      "memory usage: 159.3+ KB\n"
     ]
    }
   ],
   "source": [
    "acids_df.info()"
   ]
  },
  {
   "cell_type": "code",
   "execution_count": 10,
   "id": "ef81cf64",
   "metadata": {},
   "outputs": [
    {
     "data": {
      "text/plain": [
       "name                        882\n",
       "Цель                         50\n",
       "Тип                          34\n",
       "Страна производитель         20\n",
       "Количество в упаковке       114\n",
       "Количество порций           106\n",
       "Срок годности, мес.           9\n",
       "price                       347\n",
       "Форма выпуска                 8\n",
       "Диетические особенности      99\n",
       "Подходит для                  5\n",
       "Ингредиенты                 582\n",
       "Вес нетто, г                203\n",
       "Минералы                     12\n",
       "Витамины                     25\n",
       "Штрихкод                    850\n",
       "Белок: грамм в 1 порции       5\n",
       "Объем, мл                     3\n",
       "Материал                      2\n",
       "Форма креатина                7\n",
       "Вид транспортной системы      4\n",
       "Вид белка                     1\n",
       "dtype: int64"
      ]
     },
     "execution_count": 10,
     "metadata": {},
     "output_type": "execute_result"
    }
   ],
   "source": [
    "acids_df.nunique()"
   ]
  },
  {
   "cell_type": "code",
   "execution_count": 12,
   "id": "f24f8cc5",
   "metadata": {},
   "outputs": [
    {
     "data": {
      "text/html": [
       "<div>\n",
       "<style scoped>\n",
       "    .dataframe tbody tr th:only-of-type {\n",
       "        vertical-align: middle;\n",
       "    }\n",
       "\n",
       "    .dataframe tbody tr th {\n",
       "        vertical-align: top;\n",
       "    }\n",
       "\n",
       "    .dataframe thead th {\n",
       "        text-align: right;\n",
       "    }\n",
       "</style>\n",
       "<table border=\"1\" class=\"dataframe\">\n",
       "  <thead>\n",
       "    <tr style=\"text-align: right;\">\n",
       "      <th></th>\n",
       "      <th>Количество в упаковке</th>\n",
       "      <th>Количество порций</th>\n",
       "      <th>Срок годности, мес.</th>\n",
       "      <th>price</th>\n",
       "      <th>Вес нетто, г</th>\n",
       "      <th>Белок: грамм в 1 порции</th>\n",
       "      <th>Объем, мл</th>\n",
       "    </tr>\n",
       "  </thead>\n",
       "  <tbody>\n",
       "    <tr>\n",
       "      <th>count</th>\n",
       "      <td>926.000000</td>\n",
       "      <td>917.000000</td>\n",
       "      <td>444.000000</td>\n",
       "      <td>926.000000</td>\n",
       "      <td>755.000000</td>\n",
       "      <td>6.000000</td>\n",
       "      <td>11.000000</td>\n",
       "    </tr>\n",
       "    <tr>\n",
       "      <th>mean</th>\n",
       "      <td>304.609071</td>\n",
       "      <td>60.664122</td>\n",
       "      <td>83.792793</td>\n",
       "      <td>1585.749460</td>\n",
       "      <td>442.842384</td>\n",
       "      <td>5.833333</td>\n",
       "      <td>757.272727</td>\n",
       "    </tr>\n",
       "    <tr>\n",
       "      <th>std</th>\n",
       "      <td>323.337478</td>\n",
       "      <td>55.947579</td>\n",
       "      <td>197.317341</td>\n",
       "      <td>948.210563</td>\n",
       "      <td>352.286650</td>\n",
       "      <td>6.493587</td>\n",
       "      <td>282.987311</td>\n",
       "    </tr>\n",
       "    <tr>\n",
       "      <th>min</th>\n",
       "      <td>1.000000</td>\n",
       "      <td>1.000000</td>\n",
       "      <td>3.000000</td>\n",
       "      <td>0.000000</td>\n",
       "      <td>10.000000</td>\n",
       "      <td>1.000000</td>\n",
       "      <td>330.000000</td>\n",
       "    </tr>\n",
       "    <tr>\n",
       "      <th>25%</th>\n",
       "      <td>100.000000</td>\n",
       "      <td>30.000000</td>\n",
       "      <td>24.000000</td>\n",
       "      <td>980.000000</td>\n",
       "      <td>200.000000</td>\n",
       "      <td>1.250000</td>\n",
       "      <td>500.000000</td>\n",
       "    </tr>\n",
       "    <tr>\n",
       "      <th>50%</th>\n",
       "      <td>250.000000</td>\n",
       "      <td>50.000000</td>\n",
       "      <td>24.000000</td>\n",
       "      <td>1440.000000</td>\n",
       "      <td>365.000000</td>\n",
       "      <td>4.000000</td>\n",
       "      <td>1000.000000</td>\n",
       "    </tr>\n",
       "    <tr>\n",
       "      <th>75%</th>\n",
       "      <td>400.000000</td>\n",
       "      <td>80.000000</td>\n",
       "      <td>24.000000</td>\n",
       "      <td>1990.000000</td>\n",
       "      <td>582.500000</td>\n",
       "      <td>6.750000</td>\n",
       "      <td>1000.000000</td>\n",
       "    </tr>\n",
       "    <tr>\n",
       "      <th>max</th>\n",
       "      <td>4000.000000</td>\n",
       "      <td>822.000000</td>\n",
       "      <td>730.000000</td>\n",
       "      <td>9021.000000</td>\n",
       "      <td>4000.000000</td>\n",
       "      <td>18.000000</td>\n",
       "      <td>1000.000000</td>\n",
       "    </tr>\n",
       "  </tbody>\n",
       "</table>\n",
       "</div>"
      ],
      "text/plain": [
       "       Количество в упаковке  Количество порций  Срок годности, мес.  \\\n",
       "count             926.000000         917.000000           444.000000   \n",
       "mean              304.609071          60.664122            83.792793   \n",
       "std               323.337478          55.947579           197.317341   \n",
       "min                 1.000000           1.000000             3.000000   \n",
       "25%               100.000000          30.000000            24.000000   \n",
       "50%               250.000000          50.000000            24.000000   \n",
       "75%               400.000000          80.000000            24.000000   \n",
       "max              4000.000000         822.000000           730.000000   \n",
       "\n",
       "             price  Вес нетто, г  Белок: грамм в 1 порции    Объем, мл  \n",
       "count   926.000000    755.000000                 6.000000    11.000000  \n",
       "mean   1585.749460    442.842384                 5.833333   757.272727  \n",
       "std     948.210563    352.286650                 6.493587   282.987311  \n",
       "min       0.000000     10.000000                 1.000000   330.000000  \n",
       "25%     980.000000    200.000000                 1.250000   500.000000  \n",
       "50%    1440.000000    365.000000                 4.000000  1000.000000  \n",
       "75%    1990.000000    582.500000                 6.750000  1000.000000  \n",
       "max    9021.000000   4000.000000                18.000000  1000.000000  "
      ]
     },
     "execution_count": 12,
     "metadata": {},
     "output_type": "execute_result"
    }
   ],
   "source": [
    "acids_df.select_dtypes(include=['float64', 'int64']).describe()"
   ]
  },
  {
   "cell_type": "code",
   "execution_count": 13,
   "id": "fee41869",
   "metadata": {},
   "outputs": [
    {
     "data": {
      "text/html": [
       "<div>\n",
       "<style scoped>\n",
       "    .dataframe tbody tr th:only-of-type {\n",
       "        vertical-align: middle;\n",
       "    }\n",
       "\n",
       "    .dataframe tbody tr th {\n",
       "        vertical-align: top;\n",
       "    }\n",
       "\n",
       "    .dataframe thead th {\n",
       "        text-align: right;\n",
       "    }\n",
       "</style>\n",
       "<table border=\"1\" class=\"dataframe\">\n",
       "  <thead>\n",
       "    <tr style=\"text-align: right;\">\n",
       "      <th></th>\n",
       "      <th>Количество в упаковке</th>\n",
       "      <th>Количество порций</th>\n",
       "      <th>Срок годности, мес.</th>\n",
       "      <th>price</th>\n",
       "      <th>Вес нетто, г</th>\n",
       "      <th>Белок: грамм в 1 порции</th>\n",
       "      <th>Объем, мл</th>\n",
       "    </tr>\n",
       "  </thead>\n",
       "  <tbody>\n",
       "    <tr>\n",
       "      <th>Количество в упаковке</th>\n",
       "      <td>1.000000</td>\n",
       "      <td>0.141681</td>\n",
       "      <td>0.061977</td>\n",
       "      <td>0.290498</td>\n",
       "      <td>0.810803</td>\n",
       "      <td>0.972426</td>\n",
       "      <td>0.905564</td>\n",
       "    </tr>\n",
       "    <tr>\n",
       "      <th>Количество порций</th>\n",
       "      <td>0.141681</td>\n",
       "      <td>1.000000</td>\n",
       "      <td>0.053956</td>\n",
       "      <td>0.250013</td>\n",
       "      <td>0.120006</td>\n",
       "      <td>-0.689681</td>\n",
       "      <td>0.955909</td>\n",
       "    </tr>\n",
       "    <tr>\n",
       "      <th>Срок годности, мес.</th>\n",
       "      <td>0.061977</td>\n",
       "      <td>0.053956</td>\n",
       "      <td>1.000000</td>\n",
       "      <td>0.080538</td>\n",
       "      <td>0.050847</td>\n",
       "      <td>-0.515530</td>\n",
       "      <td>0.485280</td>\n",
       "    </tr>\n",
       "    <tr>\n",
       "      <th>price</th>\n",
       "      <td>0.290498</td>\n",
       "      <td>0.250013</td>\n",
       "      <td>0.080538</td>\n",
       "      <td>1.000000</td>\n",
       "      <td>0.322934</td>\n",
       "      <td>0.132576</td>\n",
       "      <td>0.467081</td>\n",
       "    </tr>\n",
       "    <tr>\n",
       "      <th>Вес нетто, г</th>\n",
       "      <td>0.810803</td>\n",
       "      <td>0.120006</td>\n",
       "      <td>0.050847</td>\n",
       "      <td>0.322934</td>\n",
       "      <td>1.000000</td>\n",
       "      <td>0.979351</td>\n",
       "      <td>NaN</td>\n",
       "    </tr>\n",
       "    <tr>\n",
       "      <th>Белок: грамм в 1 порции</th>\n",
       "      <td>0.972426</td>\n",
       "      <td>-0.689681</td>\n",
       "      <td>-0.515530</td>\n",
       "      <td>0.132576</td>\n",
       "      <td>0.979351</td>\n",
       "      <td>1.000000</td>\n",
       "      <td>NaN</td>\n",
       "    </tr>\n",
       "    <tr>\n",
       "      <th>Объем, мл</th>\n",
       "      <td>0.905564</td>\n",
       "      <td>0.955909</td>\n",
       "      <td>0.485280</td>\n",
       "      <td>0.467081</td>\n",
       "      <td>NaN</td>\n",
       "      <td>NaN</td>\n",
       "      <td>1.000000</td>\n",
       "    </tr>\n",
       "  </tbody>\n",
       "</table>\n",
       "</div>"
      ],
      "text/plain": [
       "                         Количество в упаковке  Количество порций  \\\n",
       "Количество в упаковке                 1.000000           0.141681   \n",
       "Количество порций                     0.141681           1.000000   \n",
       "Срок годности, мес.                   0.061977           0.053956   \n",
       "price                                 0.290498           0.250013   \n",
       "Вес нетто, г                          0.810803           0.120006   \n",
       "Белок: грамм в 1 порции               0.972426          -0.689681   \n",
       "Объем, мл                             0.905564           0.955909   \n",
       "\n",
       "                         Срок годности, мес.     price  Вес нетто, г  \\\n",
       "Количество в упаковке               0.061977  0.290498      0.810803   \n",
       "Количество порций                   0.053956  0.250013      0.120006   \n",
       "Срок годности, мес.                 1.000000  0.080538      0.050847   \n",
       "price                               0.080538  1.000000      0.322934   \n",
       "Вес нетто, г                        0.050847  0.322934      1.000000   \n",
       "Белок: грамм в 1 порции            -0.515530  0.132576      0.979351   \n",
       "Объем, мл                           0.485280  0.467081           NaN   \n",
       "\n",
       "                         Белок: грамм в 1 порции  Объем, мл  \n",
       "Количество в упаковке                   0.972426   0.905564  \n",
       "Количество порций                      -0.689681   0.955909  \n",
       "Срок годности, мес.                    -0.515530   0.485280  \n",
       "price                                   0.132576   0.467081  \n",
       "Вес нетто, г                            0.979351        NaN  \n",
       "Белок: грамм в 1 порции                 1.000000        NaN  \n",
       "Объем, мл                                    NaN   1.000000  "
      ]
     },
     "execution_count": 13,
     "metadata": {},
     "output_type": "execute_result"
    }
   ],
   "source": [
    "acids_df.select_dtypes(include=['float64', 'int64']).corr()"
   ]
  },
  {
   "cell_type": "markdown",
   "id": "de2ee414",
   "metadata": {},
   "source": [
    "## Анализ численных полей"
   ]
  },
  {
   "cell_type": "markdown",
   "id": "13a0bbd3",
   "metadata": {},
   "source": [
    "На странице выводятся описательные статистики, гистограмма, столбчатая диаграмма с выбором категориального поля, scatter plot с выбором второго количественного поля по оси х"
   ]
  },
  {
   "cell_type": "code",
   "execution_count": 14,
   "id": "fb7700f4",
   "metadata": {},
   "outputs": [
    {
     "data": {
      "text/plain": [
       "count     926.000000\n",
       "mean     1585.749460\n",
       "std       948.210563\n",
       "min         0.000000\n",
       "25%       980.000000\n",
       "50%      1440.000000\n",
       "75%      1990.000000\n",
       "max      9021.000000\n",
       "Name: price, dtype: float64"
      ]
     },
     "execution_count": 14,
     "metadata": {},
     "output_type": "execute_result"
    }
   ],
   "source": [
    "acids_df['price'].describe()"
   ]
  },
  {
   "cell_type": "code",
   "execution_count": 15,
   "id": "7c57e43f",
   "metadata": {},
   "outputs": [
    {
     "data": {
      "text/plain": [
       "<AxesSubplot: >"
      ]
     },
     "execution_count": 15,
     "metadata": {},
     "output_type": "execute_result"
    },
    {
     "data": {
      "image/png": "[encoded data removed]",
      "text/plain": [
       "<Figure size 640x480 with 1 Axes>"
      ]
     },
     "metadata": {},
     "output_type": "display_data"
    }
   ],
   "source": [
    "acids_df['price'].hist()"
   ]
  },
  {
   "cell_type": "code",
   "execution_count": 16,
   "id": "bd8950c3",
   "metadata": {},
   "outputs": [
    {
     "data": {
      "application/vnd.plotly.v1+json": {
       "config": {
        "plotlyServerURL": "https://plot.ly"
       },
       "data": [
        {
         "alignmentgroup": "True",
         "hovertemplate": "Форма выпуска=%{x}<br>price=%{y}<extra></extra>",
         "legendgroup": "",
         "marker": {
          "color": "#636efa",
          "pattern": {
           "shape": ""
          }
         },
         "name": "",
         "offsetgroup": "",
         "orientation": "v",
         "showlegend": false,
         "textposition": "auto",
         "type": "bar",
         "x": [
          "таблетки",
          "капсулы",
          "капсулы",
          "капсулы",
          "порошок",
          "капсулы",
          "капсулы",
          "жидкость",
          "жидкость",
          "порошок",
          "капсулы",
          "порошок",
          "каплеты",
          "жидкость",
          null,
          "порошок",
          "жидкость",
          null,
          "капсулы",
          "капсулы",
          "таблетки",
          "порошок",
          "порошок",
          "капсулы",
          "таблетки",
          "капсулы",
          "порошок",
          "порошок",
          "капсулы",
          "порошок",
          "капсулы",
          "таблетки",
          "капсулы",
          "порошок",
          "таблетки",
          "капсулы",
          "порошок",
          "капсулы",
          "ампулы",
          "ампулы",
          "ампулы",
          "капсулы",
          "капсулы",
          "ампулы",
          "таблетки",
          "ампулы",
          "ампулы",
          "капсулы",
          "каплеты",
          "таблетки",
          "пакетики",
          "порошок",
          "порошок",
          "порошок",
          "капсулы",
          "капсулы",
          "порошок",
          "таблетки",
          "капсулы",
          null,
          "капсулы",
          "таблетки",
          null,
          "порошок",
          "жидкость",
          "ампулы",
          "ампулы",
          "порошок",
          "капсулы",
          "порошок",
          "порошок",
          "порошок",
          "капсулы",
          "таблетки",
          "таблетки",
          "порошок",
          "порошок",
          "капсулы",
          "капсулы",
          "порошок",
          "порошок",
          "порошок",
          "жидкость",
          "жидкость",
          "капсулы",
          "капсулы",
          "порошок",
          "порошок",
          "порошок",
          "ампулы",
          "порошок",
          "порошок",
          "капсулы",
          "капсулы",
          "капсулы",
          "капсулы",
          "порошок",
          "капсулы",
          "таблетки",
          "порошок",
          "капсулы",
          "жидкость",
          "капсулы",
          "порошок",
          "жидкость",
          "капсулы",
          "порошок",
          "жидкость",
          "пакетики",
          "капсулы",
          "порошок",
          "порошок",
          "таблетки",
          "порошок",
          "ампулы",
          "порошок",
          "порошок",
          "жидкость",
          "капсулы",
          "жидкость",
          "капсулы",
          "порошок",
          "капсулы",
          "ампулы",
          "таблетки",
          "порошок",
          "таблетки",
          "жидкость",
          "капсулы",
          "порошок",
          "капсулы",
          "порошок",
          "капсулы",
          "капсулы",
          "капсулы",
          "порошок",
          "капсулы",
          "порошок",
          "жидкость",
          "порошок",
          null,
          "порошок",
          "капсулы",
          "жидкость",
          "жидкость",
          "капсулы",
          "жидкость",
          "порошок",
          "порошок",
          "порошок",
          "порошок",
          "капсулы",
          "порошок",
          "порошок",
          "порошок",
          "капсулы",
          "порошок",
          "таблетки",
          "капсулы",
          "порошок",
          "порошок",
          "порошок",
          "порошок",
          "порошок",
          "порошок",
          "ампулы",
          "капсулы",
          "капсулы",
          "капсулы",
          "ампулы",
          "жидкость",
          "капсулы",
          "ампулы",
          "капсулы",
          "ампулы",
          "капсулы",
          "порошок",
          "капсулы",
          "капсулы",
          "капсулы",
          "капсулы",
          "жидкость",
          "таблетки",
          "порошок",
          "капсулы",
          "жидкость",
          "ампулы",
          "порошок",
          "таблетки",
          "порошок",
          null,
          "капсулы",
          null,
          "капсулы",
          "порошок",
          "капсулы",
          "капсулы",
          "жидкость",
          "капсулы",
          "порошок",
          "жидкость",
          "капсулы",
          "таблетки",
          "порошок",
          "капсулы",
          "порошок",
          "капсулы",
          "порошок",
          "порошок",
          "жидкость",
          "жидкость",
          "капсулы",
          "ампулы",
          "капсулы",
          "ампулы",
          "таблетки",
          "капсулы",
          "таблетки",
          "капсулы",
          "жидкость",
          "капсулы",
          "капсулы",
          "порошок",
          "капсулы",
          "порошок",
          "капсулы",
          "капсулы",
          null,
          "таблетки",
          null,
          "порошок",
          "капсулы",
          "капсулы",
          "порошок",
          "жидкость",
          "жидкость",
          "пакетики",
          "капсулы",
          "капсулы",
          "жидкость",
          "капсулы",
          "таблетки",
          "порошок",
          "таблетки",
          "капсулы",
          "таблетки",
          "капсулы",
          "жидкость",
          "капсулы",
          "порошок",
          "капсулы",
          "капсулы",
          "порошок",
          "капсулы",
          "капсулы",
          "капсулы",
          "капсулы",
          "капсулы",
          "порошок",
          "таблетки",
          "порошок",
          "капсулы",
          "ампулы",
          "капсулы",
          "капсулы",
          "таблетки",
          "капсулы",
          "капсулы",
          "порошок",
          "порошок",
          "каплеты",
          null,
          "капсулы",
          "порошок",
          "порошок",
          "порошок",
          "порошок",
          "порошок",
          "порошок",
          "капсулы",
          "капсулы",
          "капсулы",
          "порошок",
          "порошок",
          "порошок",
          "капсулы",
          "порошок",
          "порошок",
          "порошок",
          "таблетки",
          "порошок",
          "порошок",
          "капсулы",
          "капсулы",
          "таблетки",
          "порошок",
          "таблетки",
          "порошок",
          "таблетки",
          "таблетки",
          "таблетки",
          "капсулы",
          null,
          null,
          null,
          null,
          null,
          null,
          null,
          null,
          null,
          null,
          null,
          null,
          null,
          null,
          null,
          null,
          null,
          null,
          null,
          null,
          null,
          null,
          null,
          null,
          null,
          null,
          null,
          null,
          null,
          null,
          null,
          null,
          null,
          null,
          null,
          null,
          null,
          null,
          null,
          null,
          null,
          null,
          null,
          null,
          null,
          null,
          null,
          null,
          null,
          null,
          null,
          null,
          "порошок",
          "порошок",
          null,
          null,
          null,
          null,
          null,
          null,
          null,
          null,
          null,
          "порошок",
          null,
          null,
          null,
          null,
          null,
          null,
          null,
          null,
          "порошок",
          null,
          null,
          null,
          null,
          null,
          null,
          null,
          null,
          null,
          null,
          null,
          "порошок",
          null,
          null,
          null,
          null,
          null,
          null,
          null,
          null,
          null,
          null,
          null,
          null,
          "порошок",
          null,
          null,
          null,
          null,
          null,
          null,
          null,
          null,
          null,
          null,
          null,
          null,
          null,
          null,
          "ампулы",
          null,
          null,
          null,
          null,
          null,
          "таблетки",
          null,
          null,
          null,
          null,
          null,
          null,
          null,
          null,
          null,
          null,
          null,
          null,
          null,
          "жидкость",
          null,
          "порошок",
          "порошок",
          null,
          null,
          null,
          null,
          null,
          null,
          null,
          null,
          null,
          null,
          null,
          null,
          null,
          null,
          null,
          null,
          null,
          null,
          null,
          null,
          null,
          null,
          null,
          null,
          null,
          null,
          null,
          null,
          null,
          null,
          null,
          "батончик",
          null,
          null,
          null,
          null,
          null,
          null,
          null,
          null,
          null,
          null,
          null,
          null,
          null,
          null,
          null,
          null,
          null,
          null,
          null,
          null,
          null,
          null,
          null,
          null,
          null,
          null,
          null,
          null,
          null,
          null,
          null,
          null,
          null,
          null,
          null,
          "порошок",
          null,
          null,
          null,
          null,
          null,
          null,
          null,
          null,
          null,
          null,
          null,
          null,
          null,
          null,
          null,
          null,
          null,
          null,
          null,
          null,
          null,
          null,
          null,
          "капсулы",
          null,
          null,
          null,
          null,
          null,
          null,
          null,
          null,
          null,
          null,
          null,
          null,
          "порошок",
          null,
          null,
          null,
          null,
          null,
          null,
          "порошок",
          null,
          null,
          null,
          null,
          null,
          null,
          "порошок",
          null,
          null,
          null,
          null,
          null,
          null,
          null,
          null,
          null,
          null,
          null,
          null,
          null,
          null,
          "порошок",
          "порошок",
          null,
          null,
          "порошок",
          null,
          null,
          null,
          null,
          null,
          null,
          null,
          null,
          null,
          null,
          null,
          null,
          null,
          null,
          null,
          null,
          null,
          null,
          null,
          null,
          null,
          null,
          null,
          null,
          null,
          null,
          null,
          null,
          null,
          null,
          null,
          null,
          null,
          null,
          null,
          null,
          null,
          null,
          null,
          null,
          null,
          null,
          null,
          null,
          "порошок",
          null,
          null,
          null,
          null,
          null,
          "жидкость",
          null,
          null,
          null,
          null,
          null,
          null,
          null,
          null,
          null,
          null,
          null,
          null,
          "порошок",
          null,
          null,
          null,
          null,
          null,
          null,
          null,
          null,
          null,
          null,
          null,
          null,
          null,
          "порошок",
          null,
          null,
          null,
          null,
          "порошок",
          null,
          null,
          null,
          null,
          null,
          null,
          null,
          null,
          null,
          null,
          "капсулы",
          "порошок",
          null,
          "капсулы",
          "капсулы",
          null,
          null,
          null,
          null,
          "таблетки",
          null,
          null,
          null,
          null,
          "таблетки",
          null,
          null,
          "порошок",
          null,
          null,
          null,
          null,
          null,
          null,
          "капсулы",
          null,
          null,
          null,
          "таблетки",
          null,
          null,
          null,
          null,
          null,
          null,
          null,
          null,
          "порошок",
          "таблетки",
          null,
          null,
          null,
          null,
          "капсулы",
          null,
          null,
          null,
          null,
          "порошок",
          null,
          null,
          null,
          "капсулы",
          null,
          null,
          "порошок",
          null,
          "жидкость",
          null,
          null,
          "капсулы",
          null,
          "капсулы",
          "таблетки",
          null,
          null,
          null,
          "таблетки",
          null,
          null,
          "порошок",
          "таблетки",
          null,
          null,
          null,
          null,
          null,
          null,
          "ампулы",
          null,
          null,
          null,
          "порошок",
          null,
          null,
          null,
          null,
          null,
          null,
          "порошок",
          null,
          null,
          null,
          null,
          null,
          null,
          null,
          null,
          null,
          null,
          null,
          "порошок",
          null,
          "таблетки",
          null,
          null,
          null,
          null,
          null,
          null,
          null,
          "капсулы",
          null,
          null,
          null,
          null,
          "порошок",
          null,
          null,
          null,
          null,
          "таблетки",
          null,
          "порошок",
          "порошок",
          null,
          "таблетки",
          "порошок",
          null,
          null,
          "капсулы",
          null,
          null,
          null,
          null,
          null,
          "жидкость",
          "порошок",
          "таблетки",
          null,
          "жидкость",
          "капсулы",
          "капсулы",
          "порошок",
          null,
          null,
          null,
          "порошок",
          null,
          null,
          null,
          "порошок",
          "порошок",
          "капсулы",
          "таблетки",
          null,
          null,
          "капсулы",
          "порошок",
          "капсулы",
          "таблетки",
          null,
          "капсулы",
          "порошок",
          "жидкость",
          null,
          "капсулы",
          "капсулы",
          null,
          "таблетки",
          null,
          null,
          null,
          "жидкость",
          null,
          "порошок",
          "капсулы",
          "жидкость",
          null,
          "жидкость",
          null,
          "капсулы",
          "таблетки",
          "порошок",
          "капсулы",
          null,
          null,
          "таблетки",
          null,
          null,
          "капсулы",
          "капсулы",
          null,
          null,
          "порошок",
          "порошок",
          "порошок",
          "капсулы",
          "порошок",
          "таблетки",
          null,
          null,
          "капсулы",
          "порошок",
          "порошок",
          "капсулы",
          null,
          "порошок",
          null,
          "порошок",
          "порошок",
          "порошок",
          "порошок",
          "капсулы",
          null,
          "капсулы",
          "порошок",
          "порошок",
          null,
          "таблетки",
          "жидкость",
          "порошок",
          "капсулы",
          "порошок",
          null,
          "порошок",
          "порошок",
          "таблетки",
          "капсулы",
          "порошок",
          "порошок",
          "капсулы",
          "таблетки",
          "порошок",
          "таблетки",
          null,
          null,
          "порошок",
          "капсулы",
          null,
          null,
          "порошок",
          "порошок",
          "капсулы",
          "порошок",
          "порошок",
          "порошок",
          "таблетки",
          "таблетки",
          "порошок",
          "порошок",
          "порошок",
          null,
          "капсулы",
          "капсулы",
          "порошок",
          null
         ],
         "xaxis": "x",
         "y": [
          1490,
          690,
          790,
          8090,
          1963,
          720,
          1140,
          1680,
          1490,
          1190,
          3240,
          1770,
          830,
          170,
          1010,
          1193,
          210,
          140,
          1420,
          510,
          2070,
          1260,
          1430,
          2950,
          1670,
          690,
          2360,
          1900,
          980,
          1050,
          880,
          1135,
          1410,
          1160,
          2750,
          1520,
          1850,
          3290,
          2580,
          129,
          180,
          1530,
          1020,
          180,
          1490,
          2000,
          3600,
          1670,
          1350,
          1650,
          80,
          4460,
          3660,
          2170,
          820,
          910,
          1170,
          2240,
          1130,
          1950,
          1520,
          1190,
          110,
          1590,
          1340,
          1540,
          126,
          2850,
          2370,
          3420,
          1040,
          1790,
          1639,
          1460,
          2280,
          1960,
          1520,
          2210,
          1640,
          2030,
          1890,
          1410,
          1612,
          2650,
          1620,
          1650,
          2010,
          2660,
          640,
          2520,
          1180,
          4210,
          750,
          1770,
          1230,
          1340,
          3320,
          3220,
          2890,
          1828,
          1290,
          1440,
          990,
          2050,
          1880,
          3290,
          1980,
          1380,
          610,
          1161,
          2220,
          1910,
          3950,
          820,
          2200,
          860,
          1882,
          1360,
          4250,
          1860,
          1610,
          1690,
          1550,
          2380,
          1390,
          2620,
          880,
          140,
          1540,
          490,
          980,
          760,
          1540,
          1351,
          830,
          2250,
          1010,
          820,
          3360,
          1530,
          2490,
          890,
          1230,
          2640,
          2650,
          1850,
          2130,
          2390,
          2990,
          1780,
          3230,
          3540,
          3380,
          1990,
          2220,
          1450,
          1830,
          2340,
          1350,
          790,
          1410,
          1650,
          1620,
          2990,
          1720,
          2200,
          1350,
          615,
          2030,
          2200,
          2130,
          1268,
          140,
          1241,
          110,
          1340,
          690,
          1250,
          526,
          960,
          690,
          2160,
          1079,
          2150,
          770,
          1760,
          1100,
          2030,
          1330,
          1520,
          190,
          510,
          740,
          518,
          3340,
          810,
          1265,
          1410,
          963,
          1960,
          1250,
          890,
          2650,
          780,
          690,
          1050,
          2630,
          2090,
          3680,
          460,
          250,
          1890,
          2400,
          1490,
          55,
          1620,
          850,
          2130,
          2230,
          1680,
          1150,
          3350,
          1390,
          1040,
          1950,
          1790,
          1170,
          1198,
          3290,
          1990,
          1540,
          1110,
          980,
          2474,
          2290,
          1450,
          3200,
          2870,
          1180,
          1430,
          1810,
          820,
          2843,
          1680,
          1310,
          1980,
          2740,
          2670,
          1200,
          1450,
          1430,
          1570,
          850,
          2510,
          2061,
          4390,
          1120,
          1260,
          1480,
          3420,
          1090,
          2090,
          3600,
          930,
          1520,
          1570,
          1260,
          2860,
          890,
          2020,
          1260,
          1040,
          1241,
          1110,
          2370,
          4480,
          2590,
          3020,
          1081,
          1760,
          790,
          990,
          2410,
          3990,
          4760,
          2290,
          3170,
          1550,
          1520,
          3010,
          2230,
          1160,
          2630,
          2230,
          3830,
          1833,
          1690,
          9021,
          3020,
          2150,
          1327,
          1840,
          1220,
          1250,
          1420,
          950,
          1200,
          210,
          2200,
          1588,
          1540,
          1590,
          73,
          1230,
          530,
          1100,
          2340,
          1100,
          1470,
          0,
          1600,
          1900,
          1920,
          1450,
          660,
          1100,
          1120,
          1290,
          1690,
          1430,
          1720,
          910,
          2650,
          3240,
          690,
          1430,
          1720,
          4530,
          30,
          1370,
          628,
          890,
          1020,
          580,
          2110,
          1170,
          1480,
          70,
          900,
          1730,
          2130,
          50,
          1900,
          1130,
          1790,
          1290,
          980,
          1600,
          1310,
          1380,
          1780,
          1540,
          1690,
          70,
          850,
          1190,
          2640,
          2300,
          2090,
          2600,
          1190,
          1950,
          1800,
          230,
          1290,
          880,
          830,
          1290,
          2140,
          710,
          1210,
          1330,
          600,
          1550,
          1290,
          700,
          970,
          1290,
          3490,
          400,
          690,
          720,
          1588,
          1730,
          1990,
          2070,
          1108,
          980,
          1470,
          1290,
          1290,
          70,
          3110,
          1490,
          1750,
          1588,
          1390,
          700,
          798,
          1148,
          2100,
          1170,
          1370,
          840,
          1368,
          1290,
          490,
          1290,
          1980,
          1580,
          840,
          740,
          1160,
          740,
          1070,
          1750,
          628,
          1390,
          1690,
          0,
          1690,
          1990,
          1210,
          160,
          69,
          1198,
          1400,
          1790,
          1190,
          810,
          1440,
          1600,
          470,
          1440,
          950,
          1849,
          970,
          1910,
          790,
          1540,
          1090,
          80,
          1100,
          1588,
          520,
          790,
          1500,
          1220,
          1990,
          1170,
          1660,
          1800,
          620,
          3340,
          2550,
          910,
          2400,
          870,
          930,
          40,
          1090,
          2030,
          1770,
          1080,
          1390,
          1500,
          690,
          510,
          890,
          1410,
          1640,
          1850,
          1590,
          1640,
          650,
          0,
          2300,
          700,
          2690,
          2130,
          1660,
          560,
          1390,
          0,
          2090,
          0,
          730,
          150,
          1390,
          1130,
          280,
          440,
          990,
          70,
          1590,
          890,
          1440,
          1590,
          1580,
          790,
          2650,
          2250,
          1550,
          1180,
          2290,
          900,
          620,
          1150,
          2240,
          1570,
          350,
          1520,
          960,
          2630,
          1260,
          3598,
          1680,
          2160,
          910,
          1330,
          1390,
          100,
          1190,
          350,
          2890,
          760,
          2380,
          1540,
          830,
          670,
          1720,
          970,
          890,
          890,
          1990,
          1710,
          590,
          710,
          680,
          990,
          910,
          700,
          1340,
          650,
          570,
          1440,
          1275,
          3100,
          1950,
          2900,
          1190,
          1480,
          740,
          2660,
          1060,
          1740,
          1840,
          1490,
          2660,
          1310,
          2190,
          1630,
          950,
          630,
          870,
          1260,
          770,
          1810,
          990,
          1810,
          2490,
          2560,
          190,
          1580,
          1690,
          1440,
          460,
          3890,
          1100,
          3590,
          1800,
          1219,
          1760,
          3660,
          890,
          1290,
          800,
          990,
          1650,
          3490,
          590,
          1990,
          2350,
          2490,
          1200,
          1540,
          530,
          1390,
          1970,
          2200,
          1680,
          600,
          1,
          690,
          590,
          1500,
          780,
          1390,
          1330,
          730,
          1260,
          750,
          1070,
          900,
          1990,
          1270,
          2870,
          580,
          690,
          70,
          2230,
          1190,
          790,
          1770,
          2489,
          1520,
          1620,
          2770,
          790,
          2630,
          1240,
          480,
          1780,
          1240,
          1590,
          2330,
          2490,
          1680,
          2120,
          1730,
          1980,
          2040,
          390,
          690,
          2090,
          1440,
          1210,
          1050,
          1610,
          1580,
          540,
          2190,
          1680,
          490,
          1230,
          1940,
          1290,
          1420,
          1110,
          2030,
          840,
          1290,
          940,
          1390,
          420,
          1780,
          1160,
          1860,
          780,
          1190,
          1590,
          1540,
          1480,
          1790,
          2490,
          1190,
          1260,
          710,
          4600,
          1030,
          1890,
          1290,
          890,
          1130,
          690,
          2250,
          4100,
          938,
          2430,
          2110,
          1380,
          2100,
          1090,
          940,
          70,
          1490,
          1220,
          290,
          2690,
          2030,
          990,
          1090,
          1240,
          2260,
          990,
          450,
          1390,
          1190,
          750,
          1690,
          1990,
          1970,
          1440,
          900,
          1370,
          1890,
          1090,
          2150,
          690,
          1970,
          980,
          690,
          560,
          890,
          790,
          2090,
          773,
          1890,
          1450,
          1460,
          908,
          2490,
          1230,
          1990,
          2050,
          1780,
          690,
          1290,
          1730,
          890,
          1690,
          1190,
          620,
          2020,
          1920,
          1180,
          1240,
          788,
          890,
          640,
          2140,
          90,
          1770,
          1310,
          1990,
          400,
          2650,
          1090,
          1160,
          1190,
          3020,
          2130,
          640,
          1740,
          1570,
          2820,
          90,
          2010,
          590,
          1090,
          1530,
          1239,
          1290,
          3420,
          1290,
          1840,
          1970,
          1488,
          2488,
          890,
          290,
          990,
          1620,
          4020,
          2290,
          1240,
          3290,
          390,
          1170,
          1290,
          1650,
          790,
          1530,
          2110,
          1490,
          990,
          2090,
          3130,
          2290,
          4530,
          710,
          1570,
          3590,
          1690,
          2190,
          380,
          580,
          660,
          2210,
          990,
          1230,
          3450,
          3510,
          7390,
          740,
          3190,
          1130,
          1137,
          1190,
          1390,
          1490,
          1910,
          2280,
          2560,
          1660,
          1430,
          1990,
          990,
          990,
          1740,
          840,
          850,
          1810,
          1920,
          590,
          1750,
          1540,
          720,
          1440,
          780,
          1290,
          1180,
          2509,
          1030,
          1090,
          840,
          1930,
          2140,
          1790,
          2240,
          2050,
          3730,
          3740,
          2420,
          690,
          579,
          1190,
          990,
          1390,
          1290,
          1170,
          644,
          1343,
          3340,
          2580,
          790,
          3550,
          890,
          1350,
          2490,
          4990,
          1490,
          1231,
          1490,
          1880,
          3550,
          2211,
          740,
          1390,
          2240,
          1590,
          1050,
          2025,
          2030,
          1390,
          4170,
          1290,
          1630,
          890,
          2940,
          978,
          2690,
          3020,
          1570,
          2290,
          3360,
          776,
          1740,
          1790,
          3280,
          1090,
          1690,
          3590,
          3310,
          1990,
          2590,
          3060,
          3440,
          3150,
          5950,
          1990,
          1120,
          1240,
          1510,
          1390,
          990
         ],
         "yaxis": "y"
        }
       ],
       "layout": {
        "barmode": "relative",
        "legend": {
         "tracegroupgap": 0
        },
        "margin": {
         "t": 60
        },
        "template": {
         "data": {
          "bar": [
           {
            "error_x": {
             "color": "#2a3f5f"
            },
            "error_y": {
             "color": "#2a3f5f"
            },
            "marker": {
             "line": {
              "color": "#E5ECF6",
              "width": 0.5
             },
             "pattern": {
              "fillmode": "overlay",
              "size": 10,
              "solidity": 0.2
             }
            },
            "type": "bar"
           }
          ],
          "barpolar": [
           {
            "marker": {
             "line": {
              "color": "#E5ECF6",
              "width": 0.5
             },
             "pattern": {
              "fillmode": "overlay",
              "size": 10,
              "solidity": 0.2
             }
            },
            "type": "barpolar"
           }
          ],
          "carpet": [
           {
            "aaxis": {
             "endlinecolor": "#2a3f5f",
             "gridcolor": "white",
             "linecolor": "white",
             "minorgridcolor": "white",
             "startlinecolor": "#2a3f5f"
            },
            "baxis": {
             "endlinecolor": "#2a3f5f",
             "gridcolor": "white",
             "linecolor": "white",
             "minorgridcolor": "white",
             "startlinecolor": "#2a3f5f"
            },
            "type": "carpet"
           }
          ],
          "choropleth": [
           {
            "colorbar": {
             "outlinewidth": 0,
             "ticks": ""
            },
            "type": "choropleth"
           }
          ],
          "contour": [
           {
            "colorbar": {
             "outlinewidth": 0,
             "ticks": ""
            },
            "colorscale": [
             [
              0,
              "#0d0887"
             ],
             [
              0.1111111111111111,
              "#46039f"
             ],
             [
              0.2222222222222222,
              "#7201a8"
             ],
             [
              0.3333333333333333,
              "#9c179e"
             ],
             [
              0.4444444444444444,
              "#bd3786"
             ],
             [
              0.5555555555555556,
              "#d8576b"
             ],
             [
              0.6666666666666666,
              "#ed7953"
             ],
             [
              0.7777777777777778,
              "#fb9f3a"
             ],
             [
              0.8888888888888888,
              "#fdca26"
             ],
             [
              1,
              "#f0f921"
             ]
            ],
            "type": "contour"
           }
          ],
          "contourcarpet": [
           {
            "colorbar": {
             "outlinewidth": 0,
             "ticks": ""
            },
            "type": "contourcarpet"
           }
          ],
          "heatmap": [
           {
            "colorbar": {
             "outlinewidth": 0,
             "ticks": ""
            },
            "colorscale": [
             [
              0,
              "#0d0887"
             ],
             [
              0.1111111111111111,
              "#46039f"
             ],
             [
              0.2222222222222222,
              "#7201a8"
             ],
             [
              0.3333333333333333,
              "#9c179e"
             ],
             [
              0.4444444444444444,
              "#bd3786"
             ],
             [
              0.5555555555555556,
              "#d8576b"
             ],
             [
              0.6666666666666666,
              "#ed7953"
             ],
             [
              0.7777777777777778,
              "#fb9f3a"
             ],
             [
              0.8888888888888888,
              "#fdca26"
             ],
             [
              1,
              "#f0f921"
             ]
            ],
            "type": "heatmap"
           }
          ],
          "heatmapgl": [
           {
            "colorbar": {
             "outlinewidth": 0,
             "ticks": ""
            },
            "colorscale": [
             [
              0,
              "#0d0887"
             ],
             [
              0.1111111111111111,
              "#46039f"
             ],
             [
              0.2222222222222222,
              "#7201a8"
             ],
             [
              0.3333333333333333,
              "#9c179e"
             ],
             [
              0.4444444444444444,
              "#bd3786"
             ],
             [
              0.5555555555555556,
              "#d8576b"
             ],
             [
              0.6666666666666666,
              "#ed7953"
             ],
             [
              0.7777777777777778,
              "#fb9f3a"
             ],
             [
              0.8888888888888888,
              "#fdca26"
             ],
             [
              1,
              "#f0f921"
             ]
            ],
            "type": "heatmapgl"
           }
          ],
          "histogram": [
           {
            "marker": {
             "pattern": {
              "fillmode": "overlay",
              "size": 10,
              "solidity": 0.2
             }
            },
            "type": "histogram"
           }
          ],
          "histogram2d": [
           {
            "colorbar": {
             "outlinewidth": 0,
             "ticks": ""
            },
            "colorscale": [
             [
              0,
              "#0d0887"
             ],
             [
              0.1111111111111111,
              "#46039f"
             ],
             [
              0.2222222222222222,
              "#7201a8"
             ],
             [
              0.3333333333333333,
              "#9c179e"
             ],
             [
              0.4444444444444444,
              "#bd3786"
             ],
             [
              0.5555555555555556,
              "#d8576b"
             ],
             [
              0.6666666666666666,
              "#ed7953"
             ],
             [
              0.7777777777777778,
              "#fb9f3a"
             ],
             [
              0.8888888888888888,
              "#fdca26"
             ],
             [
              1,
              "#f0f921"
             ]
            ],
            "type": "histogram2d"
           }
          ],
          "histogram2dcontour": [
           {
            "colorbar": {
             "outlinewidth": 0,
             "ticks": ""
            },
            "colorscale": [
             [
              0,
              "#0d0887"
             ],
             [
              0.1111111111111111,
              "#46039f"
             ],
             [
              0.2222222222222222,
              "#7201a8"
             ],
             [
              0.3333333333333333,
              "#9c179e"
             ],
             [
              0.4444444444444444,
              "#bd3786"
             ],
             [
              0.5555555555555556,
              "#d8576b"
             ],
             [
              0.6666666666666666,
              "#ed7953"
             ],
             [
              0.7777777777777778,
              "#fb9f3a"
             ],
             [
              0.8888888888888888,
              "#fdca26"
             ],
             [
              1,
              "#f0f921"
             ]
            ],
            "type": "histogram2dcontour"
           }
          ],
          "mesh3d": [
           {
            "colorbar": {
             "outlinewidth": 0,
             "ticks": ""
            },
            "type": "mesh3d"
           }
          ],
          "parcoords": [
           {
            "line": {
             "colorbar": {
              "outlinewidth": 0,
              "ticks": ""
             }
            },
            "type": "parcoords"
           }
          ],
          "pie": [
           {
            "automargin": true,
            "type": "pie"
           }
          ],
          "scatter": [
           {
            "fillpattern": {
             "fillmode": "overlay",
             "size": 10,
             "solidity": 0.2
            },
            "type": "scatter"
           }
          ],
          "scatter3d": [
           {
            "line": {
             "colorbar": {
              "outlinewidth": 0,
              "ticks": ""
             }
            },
            "marker": {
             "colorbar": {
              "outlinewidth": 0,
              "ticks": ""
             }
            },
            "type": "scatter3d"
           }
          ],
          "scattercarpet": [
           {
            "marker": {
             "colorbar": {
              "outlinewidth": 0,
              "ticks": ""
             }
            },
            "type": "scattercarpet"
           }
          ],
          "scattergeo": [
           {
            "marker": {
             "colorbar": {
              "outlinewidth": 0,
              "ticks": ""
             }
            },
            "type": "scattergeo"
           }
          ],
          "scattergl": [
           {
            "marker": {
             "colorbar": {
              "outlinewidth": 0,
              "ticks": ""
             }
            },
            "type": "scattergl"
           }
          ],
          "scattermapbox": [
           {
            "marker": {
             "colorbar": {
              "outlinewidth": 0,
              "ticks": ""
             }
            },
            "type": "scattermapbox"
           }
          ],
          "scatterpolar": [
           {
            "marker": {
             "colorbar": {
              "outlinewidth": 0,
              "ticks": ""
             }
            },
            "type": "scatterpolar"
           }
          ],
          "scatterpolargl": [
           {
            "marker": {
             "colorbar": {
              "outlinewidth": 0,
              "ticks": ""
             }
            },
            "type": "scatterpolargl"
           }
          ],
          "scatterternary": [
           {
            "marker": {
             "colorbar": {
              "outlinewidth": 0,
              "ticks": ""
             }
            },
            "type": "scatterternary"
           }
          ],
          "surface": [
           {
            "colorbar": {
             "outlinewidth": 0,
             "ticks": ""
            },
            "colorscale": [
             [
              0,
              "#0d0887"
             ],
             [
              0.1111111111111111,
              "#46039f"
             ],
             [
              0.2222222222222222,
              "#7201a8"
             ],
             [
              0.3333333333333333,
              "#9c179e"
             ],
             [
              0.4444444444444444,
              "#bd3786"
             ],
             [
              0.5555555555555556,
              "#d8576b"
             ],
             [
              0.6666666666666666,
              "#ed7953"
             ],
             [
              0.7777777777777778,
              "#fb9f3a"
             ],
             [
              0.8888888888888888,
              "#fdca26"
             ],
             [
              1,
              "#f0f921"
             ]
            ],
            "type": "surface"
           }
          ],
          "table": [
           {
            "cells": {
             "fill": {
              "color": "#EBF0F8"
             },
             "line": {
              "color": "white"
             }
            },
            "header": {
             "fill": {
              "color": "#C8D4E3"
             },
             "line": {
              "color": "white"
             }
            },
            "type": "table"
           }
          ]
         },
         "layout": {
          "annotationdefaults": {
           "arrowcolor": "#2a3f5f",
           "arrowhead": 0,
           "arrowwidth": 1
          },
          "autotypenumbers": "strict",
          "coloraxis": {
           "colorbar": {
            "outlinewidth": 0,
            "ticks": ""
           }
          },
          "colorscale": {
           "diverging": [
            [
             0,
             "#8e0152"
            ],
            [
             0.1,
             "#c51b7d"
            ],
            [
             0.2,
             "#de77ae"
            ],
            [
             0.3,
             "#f1b6da"
            ],
            [
             0.4,
             "#fde0ef"
            ],
            [
             0.5,
             "#f7f7f7"
            ],
            [
             0.6,
             "#e6f5d0"
            ],
            [
             0.7,
             "#b8e186"
            ],
            [
             0.8,
             "#7fbc41"
            ],
            [
             0.9,
             "#4d9221"
            ],
            [
             1,
             "#276419"
            ]
           ],
           "sequential": [
            [
             0,
             "#0d0887"
            ],
            [
             0.1111111111111111,
             "#46039f"
            ],
            [
             0.2222222222222222,
             "#7201a8"
            ],
            [
             0.3333333333333333,
             "#9c179e"
            ],
            [
             0.4444444444444444,
             "#bd3786"
            ],
            [
             0.5555555555555556,
             "#d8576b"
            ],
            [
             0.6666666666666666,
             "#ed7953"
            ],
            [
             0.7777777777777778,
             "#fb9f3a"
            ],
            [
             0.8888888888888888,
             "#fdca26"
            ],
            [
             1,
             "#f0f921"
            ]
           ],
           "sequentialminus": [
            [
             0,
             "#0d0887"
            ],
            [
             0.1111111111111111,
             "#46039f"
            ],
            [
             0.2222222222222222,
             "#7201a8"
            ],
            [
             0.3333333333333333,
             "#9c179e"
            ],
            [
             0.4444444444444444,
             "#bd3786"
            ],
            [
             0.5555555555555556,
             "#d8576b"
            ],
            [
             0.6666666666666666,
             "#ed7953"
            ],
            [
             0.7777777777777778,
             "#fb9f3a"
            ],
            [
             0.8888888888888888,
             "#fdca26"
            ],
            [
             1,
             "#f0f921"
            ]
           ]
          },
          "colorway": [
           "#636efa",
           "#EF553B",
           "#00cc96",
           "#ab63fa",
           "#FFA15A",
           "#19d3f3",
           "#FF6692",
           "#B6E880",
           "#FF97FF",
           "#FECB52"
          ],
          "font": {
           "color": "#2a3f5f"
          },
          "geo": {
           "bgcolor": "white",
           "lakecolor": "white",
           "landcolor": "#E5ECF6",
           "showlakes": true,
           "showland": true,
           "subunitcolor": "white"
          },
          "hoverlabel": {
           "align": "left"
          },
          "hovermode": "closest",
          "mapbox": {
           "style": "light"
          },
          "paper_bgcolor": "white",
          "plot_bgcolor": "#E5ECF6",
          "polar": {
           "angularaxis": {
            "gridcolor": "white",
            "linecolor": "white",
            "ticks": ""
           },
           "bgcolor": "#E5ECF6",
           "radialaxis": {
            "gridcolor": "white",
            "linecolor": "white",
            "ticks": ""
           }
          },
          "scene": {
           "xaxis": {
            "backgroundcolor": "#E5ECF6",
            "gridcolor": "white",
            "gridwidth": 2,
            "linecolor": "white",
            "showbackground": true,
            "ticks": "",
            "zerolinecolor": "white"
           },
           "yaxis": {
            "backgroundcolor": "#E5ECF6",
            "gridcolor": "white",
            "gridwidth": 2,
            "linecolor": "white",
            "showbackground": true,
            "ticks": "",
            "zerolinecolor": "white"
           },
           "zaxis": {
            "backgroundcolor": "#E5ECF6",
            "gridcolor": "white",
            "gridwidth": 2,
            "linecolor": "white",
            "showbackground": true,
            "ticks": "",
            "zerolinecolor": "white"
           }
          },
          "shapedefaults": {
           "line": {
            "color": "#2a3f5f"
           }
          },
          "ternary": {
           "aaxis": {
            "gridcolor": "white",
            "linecolor": "white",
            "ticks": ""
           },
           "baxis": {
            "gridcolor": "white",
            "linecolor": "white",
            "ticks": ""
           },
           "bgcolor": "#E5ECF6",
           "caxis": {
            "gridcolor": "white",
            "linecolor": "white",
            "ticks": ""
           }
          },
          "title": {
           "x": 0.05
          },
          "xaxis": {
           "automargin": true,
           "gridcolor": "white",
           "linecolor": "white",
           "ticks": "",
           "title": {
            "standoff": 15
           },
           "zerolinecolor": "white",
           "zerolinewidth": 2
          },
          "yaxis": {
           "automargin": true,
           "gridcolor": "white",
           "linecolor": "white",
           "ticks": "",
           "title": {
            "standoff": 15
           },
           "zerolinecolor": "white",
           "zerolinewidth": 2
          }
         }
        },
        "xaxis": {
         "anchor": "y",
         "domain": [
          0,
          1
         ],
         "title": {
          "text": "Форма выпуска"
         }
        },
        "yaxis": {
         "anchor": "x",
         "domain": [
          0,
          1
         ],
         "title": {
          "text": "price"
         }
        }
       }
      },
      "text/html": [
       "<div>                            <div id=\"99b170a8-b0a3-42ba-8d67-d1ec1a43f4ab\" class=\"plotly-graph-div\" style=\"height:525px; width:100%;\"></div>            <script type=\"text/javascript\">                require([\"plotly\"], function(Plotly) {                    window.PLOTLYENV=window.PLOTLYENV || {};                                    if (document.getElementById(\"99b170a8-b0a3-42ba-8d67-d1ec1a43f4ab\")) {                    Plotly.newPlot(                        \"99b170a8-b0a3-42ba-8d67-d1ec1a43f4ab\",                        [{\"alignmentgroup\":\"True\",\"hovertemplate\":\"\\u0424\\u043e\\u0440\\u043c\\u0430 \\u0432\\u044b\\u043f\\u0443\\u0441\\u043a\\u0430=%{x}<br>price=%{y}<extra></extra>\",\"legendgroup\":\"\",\"marker\":{\"color\":\"#636efa\",\"pattern\":{\"shape\":\"\"}},\"name\":\"\",\"offsetgroup\":\"\",\"orientation\":\"v\",\"showlegend\":false,\"textposition\":\"auto\",\"x\":[\"\\u0442\\u0430\\u0431\\u043b\\u0435\\u0442\\u043a\\u0438\",\"\\u043a\\u0430\\u043f\\u0441\\u0443\\u043b\\u044b\",\"\\u043a\\u0430\\u043f\\u0441\\u0443\\u043b\\u044b\",\"\\u043a\\u0430\\u043f\\u0441\\u0443\\u043b\\u044b\",\"\\u043f\\u043e\\u0440\\u043e\\u0448\\u043e\\u043a\",\"\\u043a\\u0430\\u043f\\u0441\\u0443\\u043b\\u044b\",\"\\u043a\\u0430\\u043f\\u0441\\u0443\\u043b\\u044b\",\"\\u0436\\u0438\\u0434\\u043a\\u043e\\u0441\\u0442\\u044c\",\"\\u0436\\u0438\\u0434\\u043a\\u043e\\u0441\\u0442\\u044c\",\"\\u043f\\u043e\\u0440\\u043e\\u0448\\u043e\\u043a\",\"\\u043a\\u0430\\u043f\\u0441\\u0443\\u043b\\u044b\",\"\\u043f\\u043e\\u0440\\u043e\\u0448\\u043e\\u043a\",\"\\u043a\\u0430\\u043f\\u043b\\u0435\\u0442\\u044b\",\"\\u0436\\u0438\\u0434\\u043a\\u043e\\u0441\\u0442\\u044c\",null,\"\\u043f\\u043e\\u0440\\u043e\\u0448\\u043e\\u043a\",\"\\u0436\\u0438\\u0434\\u043a\\u043e\\u0441\\u0442\\u044c\",null,\"\\u043a\\u0430\\u043f\\u0441\\u0443\\u043b\\u044b\",\"\\u043a\\u0430\\u043f\\u0441\\u0443\\u043b\\u044b\",\"\\u0442\\u0430\\u0431\\u043b\\u0435\\u0442\\u043a\\u0438\",\"\\u043f\\u043e\\u0440\\u043e\\u0448\\u043e\\u043a\",\"\\u043f\\u043e\\u0440\\u043e\\u0448\\u043e\\u043a\",\"\\u043a\\u0430\\u043f\\u0441\\u0443\\u043b\\u044b\",\"\\u0442\\u0430\\u0431\\u043b\\u0435\\u0442\\u043a\\u0438\",\"\\u043a\\u0430\\u043f\\u0441\\u0443\\u043b\\u044b\",\"\\u043f\\u043e\\u0440\\u043e\\u0448\\u043e\\u043a\",\"\\u043f\\u043e\\u0440\\u043e\\u0448\\u043e\\u043a\",\"\\u043a\\u0430\\u043f\\u0441\\u0443\\u043b\\u044b\",\"\\u043f\\u043e\\u0440\\u043e\\u0448\\u043e\\u043a\",\"\\u043a\\u0430\\u043f\\u0441\\u0443\\u043b\\u044b\",\"\\u0442\\u0430\\u0431\\u043b\\u0435\\u0442\\u043a\\u0438\",\"\\u043a\\u0430\\u043f\\u0441\\u0443\\u043b\\u044b\",\"\\u043f\\u043e\\u0440\\u043e\\u0448\\u043e\\u043a\",\"\\u0442\\u0430\\u0431\\u043b\\u0435\\u0442\\u043a\\u0438\",\"\\u043a\\u0430\\u043f\\u0441\\u0443\\u043b\\u044b\",\"\\u043f\\u043e\\u0440\\u043e\\u0448\\u043e\\u043a\",\"\\u043a\\u0430\\u043f\\u0441\\u0443\\u043b\\u044b\",\"\\u0430\\u043c\\u043f\\u0443\\u043b\\u044b\",\"\\u0430\\u043c\\u043f\\u0443\\u043b\\u044b\",\"\\u0430\\u043c\\u043f\\u0443\\u043b\\u044b\",\"\\u043a\\u0430\\u043f\\u0441\\u0443\\u043b\\u044b\",\"\\u043a\\u0430\\u043f\\u0441\\u0443\\u043b\\u044b\",\"\\u0430\\u043c\\u043f\\u0443\\u043b\\u044b\",\"\\u0442\\u0430\\u0431\\u043b\\u0435\\u0442\\u043a\\u0438\",\"\\u0430\\u043c\\u043f\\u0443\\u043b\\u044b\",\"\\u0430\\u043c\\u043f\\u0443\\u043b\\u044b\",\"\\u043a\\u0430\\u043f\\u0441\\u0443\\u043b\\u044b\",\"\\u043a\\u0430\\u043f\\u043b\\u0435\\u0442\\u044b\",\"\\u0442\\u0430\\u0431\\u043b\\u0435\\u0442\\u043a\\u0438\",\"\\u043f\\u0430\\u043a\\u0435\\u0442\\u0438\\u043a\\u0438\",\"\\u043f\\u043e\\u0440\\u043e\\u0448\\u043e\\u043a\",\"\\u043f\\u043e\\u0440\\u043e\\u0448\\u043e\\u043a\",\"\\u043f\\u043e\\u0440\\u043e\\u0448\\u043e\\u043a\",\"\\u043a\\u0430\\u043f\\u0441\\u0443\\u043b\\u044b\",\"\\u043a\\u0430\\u043f\\u0441\\u0443\\u043b\\u044b\",\"\\u043f\\u043e\\u0440\\u043e\\u0448\\u043e\\u043a\",\"\\u0442\\u0430\\u0431\\u043b\\u0435\\u0442\\u043a\\u0438\",\"\\u043a\\u0430\\u043f\\u0441\\u0443\\u043b\\u044b\",null,\"\\u043a\\u0430\\u043f\\u0441\\u0443\\u043b\\u044b\",\"\\u0442\\u0430\\u0431\\u043b\\u0435\\u0442\\u043a\\u0438\",null,\"\\u043f\\u043e\\u0440\\u043e\\u0448\\u043e\\u043a\",\"\\u0436\\u0438\\u0434\\u043a\\u043e\\u0441\\u0442\\u044c\",\"\\u0430\\u043c\\u043f\\u0443\\u043b\\u044b\",\"\\u0430\\u043c\\u043f\\u0443\\u043b\\u044b\",\"\\u043f\\u043e\\u0440\\u043e\\u0448\\u043e\\u043a\",\"\\u043a\\u0430\\u043f\\u0441\\u0443\\u043b\\u044b\",\"\\u043f\\u043e\\u0440\\u043e\\u0448\\u043e\\u043a\",\"\\u043f\\u043e\\u0440\\u043e\\u0448\\u043e\\u043a\",\"\\u043f\\u043e\\u0440\\u043e\\u0448\\u043e\\u043a\",\"\\u043a\\u0430\\u043f\\u0441\\u0443\\u043b\\u044b\",\"\\u0442\\u0430\\u0431\\u043b\\u0435\\u0442\\u043a\\u0438\",\"\\u0442\\u0430\\u0431\\u043b\\u0435\\u0442\\u043a\\u0438\",\"\\u043f\\u043e\\u0440\\u043e\\u0448\\u043e\\u043a\",\"\\u043f\\u043e\\u0440\\u043e\\u0448\\u043e\\u043a\",\"\\u043a\\u0430\\u043f\\u0441\\u0443\\u043b\\u044b\",\"\\u043a\\u0430\\u043f\\u0441\\u0443\\u043b\\u044b\",\"\\u043f\\u043e\\u0440\\u043e\\u0448\\u043e\\u043a\",\"\\u043f\\u043e\\u0440\\u043e\\u0448\\u043e\\u043a\",\"\\u043f\\u043e\\u0440\\u043e\\u0448\\u043e\\u043a\",\"\\u0436\\u0438\\u0434\\u043a\\u043e\\u0441\\u0442\\u044c\",\"\\u0436\\u0438\\u0434\\u043a\\u043e\\u0441\\u0442\\u044c\",\"\\u043a\\u0430\\u043f\\u0441\\u0443\\u043b\\u044b\",\"\\u043a\\u0430\\u043f\\u0441\\u0443\\u043b\\u044b\",\"\\u043f\\u043e\\u0440\\u043e\\u0448\\u043e\\u043a\",\"\\u043f\\u043e\\u0440\\u043e\\u0448\\u043e\\u043a\",\"\\u043f\\u043e\\u0440\\u043e\\u0448\\u043e\\u043a\",\"\\u0430\\u043c\\u043f\\u0443\\u043b\\u044b\",\"\\u043f\\u043e\\u0440\\u043e\\u0448\\u043e\\u043a\",\"\\u043f\\u043e\\u0440\\u043e\\u0448\\u043e\\u043a\",\"\\u043a\\u0430\\u043f\\u0441\\u0443\\u043b\\u044b\",\"\\u043a\\u0430\\u043f\\u0441\\u0443\\u043b\\u044b\",\"\\u043a\\u0430\\u043f\\u0441\\u0443\\u043b\\u044b\",\"\\u043a\\u0430\\u043f\\u0441\\u0443\\u043b\\u044b\",\"\\u043f\\u043e\\u0440\\u043e\\u0448\\u043e\\u043a\",\"\\u043a\\u0430\\u043f\\u0441\\u0443\\u043b\\u044b\",\"\\u0442\\u0430\\u0431\\u043b\\u0435\\u0442\\u043a\\u0438\",\"\\u043f\\u043e\\u0440\\u043e\\u0448\\u043e\\u043a\",\"\\u043a\\u0430\\u043f\\u0441\\u0443\\u043b\\u044b\",\"\\u0436\\u0438\\u0434\\u043a\\u043e\\u0441\\u0442\\u044c\",\"\\u043a\\u0430\\u043f\\u0441\\u0443\\u043b\\u044b\",\"\\u043f\\u043e\\u0440\\u043e\\u0448\\u043e\\u043a\",\"\\u0436\\u0438\\u0434\\u043a\\u043e\\u0441\\u0442\\u044c\",\"\\u043a\\u0430\\u043f\\u0441\\u0443\\u043b\\u044b\",\"\\u043f\\u043e\\u0440\\u043e\\u0448\\u043e\\u043a\",\"\\u0436\\u0438\\u0434\\u043a\\u043e\\u0441\\u0442\\u044c\",\"\\u043f\\u0430\\u043a\\u0435\\u0442\\u0438\\u043a\\u0438\",\"\\u043a\\u0430\\u043f\\u0441\\u0443\\u043b\\u044b\",\"\\u043f\\u043e\\u0440\\u043e\\u0448\\u043e\\u043a\",\"\\u043f\\u043e\\u0440\\u043e\\u0448\\u043e\\u043a\",\"\\u0442\\u0430\\u0431\\u043b\\u0435\\u0442\\u043a\\u0438\",\"\\u043f\\u043e\\u0440\\u043e\\u0448\\u043e\\u043a\",\"\\u0430\\u043c\\u043f\\u0443\\u043b\\u044b\",\"\\u043f\\u043e\\u0440\\u043e\\u0448\\u043e\\u043a\",\"\\u043f\\u043e\\u0440\\u043e\\u0448\\u043e\\u043a\",\"\\u0436\\u0438\\u0434\\u043a\\u043e\\u0441\\u0442\\u044c\",\"\\u043a\\u0430\\u043f\\u0441\\u0443\\u043b\\u044b\",\"\\u0436\\u0438\\u0434\\u043a\\u043e\\u0441\\u0442\\u044c\",\"\\u043a\\u0430\\u043f\\u0441\\u0443\\u043b\\u044b\",\"\\u043f\\u043e\\u0440\\u043e\\u0448\\u043e\\u043a\",\"\\u043a\\u0430\\u043f\\u0441\\u0443\\u043b\\u044b\",\"\\u0430\\u043c\\u043f\\u0443\\u043b\\u044b\",\"\\u0442\\u0430\\u0431\\u043b\\u0435\\u0442\\u043a\\u0438\",\"\\u043f\\u043e\\u0440\\u043e\\u0448\\u043e\\u043a\",\"\\u0442\\u0430\\u0431\\u043b\\u0435\\u0442\\u043a\\u0438\",\"\\u0436\\u0438\\u0434\\u043a\\u043e\\u0441\\u0442\\u044c\",\"\\u043a\\u0430\\u043f\\u0441\\u0443\\u043b\\u044b\",\"\\u043f\\u043e\\u0440\\u043e\\u0448\\u043e\\u043a\",\"\\u043a\\u0430\\u043f\\u0441\\u0443\\u043b\\u044b\",\"\\u043f\\u043e\\u0440\\u043e\\u0448\\u043e\\u043a\",\"\\u043a\\u0430\\u043f\\u0441\\u0443\\u043b\\u044b\",\"\\u043a\\u0430\\u043f\\u0441\\u0443\\u043b\\u044b\",\"\\u043a\\u0430\\u043f\\u0441\\u0443\\u043b\\u044b\",\"\\u043f\\u043e\\u0440\\u043e\\u0448\\u043e\\u043a\",\"\\u043a\\u0430\\u043f\\u0441\\u0443\\u043b\\u044b\",\"\\u043f\\u043e\\u0440\\u043e\\u0448\\u043e\\u043a\",\"\\u0436\\u0438\\u0434\\u043a\\u043e\\u0441\\u0442\\u044c\",\"\\u043f\\u043e\\u0440\\u043e\\u0448\\u043e\\u043a\",null,\"\\u043f\\u043e\\u0440\\u043e\\u0448\\u043e\\u043a\",\"\\u043a\\u0430\\u043f\\u0441\\u0443\\u043b\\u044b\",\"\\u0436\\u0438\\u0434\\u043a\\u043e\\u0441\\u0442\\u044c\",\"\\u0436\\u0438\\u0434\\u043a\\u043e\\u0441\\u0442\\u044c\",\"\\u043a\\u0430\\u043f\\u0441\\u0443\\u043b\\u044b\",\"\\u0436\\u0438\\u0434\\u043a\\u043e\\u0441\\u0442\\u044c\",\"\\u043f\\u043e\\u0440\\u043e\\u0448\\u043e\\u043a\",\"\\u043f\\u043e\\u0440\\u043e\\u0448\\u043e\\u043a\",\"\\u043f\\u043e\\u0440\\u043e\\u0448\\u043e\\u043a\",\"\\u043f\\u043e\\u0440\\u043e\\u0448\\u043e\\u043a\",\"\\u043a\\u0430\\u043f\\u0441\\u0443\\u043b\\u044b\",\"\\u043f\\u043e\\u0440\\u043e\\u0448\\u043e\\u043a\",\"\\u043f\\u043e\\u0440\\u043e\\u0448\\u043e\\u043a\",\"\\u043f\\u043e\\u0440\\u043e\\u0448\\u043e\\u043a\",\"\\u043a\\u0430\\u043f\\u0441\\u0443\\u043b\\u044b\",\"\\u043f\\u043e\\u0440\\u043e\\u0448\\u043e\\u043a\",\"\\u0442\\u0430\\u0431\\u043b\\u0435\\u0442\\u043a\\u0438\",\"\\u043a\\u0430\\u043f\\u0441\\u0443\\u043b\\u044b\",\"\\u043f\\u043e\\u0440\\u043e\\u0448\\u043e\\u043a\",\"\\u043f\\u043e\\u0440\\u043e\\u0448\\u043e\\u043a\",\"\\u043f\\u043e\\u0440\\u043e\\u0448\\u043e\\u043a\",\"\\u043f\\u043e\\u0440\\u043e\\u0448\\u043e\\u043a\",\"\\u043f\\u043e\\u0440\\u043e\\u0448\\u043e\\u043a\",\"\\u043f\\u043e\\u0440\\u043e\\u0448\\u043e\\u043a\",\"\\u0430\\u043c\\u043f\\u0443\\u043b\\u044b\",\"\\u043a\\u0430\\u043f\\u0441\\u0443\\u043b\\u044b\",\"\\u043a\\u0430\\u043f\\u0441\\u0443\\u043b\\u044b\",\"\\u043a\\u0430\\u043f\\u0441\\u0443\\u043b\\u044b\",\"\\u0430\\u043c\\u043f\\u0443\\u043b\\u044b\",\"\\u0436\\u0438\\u0434\\u043a\\u043e\\u0441\\u0442\\u044c\",\"\\u043a\\u0430\\u043f\\u0441\\u0443\\u043b\\u044b\",\"\\u0430\\u043c\\u043f\\u0443\\u043b\\u044b\",\"\\u043a\\u0430\\u043f\\u0441\\u0443\\u043b\\u044b\",\"\\u0430\\u043c\\u043f\\u0443\\u043b\\u044b\",\"\\u043a\\u0430\\u043f\\u0441\\u0443\\u043b\\u044b\",\"\\u043f\\u043e\\u0440\\u043e\\u0448\\u043e\\u043a\",\"\\u043a\\u0430\\u043f\\u0441\\u0443\\u043b\\u044b\",\"\\u043a\\u0430\\u043f\\u0441\\u0443\\u043b\\u044b\",\"\\u043a\\u0430\\u043f\\u0441\\u0443\\u043b\\u044b\",\"\\u043a\\u0430\\u043f\\u0441\\u0443\\u043b\\u044b\",\"\\u0436\\u0438\\u0434\\u043a\\u043e\\u0441\\u0442\\u044c\",\"\\u0442\\u0430\\u0431\\u043b\\u0435\\u0442\\u043a\\u0438\",\"\\u043f\\u043e\\u0440\\u043e\\u0448\\u043e\\u043a\",\"\\u043a\\u0430\\u043f\\u0441\\u0443\\u043b\\u044b\",\"\\u0436\\u0438\\u0434\\u043a\\u043e\\u0441\\u0442\\u044c\",\"\\u0430\\u043c\\u043f\\u0443\\u043b\\u044b\",\"\\u043f\\u043e\\u0440\\u043e\\u0448\\u043e\\u043a\",\"\\u0442\\u0430\\u0431\\u043b\\u0435\\u0442\\u043a\\u0438\",\"\\u043f\\u043e\\u0440\\u043e\\u0448\\u043e\\u043a\",null,\"\\u043a\\u0430\\u043f\\u0441\\u0443\\u043b\\u044b\",null,\"\\u043a\\u0430\\u043f\\u0441\\u0443\\u043b\\u044b\",\"\\u043f\\u043e\\u0440\\u043e\\u0448\\u043e\\u043a\",\"\\u043a\\u0430\\u043f\\u0441\\u0443\\u043b\\u044b\",\"\\u043a\\u0430\\u043f\\u0441\\u0443\\u043b\\u044b\",\"\\u0436\\u0438\\u0434\\u043a\\u043e\\u0441\\u0442\\u044c\",\"\\u043a\\u0430\\u043f\\u0441\\u0443\\u043b\\u044b\",\"\\u043f\\u043e\\u0440\\u043e\\u0448\\u043e\\u043a\",\"\\u0436\\u0438\\u0434\\u043a\\u043e\\u0441\\u0442\\u044c\",\"\\u043a\\u0430\\u043f\\u0441\\u0443\\u043b\\u044b\",\"\\u0442\\u0430\\u0431\\u043b\\u0435\\u0442\\u043a\\u0438\",\"\\u043f\\u043e\\u0440\\u043e\\u0448\\u043e\\u043a\",\"\\u043a\\u0430\\u043f\\u0441\\u0443\\u043b\\u044b\",\"\\u043f\\u043e\\u0440\\u043e\\u0448\\u043e\\u043a\",\"\\u043a\\u0430\\u043f\\u0441\\u0443\\u043b\\u044b\",\"\\u043f\\u043e\\u0440\\u043e\\u0448\\u043e\\u043a\",\"\\u043f\\u043e\\u0440\\u043e\\u0448\\u043e\\u043a\",\"\\u0436\\u0438\\u0434\\u043a\\u043e\\u0441\\u0442\\u044c\",\"\\u0436\\u0438\\u0434\\u043a\\u043e\\u0441\\u0442\\u044c\",\"\\u043a\\u0430\\u043f\\u0441\\u0443\\u043b\\u044b\",\"\\u0430\\u043c\\u043f\\u0443\\u043b\\u044b\",\"\\u043a\\u0430\\u043f\\u0441\\u0443\\u043b\\u044b\",\"\\u0430\\u043c\\u043f\\u0443\\u043b\\u044b\",\"\\u0442\\u0430\\u0431\\u043b\\u0435\\u0442\\u043a\\u0438\",\"\\u043a\\u0430\\u043f\\u0441\\u0443\\u043b\\u044b\",\"\\u0442\\u0430\\u0431\\u043b\\u0435\\u0442\\u043a\\u0438\",\"\\u043a\\u0430\\u043f\\u0441\\u0443\\u043b\\u044b\",\"\\u0436\\u0438\\u0434\\u043a\\u043e\\u0441\\u0442\\u044c\",\"\\u043a\\u0430\\u043f\\u0441\\u0443\\u043b\\u044b\",\"\\u043a\\u0430\\u043f\\u0441\\u0443\\u043b\\u044b\",\"\\u043f\\u043e\\u0440\\u043e\\u0448\\u043e\\u043a\",\"\\u043a\\u0430\\u043f\\u0441\\u0443\\u043b\\u044b\",\"\\u043f\\u043e\\u0440\\u043e\\u0448\\u043e\\u043a\",\"\\u043a\\u0430\\u043f\\u0441\\u0443\\u043b\\u044b\",\"\\u043a\\u0430\\u043f\\u0441\\u0443\\u043b\\u044b\",null,\"\\u0442\\u0430\\u0431\\u043b\\u0435\\u0442\\u043a\\u0438\",null,\"\\u043f\\u043e\\u0440\\u043e\\u0448\\u043e\\u043a\",\"\\u043a\\u0430\\u043f\\u0441\\u0443\\u043b\\u044b\",\"\\u043a\\u0430\\u043f\\u0441\\u0443\\u043b\\u044b\",\"\\u043f\\u043e\\u0440\\u043e\\u0448\\u043e\\u043a\",\"\\u0436\\u0438\\u0434\\u043a\\u043e\\u0441\\u0442\\u044c\",\"\\u0436\\u0438\\u0434\\u043a\\u043e\\u0441\\u0442\\u044c\",\"\\u043f\\u0430\\u043a\\u0435\\u0442\\u0438\\u043a\\u0438\",\"\\u043a\\u0430\\u043f\\u0441\\u0443\\u043b\\u044b\",\"\\u043a\\u0430\\u043f\\u0441\\u0443\\u043b\\u044b\",\"\\u0436\\u0438\\u0434\\u043a\\u043e\\u0441\\u0442\\u044c\",\"\\u043a\\u0430\\u043f\\u0441\\u0443\\u043b\\u044b\",\"\\u0442\\u0430\\u0431\\u043b\\u0435\\u0442\\u043a\\u0438\",\"\\u043f\\u043e\\u0440\\u043e\\u0448\\u043e\\u043a\",\"\\u0442\\u0430\\u0431\\u043b\\u0435\\u0442\\u043a\\u0438\",\"\\u043a\\u0430\\u043f\\u0441\\u0443\\u043b\\u044b\",\"\\u0442\\u0430\\u0431\\u043b\\u0435\\u0442\\u043a\\u0438\",\"\\u043a\\u0430\\u043f\\u0441\\u0443\\u043b\\u044b\",\"\\u0436\\u0438\\u0434\\u043a\\u043e\\u0441\\u0442\\u044c\",\"\\u043a\\u0430\\u043f\\u0441\\u0443\\u043b\\u044b\",\"\\u043f\\u043e\\u0440\\u043e\\u0448\\u043e\\u043a\",\"\\u043a\\u0430\\u043f\\u0441\\u0443\\u043b\\u044b\",\"\\u043a\\u0430\\u043f\\u0441\\u0443\\u043b\\u044b\",\"\\u043f\\u043e\\u0440\\u043e\\u0448\\u043e\\u043a\",\"\\u043a\\u0430\\u043f\\u0441\\u0443\\u043b\\u044b\",\"\\u043a\\u0430\\u043f\\u0441\\u0443\\u043b\\u044b\",\"\\u043a\\u0430\\u043f\\u0441\\u0443\\u043b\\u044b\",\"\\u043a\\u0430\\u043f\\u0441\\u0443\\u043b\\u044b\",\"\\u043a\\u0430\\u043f\\u0441\\u0443\\u043b\\u044b\",\"\\u043f\\u043e\\u0440\\u043e\\u0448\\u043e\\u043a\",\"\\u0442\\u0430\\u0431\\u043b\\u0435\\u0442\\u043a\\u0438\",\"\\u043f\\u043e\\u0440\\u043e\\u0448\\u043e\\u043a\",\"\\u043a\\u0430\\u043f\\u0441\\u0443\\u043b\\u044b\",\"\\u0430\\u043c\\u043f\\u0443\\u043b\\u044b\",\"\\u043a\\u0430\\u043f\\u0441\\u0443\\u043b\\u044b\",\"\\u043a\\u0430\\u043f\\u0441\\u0443\\u043b\\u044b\",\"\\u0442\\u0430\\u0431\\u043b\\u0435\\u0442\\u043a\\u0438\",\"\\u043a\\u0430\\u043f\\u0441\\u0443\\u043b\\u044b\",\"\\u043a\\u0430\\u043f\\u0441\\u0443\\u043b\\u044b\",\"\\u043f\\u043e\\u0440\\u043e\\u0448\\u043e\\u043a\",\"\\u043f\\u043e\\u0440\\u043e\\u0448\\u043e\\u043a\",\"\\u043a\\u0430\\u043f\\u043b\\u0435\\u0442\\u044b\",null,\"\\u043a\\u0430\\u043f\\u0441\\u0443\\u043b\\u044b\",\"\\u043f\\u043e\\u0440\\u043e\\u0448\\u043e\\u043a\",\"\\u043f\\u043e\\u0440\\u043e\\u0448\\u043e\\u043a\",\"\\u043f\\u043e\\u0440\\u043e\\u0448\\u043e\\u043a\",\"\\u043f\\u043e\\u0440\\u043e\\u0448\\u043e\\u043a\",\"\\u043f\\u043e\\u0440\\u043e\\u0448\\u043e\\u043a\",\"\\u043f\\u043e\\u0440\\u043e\\u0448\\u043e\\u043a\",\"\\u043a\\u0430\\u043f\\u0441\\u0443\\u043b\\u044b\",\"\\u043a\\u0430\\u043f\\u0441\\u0443\\u043b\\u044b\",\"\\u043a\\u0430\\u043f\\u0441\\u0443\\u043b\\u044b\",\"\\u043f\\u043e\\u0440\\u043e\\u0448\\u043e\\u043a\",\"\\u043f\\u043e\\u0440\\u043e\\u0448\\u043e\\u043a\",\"\\u043f\\u043e\\u0440\\u043e\\u0448\\u043e\\u043a\",\"\\u043a\\u0430\\u043f\\u0441\\u0443\\u043b\\u044b\",\"\\u043f\\u043e\\u0440\\u043e\\u0448\\u043e\\u043a\",\"\\u043f\\u043e\\u0440\\u043e\\u0448\\u043e\\u043a\",\"\\u043f\\u043e\\u0440\\u043e\\u0448\\u043e\\u043a\",\"\\u0442\\u0430\\u0431\\u043b\\u0435\\u0442\\u043a\\u0438\",\"\\u043f\\u043e\\u0440\\u043e\\u0448\\u043e\\u043a\",\"\\u043f\\u043e\\u0440\\u043e\\u0448\\u043e\\u043a\",\"\\u043a\\u0430\\u043f\\u0441\\u0443\\u043b\\u044b\",\"\\u043a\\u0430\\u043f\\u0441\\u0443\\u043b\\u044b\",\"\\u0442\\u0430\\u0431\\u043b\\u0435\\u0442\\u043a\\u0438\",\"\\u043f\\u043e\\u0440\\u043e\\u0448\\u043e\\u043a\",\"\\u0442\\u0430\\u0431\\u043b\\u0435\\u0442\\u043a\\u0438\",\"\\u043f\\u043e\\u0440\\u043e\\u0448\\u043e\\u043a\",\"\\u0442\\u0430\\u0431\\u043b\\u0435\\u0442\\u043a\\u0438\",\"\\u0442\\u0430\\u0431\\u043b\\u0435\\u0442\\u043a\\u0438\",\"\\u0442\\u0430\\u0431\\u043b\\u0435\\u0442\\u043a\\u0438\",\"\\u043a\\u0430\\u043f\\u0441\\u0443\\u043b\\u044b\",null,null,null,null,null,null,null,null,null,null,null,null,null,null,null,null,null,null,null,null,null,null,null,null,null,null,null,null,null,null,null,null,null,null,null,null,null,null,null,null,null,null,null,null,null,null,null,null,null,null,null,null,\"\\u043f\\u043e\\u0440\\u043e\\u0448\\u043e\\u043a\",\"\\u043f\\u043e\\u0440\\u043e\\u0448\\u043e\\u043a\",null,null,null,null,null,null,null,null,null,\"\\u043f\\u043e\\u0440\\u043e\\u0448\\u043e\\u043a\",null,null,null,null,null,null,null,null,\"\\u043f\\u043e\\u0440\\u043e\\u0448\\u043e\\u043a\",null,null,null,null,null,null,null,null,null,null,null,\"\\u043f\\u043e\\u0440\\u043e\\u0448\\u043e\\u043a\",null,null,null,null,null,null,null,null,null,null,null,null,\"\\u043f\\u043e\\u0440\\u043e\\u0448\\u043e\\u043a\",null,null,null,null,null,null,null,null,null,null,null,null,null,null,\"\\u0430\\u043c\\u043f\\u0443\\u043b\\u044b\",null,null,null,null,null,\"\\u0442\\u0430\\u0431\\u043b\\u0435\\u0442\\u043a\\u0438\",null,null,null,null,null,null,null,null,null,null,null,null,null,\"\\u0436\\u0438\\u0434\\u043a\\u043e\\u0441\\u0442\\u044c\",null,\"\\u043f\\u043e\\u0440\\u043e\\u0448\\u043e\\u043a\",\"\\u043f\\u043e\\u0440\\u043e\\u0448\\u043e\\u043a\",null,null,null,null,null,null,null,null,null,null,null,null,null,null,null,null,null,null,null,null,null,null,null,null,null,null,null,null,null,null,null,\"\\u0431\\u0430\\u0442\\u043e\\u043d\\u0447\\u0438\\u043a\",null,null,null,null,null,null,null,null,null,null,null,null,null,null,null,null,null,null,null,null,null,null,null,null,null,null,null,null,null,null,null,null,null,null,null,\"\\u043f\\u043e\\u0440\\u043e\\u0448\\u043e\\u043a\",null,null,null,null,null,null,null,null,null,null,null,null,null,null,null,null,null,null,null,null,null,null,null,\"\\u043a\\u0430\\u043f\\u0441\\u0443\\u043b\\u044b\",null,null,null,null,null,null,null,null,null,null,null,null,\"\\u043f\\u043e\\u0440\\u043e\\u0448\\u043e\\u043a\",null,null,null,null,null,null,\"\\u043f\\u043e\\u0440\\u043e\\u0448\\u043e\\u043a\",null,null,null,null,null,null,\"\\u043f\\u043e\\u0440\\u043e\\u0448\\u043e\\u043a\",null,null,null,null,null,null,null,null,null,null,null,null,null,null,\"\\u043f\\u043e\\u0440\\u043e\\u0448\\u043e\\u043a\",\"\\u043f\\u043e\\u0440\\u043e\\u0448\\u043e\\u043a\",null,null,\"\\u043f\\u043e\\u0440\\u043e\\u0448\\u043e\\u043a\",null,null,null,null,null,null,null,null,null,null,null,null,null,null,null,null,null,null,null,null,null,null,null,null,null,null,null,null,null,null,null,null,null,null,null,null,null,null,null,null,null,null,null,null,\"\\u043f\\u043e\\u0440\\u043e\\u0448\\u043e\\u043a\",null,null,null,null,null,\"\\u0436\\u0438\\u0434\\u043a\\u043e\\u0441\\u0442\\u044c\",null,null,null,null,null,null,null,null,null,null,null,null,\"\\u043f\\u043e\\u0440\\u043e\\u0448\\u043e\\u043a\",null,null,null,null,null,null,null,null,null,null,null,null,null,\"\\u043f\\u043e\\u0440\\u043e\\u0448\\u043e\\u043a\",null,null,null,null,\"\\u043f\\u043e\\u0440\\u043e\\u0448\\u043e\\u043a\",null,null,null,null,null,null,null,null,null,null,\"\\u043a\\u0430\\u043f\\u0441\\u0443\\u043b\\u044b\",\"\\u043f\\u043e\\u0440\\u043e\\u0448\\u043e\\u043a\",null,\"\\u043a\\u0430\\u043f\\u0441\\u0443\\u043b\\u044b\",\"\\u043a\\u0430\\u043f\\u0441\\u0443\\u043b\\u044b\",null,null,null,null,\"\\u0442\\u0430\\u0431\\u043b\\u0435\\u0442\\u043a\\u0438\",null,null,null,null,\"\\u0442\\u0430\\u0431\\u043b\\u0435\\u0442\\u043a\\u0438\",null,null,\"\\u043f\\u043e\\u0440\\u043e\\u0448\\u043e\\u043a\",null,null,null,null,null,null,\"\\u043a\\u0430\\u043f\\u0441\\u0443\\u043b\\u044b\",null,null,null,\"\\u0442\\u0430\\u0431\\u043b\\u0435\\u0442\\u043a\\u0438\",null,null,null,null,null,null,null,null,\"\\u043f\\u043e\\u0440\\u043e\\u0448\\u043e\\u043a\",\"\\u0442\\u0430\\u0431\\u043b\\u0435\\u0442\\u043a\\u0438\",null,null,null,null,\"\\u043a\\u0430\\u043f\\u0441\\u0443\\u043b\\u044b\",null,null,null,null,\"\\u043f\\u043e\\u0440\\u043e\\u0448\\u043e\\u043a\",null,null,null,\"\\u043a\\u0430\\u043f\\u0441\\u0443\\u043b\\u044b\",null,null,\"\\u043f\\u043e\\u0440\\u043e\\u0448\\u043e\\u043a\",null,\"\\u0436\\u0438\\u0434\\u043a\\u043e\\u0441\\u0442\\u044c\",null,null,\"\\u043a\\u0430\\u043f\\u0441\\u0443\\u043b\\u044b\",null,\"\\u043a\\u0430\\u043f\\u0441\\u0443\\u043b\\u044b\",\"\\u0442\\u0430\\u0431\\u043b\\u0435\\u0442\\u043a\\u0438\",null,null,null,\"\\u0442\\u0430\\u0431\\u043b\\u0435\\u0442\\u043a\\u0438\",null,null,\"\\u043f\\u043e\\u0440\\u043e\\u0448\\u043e\\u043a\",\"\\u0442\\u0430\\u0431\\u043b\\u0435\\u0442\\u043a\\u0438\",null,null,null,null,null,null,\"\\u0430\\u043c\\u043f\\u0443\\u043b\\u044b\",null,null,null,\"\\u043f\\u043e\\u0440\\u043e\\u0448\\u043e\\u043a\",null,null,null,null,null,null,\"\\u043f\\u043e\\u0440\\u043e\\u0448\\u043e\\u043a\",null,null,null,null,null,null,null,null,null,null,null,\"\\u043f\\u043e\\u0440\\u043e\\u0448\\u043e\\u043a\",null,\"\\u0442\\u0430\\u0431\\u043b\\u0435\\u0442\\u043a\\u0438\",null,null,null,null,null,null,null,\"\\u043a\\u0430\\u043f\\u0441\\u0443\\u043b\\u044b\",null,null,null,null,\"\\u043f\\u043e\\u0440\\u043e\\u0448\\u043e\\u043a\",null,null,null,null,\"\\u0442\\u0430\\u0431\\u043b\\u0435\\u0442\\u043a\\u0438\",null,\"\\u043f\\u043e\\u0440\\u043e\\u0448\\u043e\\u043a\",\"\\u043f\\u043e\\u0440\\u043e\\u0448\\u043e\\u043a\",null,\"\\u0442\\u0430\\u0431\\u043b\\u0435\\u0442\\u043a\\u0438\",\"\\u043f\\u043e\\u0440\\u043e\\u0448\\u043e\\u043a\",null,null,\"\\u043a\\u0430\\u043f\\u0441\\u0443\\u043b\\u044b\",null,null,null,null,null,\"\\u0436\\u0438\\u0434\\u043a\\u043e\\u0441\\u0442\\u044c\",\"\\u043f\\u043e\\u0440\\u043e\\u0448\\u043e\\u043a\",\"\\u0442\\u0430\\u0431\\u043b\\u0435\\u0442\\u043a\\u0438\",null,\"\\u0436\\u0438\\u0434\\u043a\\u043e\\u0441\\u0442\\u044c\",\"\\u043a\\u0430\\u043f\\u0441\\u0443\\u043b\\u044b\",\"\\u043a\\u0430\\u043f\\u0441\\u0443\\u043b\\u044b\",\"\\u043f\\u043e\\u0440\\u043e\\u0448\\u043e\\u043a\",null,null,null,\"\\u043f\\u043e\\u0440\\u043e\\u0448\\u043e\\u043a\",null,null,null,\"\\u043f\\u043e\\u0440\\u043e\\u0448\\u043e\\u043a\",\"\\u043f\\u043e\\u0440\\u043e\\u0448\\u043e\\u043a\",\"\\u043a\\u0430\\u043f\\u0441\\u0443\\u043b\\u044b\",\"\\u0442\\u0430\\u0431\\u043b\\u0435\\u0442\\u043a\\u0438\",null,null,\"\\u043a\\u0430\\u043f\\u0441\\u0443\\u043b\\u044b\",\"\\u043f\\u043e\\u0440\\u043e\\u0448\\u043e\\u043a\",\"\\u043a\\u0430\\u043f\\u0441\\u0443\\u043b\\u044b\",\"\\u0442\\u0430\\u0431\\u043b\\u0435\\u0442\\u043a\\u0438\",null,\"\\u043a\\u0430\\u043f\\u0441\\u0443\\u043b\\u044b\",\"\\u043f\\u043e\\u0440\\u043e\\u0448\\u043e\\u043a\",\"\\u0436\\u0438\\u0434\\u043a\\u043e\\u0441\\u0442\\u044c\",null,\"\\u043a\\u0430\\u043f\\u0441\\u0443\\u043b\\u044b\",\"\\u043a\\u0430\\u043f\\u0441\\u0443\\u043b\\u044b\",null,\"\\u0442\\u0430\\u0431\\u043b\\u0435\\u0442\\u043a\\u0438\",null,null,null,\"\\u0436\\u0438\\u0434\\u043a\\u043e\\u0441\\u0442\\u044c\",null,\"\\u043f\\u043e\\u0440\\u043e\\u0448\\u043e\\u043a\",\"\\u043a\\u0430\\u043f\\u0441\\u0443\\u043b\\u044b\",\"\\u0436\\u0438\\u0434\\u043a\\u043e\\u0441\\u0442\\u044c\",null,\"\\u0436\\u0438\\u0434\\u043a\\u043e\\u0441\\u0442\\u044c\",null,\"\\u043a\\u0430\\u043f\\u0441\\u0443\\u043b\\u044b\",\"\\u0442\\u0430\\u0431\\u043b\\u0435\\u0442\\u043a\\u0438\",\"\\u043f\\u043e\\u0440\\u043e\\u0448\\u043e\\u043a\",\"\\u043a\\u0430\\u043f\\u0441\\u0443\\u043b\\u044b\",null,null,\"\\u0442\\u0430\\u0431\\u043b\\u0435\\u0442\\u043a\\u0438\",null,null,\"\\u043a\\u0430\\u043f\\u0441\\u0443\\u043b\\u044b\",\"\\u043a\\u0430\\u043f\\u0441\\u0443\\u043b\\u044b\",null,null,\"\\u043f\\u043e\\u0440\\u043e\\u0448\\u043e\\u043a\",\"\\u043f\\u043e\\u0440\\u043e\\u0448\\u043e\\u043a\",\"\\u043f\\u043e\\u0440\\u043e\\u0448\\u043e\\u043a\",\"\\u043a\\u0430\\u043f\\u0441\\u0443\\u043b\\u044b\",\"\\u043f\\u043e\\u0440\\u043e\\u0448\\u043e\\u043a\",\"\\u0442\\u0430\\u0431\\u043b\\u0435\\u0442\\u043a\\u0438\",null,null,\"\\u043a\\u0430\\u043f\\u0441\\u0443\\u043b\\u044b\",\"\\u043f\\u043e\\u0440\\u043e\\u0448\\u043e\\u043a\",\"\\u043f\\u043e\\u0440\\u043e\\u0448\\u043e\\u043a\",\"\\u043a\\u0430\\u043f\\u0441\\u0443\\u043b\\u044b\",null,\"\\u043f\\u043e\\u0440\\u043e\\u0448\\u043e\\u043a\",null,\"\\u043f\\u043e\\u0440\\u043e\\u0448\\u043e\\u043a\",\"\\u043f\\u043e\\u0440\\u043e\\u0448\\u043e\\u043a\",\"\\u043f\\u043e\\u0440\\u043e\\u0448\\u043e\\u043a\",\"\\u043f\\u043e\\u0440\\u043e\\u0448\\u043e\\u043a\",\"\\u043a\\u0430\\u043f\\u0441\\u0443\\u043b\\u044b\",null,\"\\u043a\\u0430\\u043f\\u0441\\u0443\\u043b\\u044b\",\"\\u043f\\u043e\\u0440\\u043e\\u0448\\u043e\\u043a\",\"\\u043f\\u043e\\u0440\\u043e\\u0448\\u043e\\u043a\",null,\"\\u0442\\u0430\\u0431\\u043b\\u0435\\u0442\\u043a\\u0438\",\"\\u0436\\u0438\\u0434\\u043a\\u043e\\u0441\\u0442\\u044c\",\"\\u043f\\u043e\\u0440\\u043e\\u0448\\u043e\\u043a\",\"\\u043a\\u0430\\u043f\\u0441\\u0443\\u043b\\u044b\",\"\\u043f\\u043e\\u0440\\u043e\\u0448\\u043e\\u043a\",null,\"\\u043f\\u043e\\u0440\\u043e\\u0448\\u043e\\u043a\",\"\\u043f\\u043e\\u0440\\u043e\\u0448\\u043e\\u043a\",\"\\u0442\\u0430\\u0431\\u043b\\u0435\\u0442\\u043a\\u0438\",\"\\u043a\\u0430\\u043f\\u0441\\u0443\\u043b\\u044b\",\"\\u043f\\u043e\\u0440\\u043e\\u0448\\u043e\\u043a\",\"\\u043f\\u043e\\u0440\\u043e\\u0448\\u043e\\u043a\",\"\\u043a\\u0430\\u043f\\u0441\\u0443\\u043b\\u044b\",\"\\u0442\\u0430\\u0431\\u043b\\u0435\\u0442\\u043a\\u0438\",\"\\u043f\\u043e\\u0440\\u043e\\u0448\\u043e\\u043a\",\"\\u0442\\u0430\\u0431\\u043b\\u0435\\u0442\\u043a\\u0438\",null,null,\"\\u043f\\u043e\\u0440\\u043e\\u0448\\u043e\\u043a\",\"\\u043a\\u0430\\u043f\\u0441\\u0443\\u043b\\u044b\",null,null,\"\\u043f\\u043e\\u0440\\u043e\\u0448\\u043e\\u043a\",\"\\u043f\\u043e\\u0440\\u043e\\u0448\\u043e\\u043a\",\"\\u043a\\u0430\\u043f\\u0441\\u0443\\u043b\\u044b\",\"\\u043f\\u043e\\u0440\\u043e\\u0448\\u043e\\u043a\",\"\\u043f\\u043e\\u0440\\u043e\\u0448\\u043e\\u043a\",\"\\u043f\\u043e\\u0440\\u043e\\u0448\\u043e\\u043a\",\"\\u0442\\u0430\\u0431\\u043b\\u0435\\u0442\\u043a\\u0438\",\"\\u0442\\u0430\\u0431\\u043b\\u0435\\u0442\\u043a\\u0438\",\"\\u043f\\u043e\\u0440\\u043e\\u0448\\u043e\\u043a\",\"\\u043f\\u043e\\u0440\\u043e\\u0448\\u043e\\u043a\",\"\\u043f\\u043e\\u0440\\u043e\\u0448\\u043e\\u043a\",null,\"\\u043a\\u0430\\u043f\\u0441\\u0443\\u043b\\u044b\",\"\\u043a\\u0430\\u043f\\u0441\\u0443\\u043b\\u044b\",\"\\u043f\\u043e\\u0440\\u043e\\u0448\\u043e\\u043a\",null],\"xaxis\":\"x\",\"y\":[1490,690,790,8090,1963,720,1140,1680,1490,1190,3240,1770,830,170,1010,1193,210,140,1420,510,2070,1260,1430,2950,1670,690,2360,1900,980,1050,880,1135,1410,1160,2750,1520,1850,3290,2580,129,180,1530,1020,180,1490,2000,3600,1670,1350,1650,80,4460,3660,2170,820,910,1170,2240,1130,1950,1520,1190,110,1590,1340,1540,126,2850,2370,3420,1040,1790,1639,1460,2280,1960,1520,2210,1640,2030,1890,1410,1612,2650,1620,1650,2010,2660,640,2520,1180,4210,750,1770,1230,1340,3320,3220,2890,1828,1290,1440,990,2050,1880,3290,1980,1380,610,1161,2220,1910,3950,820,2200,860,1882,1360,4250,1860,1610,1690,1550,2380,1390,2620,880,140,1540,490,980,760,1540,1351,830,2250,1010,820,3360,1530,2490,890,1230,2640,2650,1850,2130,2390,2990,1780,3230,3540,3380,1990,2220,1450,1830,2340,1350,790,1410,1650,1620,2990,1720,2200,1350,615,2030,2200,2130,1268,140,1241,110,1340,690,1250,526,960,690,2160,1079,2150,770,1760,1100,2030,1330,1520,190,510,740,518,3340,810,1265,1410,963,1960,1250,890,2650,780,690,1050,2630,2090,3680,460,250,1890,2400,1490,55,1620,850,2130,2230,1680,1150,3350,1390,1040,1950,1790,1170,1198,3290,1990,1540,1110,980,2474,2290,1450,3200,2870,1180,1430,1810,820,2843,1680,1310,1980,2740,2670,1200,1450,1430,1570,850,2510,2061,4390,1120,1260,1480,3420,1090,2090,3600,930,1520,1570,1260,2860,890,2020,1260,1040,1241,1110,2370,4480,2590,3020,1081,1760,790,990,2410,3990,4760,2290,3170,1550,1520,3010,2230,1160,2630,2230,3830,1833,1690,9021,3020,2150,1327,1840,1220,1250,1420,950,1200,210,2200,1588,1540,1590,73,1230,530,1100,2340,1100,1470,0,1600,1900,1920,1450,660,1100,1120,1290,1690,1430,1720,910,2650,3240,690,1430,1720,4530,30,1370,628,890,1020,580,2110,1170,1480,70,900,1730,2130,50,1900,1130,1790,1290,980,1600,1310,1380,1780,1540,1690,70,850,1190,2640,2300,2090,2600,1190,1950,1800,230,1290,880,830,1290,2140,710,1210,1330,600,1550,1290,700,970,1290,3490,400,690,720,1588,1730,1990,2070,1108,980,1470,1290,1290,70,3110,1490,1750,1588,1390,700,798,1148,2100,1170,1370,840,1368,1290,490,1290,1980,1580,840,740,1160,740,1070,1750,628,1390,1690,0,1690,1990,1210,160,69,1198,1400,1790,1190,810,1440,1600,470,1440,950,1849,970,1910,790,1540,1090,80,1100,1588,520,790,1500,1220,1990,1170,1660,1800,620,3340,2550,910,2400,870,930,40,1090,2030,1770,1080,1390,1500,690,510,890,1410,1640,1850,1590,1640,650,0,2300,700,2690,2130,1660,560,1390,0,2090,0,730,150,1390,1130,280,440,990,70,1590,890,1440,1590,1580,790,2650,2250,1550,1180,2290,900,620,1150,2240,1570,350,1520,960,2630,1260,3598,1680,2160,910,1330,1390,100,1190,350,2890,760,2380,1540,830,670,1720,970,890,890,1990,1710,590,710,680,990,910,700,1340,650,570,1440,1275,3100,1950,2900,1190,1480,740,2660,1060,1740,1840,1490,2660,1310,2190,1630,950,630,870,1260,770,1810,990,1810,2490,2560,190,1580,1690,1440,460,3890,1100,3590,1800,1219,1760,3660,890,1290,800,990,1650,3490,590,1990,2350,2490,1200,1540,530,1390,1970,2200,1680,600,1,690,590,1500,780,1390,1330,730,1260,750,1070,900,1990,1270,2870,580,690,70,2230,1190,790,1770,2489,1520,1620,2770,790,2630,1240,480,1780,1240,1590,2330,2490,1680,2120,1730,1980,2040,390,690,2090,1440,1210,1050,1610,1580,540,2190,1680,490,1230,1940,1290,1420,1110,2030,840,1290,940,1390,420,1780,1160,1860,780,1190,1590,1540,1480,1790,2490,1190,1260,710,4600,1030,1890,1290,890,1130,690,2250,4100,938,2430,2110,1380,2100,1090,940,70,1490,1220,290,2690,2030,990,1090,1240,2260,990,450,1390,1190,750,1690,1990,1970,1440,900,1370,1890,1090,2150,690,1970,980,690,560,890,790,2090,773,1890,1450,1460,908,2490,1230,1990,2050,1780,690,1290,1730,890,1690,1190,620,2020,1920,1180,1240,788,890,640,2140,90,1770,1310,1990,400,2650,1090,1160,1190,3020,2130,640,1740,1570,2820,90,2010,590,1090,1530,1239,1290,3420,1290,1840,1970,1488,2488,890,290,990,1620,4020,2290,1240,3290,390,1170,1290,1650,790,1530,2110,1490,990,2090,3130,2290,4530,710,1570,3590,1690,2190,380,580,660,2210,990,1230,3450,3510,7390,740,3190,1130,1137,1190,1390,1490,1910,2280,2560,1660,1430,1990,990,990,1740,840,850,1810,1920,590,1750,1540,720,1440,780,1290,1180,2509,1030,1090,840,1930,2140,1790,2240,2050,3730,3740,2420,690,579,1190,990,1390,1290,1170,644,1343,3340,2580,790,3550,890,1350,2490,4990,1490,1231,1490,1880,3550,2211,740,1390,2240,1590,1050,2025,2030,1390,4170,1290,1630,890,2940,978,2690,3020,1570,2290,3360,776,1740,1790,3280,1090,1690,3590,3310,1990,2590,3060,3440,3150,5950,1990,1120,1240,1510,1390,990],\"yaxis\":\"y\",\"type\":\"bar\"}],                        {\"template\":{\"data\":{\"histogram2dcontour\":[{\"type\":\"histogram2dcontour\",\"colorbar\":{\"outlinewidth\":0,\"ticks\":\"\"},\"colorscale\":[[0.0,\"#0d0887\"],[0.1111111111111111,\"#46039f\"],[0.2222222222222222,\"#7201a8\"],[0.3333333333333333,\"#9c179e\"],[0.4444444444444444,\"#bd3786\"],[0.5555555555555556,\"#d8576b\"],[0.6666666666666666,\"#ed7953\"],[0.7777777777777778,\"#fb9f3a\"],[0.8888888888888888,\"#fdca26\"],[1.0,\"#f0f921\"]]}],\"choropleth\":[{\"type\":\"choropleth\",\"colorbar\":{\"outlinewidth\":0,\"ticks\":\"\"}}],\"histogram2d\":[{\"type\":\"histogram2d\",\"colorbar\":{\"outlinewidth\":0,\"ticks\":\"\"},\"colorscale\":[[0.0,\"#0d0887\"],[0.1111111111111111,\"#46039f\"],[0.2222222222222222,\"#7201a8\"],[0.3333333333333333,\"#9c179e\"],[0.4444444444444444,\"#bd3786\"],[0.5555555555555556,\"#d8576b\"],[0.6666666666666666,\"#ed7953\"],[0.7777777777777778,\"#fb9f3a\"],[0.8888888888888888,\"#fdca26\"],[1.0,\"#f0f921\"]]}],\"heatmap\":[{\"type\":\"heatmap\",\"colorbar\":{\"outlinewidth\":0,\"ticks\":\"\"},\"colorscale\":[[0.0,\"#0d0887\"],[0.1111111111111111,\"#46039f\"],[0.2222222222222222,\"#7201a8\"],[0.3333333333333333,\"#9c179e\"],[0.4444444444444444,\"#bd3786\"],[0.5555555555555556,\"#d8576b\"],[0.6666666666666666,\"#ed7953\"],[0.7777777777777778,\"#fb9f3a\"],[0.8888888888888888,\"#fdca26\"],[1.0,\"#f0f921\"]]}],\"heatmapgl\":[{\"type\":\"heatmapgl\",\"colorbar\":{\"outlinewidth\":0,\"ticks\":\"\"},\"colorscale\":[[0.0,\"#0d0887\"],[0.1111111111111111,\"#46039f\"],[0.2222222222222222,\"#7201a8\"],[0.3333333333333333,\"#9c179e\"],[0.4444444444444444,\"#bd3786\"],[0.5555555555555556,\"#d8576b\"],[0.6666666666666666,\"#ed7953\"],[0.7777777777777778,\"#fb9f3a\"],[0.8888888888888888,\"#fdca26\"],[1.0,\"#f0f921\"]]}],\"contourcarpet\":[{\"type\":\"contourcarpet\",\"colorbar\":{\"outlinewidth\":0,\"ticks\":\"\"}}],\"contour\":[{\"type\":\"contour\",\"colorbar\":{\"outlinewidth\":0,\"ticks\":\"\"},\"colorscale\":[[0.0,\"#0d0887\"],[0.1111111111111111,\"#46039f\"],[0.2222222222222222,\"#7201a8\"],[0.3333333333333333,\"#9c179e\"],[0.4444444444444444,\"#bd3786\"],[0.5555555555555556,\"#d8576b\"],[0.6666666666666666,\"#ed7953\"],[0.7777777777777778,\"#fb9f3a\"],[0.8888888888888888,\"#fdca26\"],[1.0,\"#f0f921\"]]}],\"surface\":[{\"type\":\"surface\",\"colorbar\":{\"outlinewidth\":0,\"ticks\":\"\"},\"colorscale\":[[0.0,\"#0d0887\"],[0.1111111111111111,\"#46039f\"],[0.2222222222222222,\"#7201a8\"],[0.3333333333333333,\"#9c179e\"],[0.4444444444444444,\"#bd3786\"],[0.5555555555555556,\"#d8576b\"],[0.6666666666666666,\"#ed7953\"],[0.7777777777777778,\"#fb9f3a\"],[0.8888888888888888,\"#fdca26\"],[1.0,\"#f0f921\"]]}],\"mesh3d\":[{\"type\":\"mesh3d\",\"colorbar\":{\"outlinewidth\":0,\"ticks\":\"\"}}],\"scatter\":[{\"fillpattern\":{\"fillmode\":\"overlay\",\"size\":10,\"solidity\":0.2},\"type\":\"scatter\"}],\"parcoords\":[{\"type\":\"parcoords\",\"line\":{\"colorbar\":{\"outlinewidth\":0,\"ticks\":\"\"}}}],\"scatterpolargl\":[{\"type\":\"scatterpolargl\",\"marker\":{\"colorbar\":{\"outlinewidth\":0,\"ticks\":\"\"}}}],\"bar\":[{\"error_x\":{\"color\":\"#2a3f5f\"},\"error_y\":{\"color\":\"#2a3f5f\"},\"marker\":{\"line\":{\"color\":\"#E5ECF6\",\"width\":0.5},\"pattern\":{\"fillmode\":\"overlay\",\"size\":10,\"solidity\":0.2}},\"type\":\"bar\"}],\"scattergeo\":[{\"type\":\"scattergeo\",\"marker\":{\"colorbar\":{\"outlinewidth\":0,\"ticks\":\"\"}}}],\"scatterpolar\":[{\"type\":\"scatterpolar\",\"marker\":{\"colorbar\":{\"outlinewidth\":0,\"ticks\":\"\"}}}],\"histogram\":[{\"marker\":{\"pattern\":{\"fillmode\":\"overlay\",\"size\":10,\"solidity\":0.2}},\"type\":\"histogram\"}],\"scattergl\":[{\"type\":\"scattergl\",\"marker\":{\"colorbar\":{\"outlinewidth\":0,\"ticks\":\"\"}}}],\"scatter3d\":[{\"type\":\"scatter3d\",\"line\":{\"colorbar\":{\"outlinewidth\":0,\"ticks\":\"\"}},\"marker\":{\"colorbar\":{\"outlinewidth\":0,\"ticks\":\"\"}}}],\"scattermapbox\":[{\"type\":\"scattermapbox\",\"marker\":{\"colorbar\":{\"outlinewidth\":0,\"ticks\":\"\"}}}],\"scatterternary\":[{\"type\":\"scatterternary\",\"marker\":{\"colorbar\":{\"outlinewidth\":0,\"ticks\":\"\"}}}],\"scattercarpet\":[{\"type\":\"scattercarpet\",\"marker\":{\"colorbar\":{\"outlinewidth\":0,\"ticks\":\"\"}}}],\"carpet\":[{\"aaxis\":{\"endlinecolor\":\"#2a3f5f\",\"gridcolor\":\"white\",\"linecolor\":\"white\",\"minorgridcolor\":\"white\",\"startlinecolor\":\"#2a3f5f\"},\"baxis\":{\"endlinecolor\":\"#2a3f5f\",\"gridcolor\":\"white\",\"linecolor\":\"white\",\"minorgridcolor\":\"white\",\"startlinecolor\":\"#2a3f5f\"},\"type\":\"carpet\"}],\"table\":[{\"cells\":{\"fill\":{\"color\":\"#EBF0F8\"},\"line\":{\"color\":\"white\"}},\"header\":{\"fill\":{\"color\":\"#C8D4E3\"},\"line\":{\"color\":\"white\"}},\"type\":\"table\"}],\"barpolar\":[{\"marker\":{\"line\":{\"color\":\"#E5ECF6\",\"width\":0.5},\"pattern\":{\"fillmode\":\"overlay\",\"size\":10,\"solidity\":0.2}},\"type\":\"barpolar\"}],\"pie\":[{\"automargin\":true,\"type\":\"pie\"}]},\"layout\":{\"autotypenumbers\":\"strict\",\"colorway\":[\"#636efa\",\"#EF553B\",\"#00cc96\",\"#ab63fa\",\"#FFA15A\",\"#19d3f3\",\"#FF6692\",\"#B6E880\",\"#FF97FF\",\"#FECB52\"],\"font\":{\"color\":\"#2a3f5f\"},\"hovermode\":\"closest\",\"hoverlabel\":{\"align\":\"left\"},\"paper_bgcolor\":\"white\",\"plot_bgcolor\":\"#E5ECF6\",\"polar\":{\"bgcolor\":\"#E5ECF6\",\"angularaxis\":{\"gridcolor\":\"white\",\"linecolor\":\"white\",\"ticks\":\"\"},\"radialaxis\":{\"gridcolor\":\"white\",\"linecolor\":\"white\",\"ticks\":\"\"}},\"ternary\":{\"bgcolor\":\"#E5ECF6\",\"aaxis\":{\"gridcolor\":\"white\",\"linecolor\":\"white\",\"ticks\":\"\"},\"baxis\":{\"gridcolor\":\"white\",\"linecolor\":\"white\",\"ticks\":\"\"},\"caxis\":{\"gridcolor\":\"white\",\"linecolor\":\"white\",\"ticks\":\"\"}},\"coloraxis\":{\"colorbar\":{\"outlinewidth\":0,\"ticks\":\"\"}},\"colorscale\":{\"sequential\":[[0.0,\"#0d0887\"],[0.1111111111111111,\"#46039f\"],[0.2222222222222222,\"#7201a8\"],[0.3333333333333333,\"#9c179e\"],[0.4444444444444444,\"#bd3786\"],[0.5555555555555556,\"#d8576b\"],[0.6666666666666666,\"#ed7953\"],[0.7777777777777778,\"#fb9f3a\"],[0.8888888888888888,\"#fdca26\"],[1.0,\"#f0f921\"]],\"sequentialminus\":[[0.0,\"#0d0887\"],[0.1111111111111111,\"#46039f\"],[0.2222222222222222,\"#7201a8\"],[0.3333333333333333,\"#9c179e\"],[0.4444444444444444,\"#bd3786\"],[0.5555555555555556,\"#d8576b\"],[0.6666666666666666,\"#ed7953\"],[0.7777777777777778,\"#fb9f3a\"],[0.8888888888888888,\"#fdca26\"],[1.0,\"#f0f921\"]],\"diverging\":[[0,\"#8e0152\"],[0.1,\"#c51b7d\"],[0.2,\"#de77ae\"],[0.3,\"#f1b6da\"],[0.4,\"#fde0ef\"],[0.5,\"#f7f7f7\"],[0.6,\"#e6f5d0\"],[0.7,\"#b8e186\"],[0.8,\"#7fbc41\"],[0.9,\"#4d9221\"],[1,\"#276419\"]]},\"xaxis\":{\"gridcolor\":\"white\",\"linecolor\":\"white\",\"ticks\":\"\",\"title\":{\"standoff\":15},\"zerolinecolor\":\"white\",\"automargin\":true,\"zerolinewidth\":2},\"yaxis\":{\"gridcolor\":\"white\",\"linecolor\":\"white\",\"ticks\":\"\",\"title\":{\"standoff\":15},\"zerolinecolor\":\"white\",\"automargin\":true,\"zerolinewidth\":2},\"scene\":{\"xaxis\":{\"backgroundcolor\":\"#E5ECF6\",\"gridcolor\":\"white\",\"linecolor\":\"white\",\"showbackground\":true,\"ticks\":\"\",\"zerolinecolor\":\"white\",\"gridwidth\":2},\"yaxis\":{\"backgroundcolor\":\"#E5ECF6\",\"gridcolor\":\"white\",\"linecolor\":\"white\",\"showbackground\":true,\"ticks\":\"\",\"zerolinecolor\":\"white\",\"gridwidth\":2},\"zaxis\":{\"backgroundcolor\":\"#E5ECF6\",\"gridcolor\":\"white\",\"linecolor\":\"white\",\"showbackground\":true,\"ticks\":\"\",\"zerolinecolor\":\"white\",\"gridwidth\":2}},\"shapedefaults\":{\"line\":{\"color\":\"#2a3f5f\"}},\"annotationdefaults\":{\"arrowcolor\":\"#2a3f5f\",\"arrowhead\":0,\"arrowwidth\":1},\"geo\":{\"bgcolor\":\"white\",\"landcolor\":\"#E5ECF6\",\"subunitcolor\":\"white\",\"showland\":true,\"showlakes\":true,\"lakecolor\":\"white\"},\"title\":{\"x\":0.05},\"mapbox\":{\"style\":\"light\"}}},\"xaxis\":{\"anchor\":\"y\",\"domain\":[0.0,1.0],\"title\":{\"text\":\"\\u0424\\u043e\\u0440\\u043c\\u0430 \\u0432\\u044b\\u043f\\u0443\\u0441\\u043a\\u0430\"}},\"yaxis\":{\"anchor\":\"x\",\"domain\":[0.0,1.0],\"title\":{\"text\":\"price\"}},\"legend\":{\"tracegroupgap\":0},\"margin\":{\"t\":60},\"barmode\":\"relative\"},                        {\"responsive\": true}                    ).then(function(){\n",
       "                            \n",
       "var gd = document.getElementById('99b170a8-b0a3-42ba-8d67-d1ec1a43f4ab');\n",
       "var x = new MutationObserver(function (mutations, observer) {{\n",
       "        var display = window.getComputedStyle(gd).display;\n",
       "        if (!display || display === 'none') {{\n",
       "            console.log([gd, 'removed!']);\n",
       "            Plotly.purge(gd);\n",
       "            observer.disconnect();\n",
       "        }}\n",
       "}});\n",
       "\n",
       "// Listen for the removal of the full notebook cells\n",
       "var notebookContainer = gd.closest('#notebook-container');\n",
       "if (notebookContainer) {{\n",
       "    x.observe(notebookContainer, {childList: true});\n",
       "}}\n",
       "\n",
       "// Listen for the clearing of the current output cell\n",
       "var outputEl = gd.closest('.output');\n",
       "if (outputEl) {{\n",
       "    x.observe(outputEl, {childList: true});\n",
       "}}\n",
       "\n",
       "                        })                };                });            </script>        </div>"
      ]
     },
     "metadata": {},
     "output_type": "display_data"
    }
   ],
   "source": [
    "px.bar(acids_df, x='Форма выпуска', y='price')"
   ]
  },
  {
   "cell_type": "code",
   "execution_count": 19,
   "id": "edf1e734",
   "metadata": {},
   "outputs": [
    {
     "data": {
      "application/vnd.plotly.v1+json": {
       "config": {
        "plotlyServerURL": "https://plot.ly"
       },
       "data": [
        {
         "alignmentgroup": "True",
         "hovertemplate": "Форма выпуска=%{x}<br>price=%{y}<extra></extra>",
         "legendgroup": "",
         "marker": {
          "color": "#636efa",
          "pattern": {
           "shape": ""
          }
         },
         "name": "",
         "offsetgroup": "",
         "orientation": "v",
         "showlegend": false,
         "textposition": "auto",
         "type": "bar",
         "x": [
          "ампулы",
          "батончик",
          "жидкость",
          "каплеты",
          "капсулы",
          "пакетики",
          "порошок",
          "таблетки"
         ],
         "xaxis": "x",
         "y": [
          31898,
          40,
          66071,
          3440,
          228992,
          3890,
          334953,
          107360
         ],
         "yaxis": "y"
        }
       ],
       "layout": {
        "barmode": "relative",
        "legend": {
         "tracegroupgap": 0
        },
        "margin": {
         "t": 60
        },
        "template": {
         "data": {
          "bar": [
           {
            "error_x": {
             "color": "#2a3f5f"
            },
            "error_y": {
             "color": "#2a3f5f"
            },
            "marker": {
             "line": {
              "color": "#E5ECF6",
              "width": 0.5
             },
             "pattern": {
              "fillmode": "overlay",
              "size": 10,
              "solidity": 0.2
             }
            },
            "type": "bar"
           }
          ],
          "barpolar": [
           {
            "marker": {
             "line": {
              "color": "#E5ECF6",
              "width": 0.5
             },
             "pattern": {
              "fillmode": "overlay",
              "size": 10,
              "solidity": 0.2
             }
            },
            "type": "barpolar"
           }
          ],
          "carpet": [
           {
            "aaxis": {
             "endlinecolor": "#2a3f5f",
             "gridcolor": "white",
             "linecolor": "white",
             "minorgridcolor": "white",
             "startlinecolor": "#2a3f5f"
            },
            "baxis": {
             "endlinecolor": "#2a3f5f",
             "gridcolor": "white",
             "linecolor": "white",
             "minorgridcolor": "white",
             "startlinecolor": "#2a3f5f"
            },
            "type": "carpet"
           }
          ],
          "choropleth": [
           {
            "colorbar": {
             "outlinewidth": 0,
             "ticks": ""
            },
            "type": "choropleth"
           }
          ],
          "contour": [
           {
            "colorbar": {
             "outlinewidth": 0,
             "ticks": ""
            },
            "colorscale": [
             [
              0,
              "#0d0887"
             ],
             [
              0.1111111111111111,
              "#46039f"
             ],
             [
              0.2222222222222222,
              "#7201a8"
             ],
             [
              0.3333333333333333,
              "#9c179e"
             ],
             [
              0.4444444444444444,
              "#bd3786"
             ],
             [
              0.5555555555555556,
              "#d8576b"
             ],
             [
              0.6666666666666666,
              "#ed7953"
             ],
             [
              0.7777777777777778,
              "#fb9f3a"
             ],
             [
              0.8888888888888888,
              "#fdca26"
             ],
             [
              1,
              "#f0f921"
             ]
            ],
            "type": "contour"
           }
          ],
          "contourcarpet": [
           {
            "colorbar": {
             "outlinewidth": 0,
             "ticks": ""
            },
            "type": "contourcarpet"
           }
          ],
          "heatmap": [
           {
            "colorbar": {
             "outlinewidth": 0,
             "ticks": ""
            },
            "colorscale": [
             [
              0,
              "#0d0887"
             ],
             [
              0.1111111111111111,
              "#46039f"
             ],
             [
              0.2222222222222222,
              "#7201a8"
             ],
             [
              0.3333333333333333,
              "#9c179e"
             ],
             [
              0.4444444444444444,
              "#bd3786"
             ],
             [
              0.5555555555555556,
              "#d8576b"
             ],
             [
              0.6666666666666666,
              "#ed7953"
             ],
             [
              0.7777777777777778,
              "#fb9f3a"
             ],
             [
              0.8888888888888888,
              "#fdca26"
             ],
             [
              1,
              "#f0f921"
             ]
            ],
            "type": "heatmap"
           }
          ],
          "heatmapgl": [
           {
            "colorbar": {
             "outlinewidth": 0,
             "ticks": ""
            },
            "colorscale": [
             [
              0,
              "#0d0887"
             ],
             [
              0.1111111111111111,
              "#46039f"
             ],
             [
              0.2222222222222222,
              "#7201a8"
             ],
             [
              0.3333333333333333,
              "#9c179e"
             ],
             [
              0.4444444444444444,
              "#bd3786"
             ],
             [
              0.5555555555555556,
              "#d8576b"
             ],
             [
              0.6666666666666666,
              "#ed7953"
             ],
             [
              0.7777777777777778,
              "#fb9f3a"
             ],
             [
              0.8888888888888888,
              "#fdca26"
             ],
             [
              1,
              "#f0f921"
             ]
            ],
            "type": "heatmapgl"
           }
          ],
          "histogram": [
           {
            "marker": {
             "pattern": {
              "fillmode": "overlay",
              "size": 10,
              "solidity": 0.2
             }
            },
            "type": "histogram"
           }
          ],
          "histogram2d": [
           {
            "colorbar": {
             "outlinewidth": 0,
             "ticks": ""
            },
            "colorscale": [
             [
              0,
              "#0d0887"
             ],
             [
              0.1111111111111111,
              "#46039f"
             ],
             [
              0.2222222222222222,
              "#7201a8"
             ],
             [
              0.3333333333333333,
              "#9c179e"
             ],
             [
              0.4444444444444444,
              "#bd3786"
             ],
             [
              0.5555555555555556,
              "#d8576b"
             ],
             [
              0.6666666666666666,
              "#ed7953"
             ],
             [
              0.7777777777777778,
              "#fb9f3a"
             ],
             [
              0.8888888888888888,
              "#fdca26"
             ],
             [
              1,
              "#f0f921"
             ]
            ],
            "type": "histogram2d"
           }
          ],
          "histogram2dcontour": [
           {
            "colorbar": {
             "outlinewidth": 0,
             "ticks": ""
            },
            "colorscale": [
             [
              0,
              "#0d0887"
             ],
             [
              0.1111111111111111,
              "#46039f"
             ],
             [
              0.2222222222222222,
              "#7201a8"
             ],
             [
              0.3333333333333333,
              "#9c179e"
             ],
             [
              0.4444444444444444,
              "#bd3786"
             ],
             [
              0.5555555555555556,
              "#d8576b"
             ],
             [
              0.6666666666666666,
              "#ed7953"
             ],
             [
              0.7777777777777778,
              "#fb9f3a"
             ],
             [
              0.8888888888888888,
              "#fdca26"
             ],
             [
              1,
              "#f0f921"
             ]
            ],
            "type": "histogram2dcontour"
           }
          ],
          "mesh3d": [
           {
            "colorbar": {
             "outlinewidth": 0,
             "ticks": ""
            },
            "type": "mesh3d"
           }
          ],
          "parcoords": [
           {
            "line": {
             "colorbar": {
              "outlinewidth": 0,
              "ticks": ""
             }
            },
            "type": "parcoords"
           }
          ],
          "pie": [
           {
            "automargin": true,
            "type": "pie"
           }
          ],
          "scatter": [
           {
            "fillpattern": {
             "fillmode": "overlay",
             "size": 10,
             "solidity": 0.2
            },
            "type": "scatter"
           }
          ],
          "scatter3d": [
           {
            "line": {
             "colorbar": {
              "outlinewidth": 0,
              "ticks": ""
             }
            },
            "marker": {
             "colorbar": {
              "outlinewidth": 0,
              "ticks": ""
             }
            },
            "type": "scatter3d"
           }
          ],
          "scattercarpet": [
           {
            "marker": {
             "colorbar": {
              "outlinewidth": 0,
              "ticks": ""
             }
            },
            "type": "scattercarpet"
           }
          ],
          "scattergeo": [
           {
            "marker": {
             "colorbar": {
              "outlinewidth": 0,
              "ticks": ""
             }
            },
            "type": "scattergeo"
           }
          ],
          "scattergl": [
           {
            "marker": {
             "colorbar": {
              "outlinewidth": 0,
              "ticks": ""
             }
            },
            "type": "scattergl"
           }
          ],
          "scattermapbox": [
           {
            "marker": {
             "colorbar": {
              "outlinewidth": 0,
              "ticks": ""
             }
            },
            "type": "scattermapbox"
           }
          ],
          "scatterpolar": [
           {
            "marker": {
             "colorbar": {
              "outlinewidth": 0,
              "ticks": ""
             }
            },
            "type": "scatterpolar"
           }
          ],
          "scatterpolargl": [
           {
            "marker": {
             "colorbar": {
              "outlinewidth": 0,
              "ticks": ""
             }
            },
            "type": "scatterpolargl"
           }
          ],
          "scatterternary": [
           {
            "marker": {
             "colorbar": {
              "outlinewidth": 0,
              "ticks": ""
             }
            },
            "type": "scatterternary"
           }
          ],
          "surface": [
           {
            "colorbar": {
             "outlinewidth": 0,
             "ticks": ""
            },
            "colorscale": [
             [
              0,
              "#0d0887"
             ],
             [
              0.1111111111111111,
              "#46039f"
             ],
             [
              0.2222222222222222,
              "#7201a8"
             ],
             [
              0.3333333333333333,
              "#9c179e"
             ],
             [
              0.4444444444444444,
              "#bd3786"
             ],
             [
              0.5555555555555556,
              "#d8576b"
             ],
             [
              0.6666666666666666,
              "#ed7953"
             ],
             [
              0.7777777777777778,
              "#fb9f3a"
             ],
             [
              0.8888888888888888,
              "#fdca26"
             ],
             [
              1,
              "#f0f921"
             ]
            ],
            "type": "surface"
           }
          ],
          "table": [
           {
            "cells": {
             "fill": {
              "color": "#EBF0F8"
             },
             "line": {
              "color": "white"
             }
            },
            "header": {
             "fill": {
              "color": "#C8D4E3"
             },
             "line": {
              "color": "white"
             }
            },
            "type": "table"
           }
          ]
         },
         "layout": {
          "annotationdefaults": {
           "arrowcolor": "#2a3f5f",
           "arrowhead": 0,
           "arrowwidth": 1
          },
          "autotypenumbers": "strict",
          "coloraxis": {
           "colorbar": {
            "outlinewidth": 0,
            "ticks": ""
           }
          },
          "colorscale": {
           "diverging": [
            [
             0,
             "#8e0152"
            ],
            [
             0.1,
             "#c51b7d"
            ],
            [
             0.2,
             "#de77ae"
            ],
            [
             0.3,
             "#f1b6da"
            ],
            [
             0.4,
             "#fde0ef"
            ],
            [
             0.5,
             "#f7f7f7"
            ],
            [
             0.6,
             "#e6f5d0"
            ],
            [
             0.7,
             "#b8e186"
            ],
            [
             0.8,
             "#7fbc41"
            ],
            [
             0.9,
             "#4d9221"
            ],
            [
             1,
             "#276419"
            ]
           ],
           "sequential": [
            [
             0,
             "#0d0887"
            ],
            [
             0.1111111111111111,
             "#46039f"
            ],
            [
             0.2222222222222222,
             "#7201a8"
            ],
            [
             0.3333333333333333,
             "#9c179e"
            ],
            [
             0.4444444444444444,
             "#bd3786"
            ],
            [
             0.5555555555555556,
             "#d8576b"
            ],
            [
             0.6666666666666666,
             "#ed7953"
            ],
            [
             0.7777777777777778,
             "#fb9f3a"
            ],
            [
             0.8888888888888888,
             "#fdca26"
            ],
            [
             1,
             "#f0f921"
            ]
           ],
           "sequentialminus": [
            [
             0,
             "#0d0887"
            ],
            [
             0.1111111111111111,
             "#46039f"
            ],
            [
             0.2222222222222222,
             "#7201a8"
            ],
            [
             0.3333333333333333,
             "#9c179e"
            ],
            [
             0.4444444444444444,
             "#bd3786"
            ],
            [
             0.5555555555555556,
             "#d8576b"
            ],
            [
             0.6666666666666666,
             "#ed7953"
            ],
            [
             0.7777777777777778,
             "#fb9f3a"
            ],
            [
             0.8888888888888888,
             "#fdca26"
            ],
            [
             1,
             "#f0f921"
            ]
           ]
          },
          "colorway": [
           "#636efa",
           "#EF553B",
           "#00cc96",
           "#ab63fa",
           "#FFA15A",
           "#19d3f3",
           "#FF6692",
           "#B6E880",
           "#FF97FF",
           "#FECB52"
          ],
          "font": {
           "color": "#2a3f5f"
          },
          "geo": {
           "bgcolor": "white",
           "lakecolor": "white",
           "landcolor": "#E5ECF6",
           "showlakes": true,
           "showland": true,
           "subunitcolor": "white"
          },
          "hoverlabel": {
           "align": "left"
          },
          "hovermode": "closest",
          "mapbox": {
           "style": "light"
          },
          "paper_bgcolor": "white",
          "plot_bgcolor": "#E5ECF6",
          "polar": {
           "angularaxis": {
            "gridcolor": "white",
            "linecolor": "white",
            "ticks": ""
           },
           "bgcolor": "#E5ECF6",
           "radialaxis": {
            "gridcolor": "white",
            "linecolor": "white",
            "ticks": ""
           }
          },
          "scene": {
           "xaxis": {
            "backgroundcolor": "#E5ECF6",
            "gridcolor": "white",
            "gridwidth": 2,
            "linecolor": "white",
            "showbackground": true,
            "ticks": "",
            "zerolinecolor": "white"
           },
           "yaxis": {
            "backgroundcolor": "#E5ECF6",
            "gridcolor": "white",
            "gridwidth": 2,
            "linecolor": "white",
            "showbackground": true,
            "ticks": "",
            "zerolinecolor": "white"
           },
           "zaxis": {
            "backgroundcolor": "#E5ECF6",
            "gridcolor": "white",
            "gridwidth": 2,
            "linecolor": "white",
            "showbackground": true,
            "ticks": "",
            "zerolinecolor": "white"
           }
          },
          "shapedefaults": {
           "line": {
            "color": "#2a3f5f"
           }
          },
          "ternary": {
           "aaxis": {
            "gridcolor": "white",
            "linecolor": "white",
            "ticks": ""
           },
           "baxis": {
            "gridcolor": "white",
            "linecolor": "white",
            "ticks": ""
           },
           "bgcolor": "#E5ECF6",
           "caxis": {
            "gridcolor": "white",
            "linecolor": "white",
            "ticks": ""
           }
          },
          "title": {
           "x": 0.05
          },
          "xaxis": {
           "automargin": true,
           "gridcolor": "white",
           "linecolor": "white",
           "ticks": "",
           "title": {
            "standoff": 15
           },
           "zerolinecolor": "white",
           "zerolinewidth": 2
          },
          "yaxis": {
           "automargin": true,
           "gridcolor": "white",
           "linecolor": "white",
           "ticks": "",
           "title": {
            "standoff": 15
           },
           "zerolinecolor": "white",
           "zerolinewidth": 2
          }
         }
        },
        "xaxis": {
         "anchor": "y",
         "domain": [
          0,
          1
         ],
         "title": {
          "text": "Форма выпуска"
         }
        },
        "yaxis": {
         "anchor": "x",
         "domain": [
          0,
          1
         ],
         "title": {
          "text": "price"
         }
        }
       }
      },
      "text/html": [
       "<div>                            <div id=\"eb1c98dc-1149-4be2-bd11-cdf2670b53cf\" class=\"plotly-graph-div\" style=\"height:525px; width:100%;\"></div>            <script type=\"text/javascript\">                require([\"plotly\"], function(Plotly) {                    window.PLOTLYENV=window.PLOTLYENV || {};                                    if (document.getElementById(\"eb1c98dc-1149-4be2-bd11-cdf2670b53cf\")) {                    Plotly.newPlot(                        \"eb1c98dc-1149-4be2-bd11-cdf2670b53cf\",                        [{\"alignmentgroup\":\"True\",\"hovertemplate\":\"\\u0424\\u043e\\u0440\\u043c\\u0430 \\u0432\\u044b\\u043f\\u0443\\u0441\\u043a\\u0430=%{x}<br>price=%{y}<extra></extra>\",\"legendgroup\":\"\",\"marker\":{\"color\":\"#636efa\",\"pattern\":{\"shape\":\"\"}},\"name\":\"\",\"offsetgroup\":\"\",\"orientation\":\"v\",\"showlegend\":false,\"textposition\":\"auto\",\"x\":[\"\\u0430\\u043c\\u043f\\u0443\\u043b\\u044b\",\"\\u0431\\u0430\\u0442\\u043e\\u043d\\u0447\\u0438\\u043a\",\"\\u0436\\u0438\\u0434\\u043a\\u043e\\u0441\\u0442\\u044c\",\"\\u043a\\u0430\\u043f\\u043b\\u0435\\u0442\\u044b\",\"\\u043a\\u0430\\u043f\\u0441\\u0443\\u043b\\u044b\",\"\\u043f\\u0430\\u043a\\u0435\\u0442\\u0438\\u043a\\u0438\",\"\\u043f\\u043e\\u0440\\u043e\\u0448\\u043e\\u043a\",\"\\u0442\\u0430\\u0431\\u043b\\u0435\\u0442\\u043a\\u0438\"],\"xaxis\":\"x\",\"y\":[31898,40,66071,3440,228992,3890,334953,107360],\"yaxis\":\"y\",\"type\":\"bar\"}],                        {\"template\":{\"data\":{\"histogram2dcontour\":[{\"type\":\"histogram2dcontour\",\"colorbar\":{\"outlinewidth\":0,\"ticks\":\"\"},\"colorscale\":[[0.0,\"#0d0887\"],[0.1111111111111111,\"#46039f\"],[0.2222222222222222,\"#7201a8\"],[0.3333333333333333,\"#9c179e\"],[0.4444444444444444,\"#bd3786\"],[0.5555555555555556,\"#d8576b\"],[0.6666666666666666,\"#ed7953\"],[0.7777777777777778,\"#fb9f3a\"],[0.8888888888888888,\"#fdca26\"],[1.0,\"#f0f921\"]]}],\"choropleth\":[{\"type\":\"choropleth\",\"colorbar\":{\"outlinewidth\":0,\"ticks\":\"\"}}],\"histogram2d\":[{\"type\":\"histogram2d\",\"colorbar\":{\"outlinewidth\":0,\"ticks\":\"\"},\"colorscale\":[[0.0,\"#0d0887\"],[0.1111111111111111,\"#46039f\"],[0.2222222222222222,\"#7201a8\"],[0.3333333333333333,\"#9c179e\"],[0.4444444444444444,\"#bd3786\"],[0.5555555555555556,\"#d8576b\"],[0.6666666666666666,\"#ed7953\"],[0.7777777777777778,\"#fb9f3a\"],[0.8888888888888888,\"#fdca26\"],[1.0,\"#f0f921\"]]}],\"heatmap\":[{\"type\":\"heatmap\",\"colorbar\":{\"outlinewidth\":0,\"ticks\":\"\"},\"colorscale\":[[0.0,\"#0d0887\"],[0.1111111111111111,\"#46039f\"],[0.2222222222222222,\"#7201a8\"],[0.3333333333333333,\"#9c179e\"],[0.4444444444444444,\"#bd3786\"],[0.5555555555555556,\"#d8576b\"],[0.6666666666666666,\"#ed7953\"],[0.7777777777777778,\"#fb9f3a\"],[0.8888888888888888,\"#fdca26\"],[1.0,\"#f0f921\"]]}],\"heatmapgl\":[{\"type\":\"heatmapgl\",\"colorbar\":{\"outlinewidth\":0,\"ticks\":\"\"},\"colorscale\":[[0.0,\"#0d0887\"],[0.1111111111111111,\"#46039f\"],[0.2222222222222222,\"#7201a8\"],[0.3333333333333333,\"#9c179e\"],[0.4444444444444444,\"#bd3786\"],[0.5555555555555556,\"#d8576b\"],[0.6666666666666666,\"#ed7953\"],[0.7777777777777778,\"#fb9f3a\"],[0.8888888888888888,\"#fdca26\"],[1.0,\"#f0f921\"]]}],\"contourcarpet\":[{\"type\":\"contourcarpet\",\"colorbar\":{\"outlinewidth\":0,\"ticks\":\"\"}}],\"contour\":[{\"type\":\"contour\",\"colorbar\":{\"outlinewidth\":0,\"ticks\":\"\"},\"colorscale\":[[0.0,\"#0d0887\"],[0.1111111111111111,\"#46039f\"],[0.2222222222222222,\"#7201a8\"],[0.3333333333333333,\"#9c179e\"],[0.4444444444444444,\"#bd3786\"],[0.5555555555555556,\"#d8576b\"],[0.6666666666666666,\"#ed7953\"],[0.7777777777777778,\"#fb9f3a\"],[0.8888888888888888,\"#fdca26\"],[1.0,\"#f0f921\"]]}],\"surface\":[{\"type\":\"surface\",\"colorbar\":{\"outlinewidth\":0,\"ticks\":\"\"},\"colorscale\":[[0.0,\"#0d0887\"],[0.1111111111111111,\"#46039f\"],[0.2222222222222222,\"#7201a8\"],[0.3333333333333333,\"#9c179e\"],[0.4444444444444444,\"#bd3786\"],[0.5555555555555556,\"#d8576b\"],[0.6666666666666666,\"#ed7953\"],[0.7777777777777778,\"#fb9f3a\"],[0.8888888888888888,\"#fdca26\"],[1.0,\"#f0f921\"]]}],\"mesh3d\":[{\"type\":\"mesh3d\",\"colorbar\":{\"outlinewidth\":0,\"ticks\":\"\"}}],\"scatter\":[{\"fillpattern\":{\"fillmode\":\"overlay\",\"size\":10,\"solidity\":0.2},\"type\":\"scatter\"}],\"parcoords\":[{\"type\":\"parcoords\",\"line\":{\"colorbar\":{\"outlinewidth\":0,\"ticks\":\"\"}}}],\"scatterpolargl\":[{\"type\":\"scatterpolargl\",\"marker\":{\"colorbar\":{\"outlinewidth\":0,\"ticks\":\"\"}}}],\"bar\":[{\"error_x\":{\"color\":\"#2a3f5f\"},\"error_y\":{\"color\":\"#2a3f5f\"},\"marker\":{\"line\":{\"color\":\"#E5ECF6\",\"width\":0.5},\"pattern\":{\"fillmode\":\"overlay\",\"size\":10,\"solidity\":0.2}},\"type\":\"bar\"}],\"scattergeo\":[{\"type\":\"scattergeo\",\"marker\":{\"colorbar\":{\"outlinewidth\":0,\"ticks\":\"\"}}}],\"scatterpolar\":[{\"type\":\"scatterpolar\",\"marker\":{\"colorbar\":{\"outlinewidth\":0,\"ticks\":\"\"}}}],\"histogram\":[{\"marker\":{\"pattern\":{\"fillmode\":\"overlay\",\"size\":10,\"solidity\":0.2}},\"type\":\"histogram\"}],\"scattergl\":[{\"type\":\"scattergl\",\"marker\":{\"colorbar\":{\"outlinewidth\":0,\"ticks\":\"\"}}}],\"scatter3d\":[{\"type\":\"scatter3d\",\"line\":{\"colorbar\":{\"outlinewidth\":0,\"ticks\":\"\"}},\"marker\":{\"colorbar\":{\"outlinewidth\":0,\"ticks\":\"\"}}}],\"scattermapbox\":[{\"type\":\"scattermapbox\",\"marker\":{\"colorbar\":{\"outlinewidth\":0,\"ticks\":\"\"}}}],\"scatterternary\":[{\"type\":\"scatterternary\",\"marker\":{\"colorbar\":{\"outlinewidth\":0,\"ticks\":\"\"}}}],\"scattercarpet\":[{\"type\":\"scattercarpet\",\"marker\":{\"colorbar\":{\"outlinewidth\":0,\"ticks\":\"\"}}}],\"carpet\":[{\"aaxis\":{\"endlinecolor\":\"#2a3f5f\",\"gridcolor\":\"white\",\"linecolor\":\"white\",\"minorgridcolor\":\"white\",\"startlinecolor\":\"#2a3f5f\"},\"baxis\":{\"endlinecolor\":\"#2a3f5f\",\"gridcolor\":\"white\",\"linecolor\":\"white\",\"minorgridcolor\":\"white\",\"startlinecolor\":\"#2a3f5f\"},\"type\":\"carpet\"}],\"table\":[{\"cells\":{\"fill\":{\"color\":\"#EBF0F8\"},\"line\":{\"color\":\"white\"}},\"header\":{\"fill\":{\"color\":\"#C8D4E3\"},\"line\":{\"color\":\"white\"}},\"type\":\"table\"}],\"barpolar\":[{\"marker\":{\"line\":{\"color\":\"#E5ECF6\",\"width\":0.5},\"pattern\":{\"fillmode\":\"overlay\",\"size\":10,\"solidity\":0.2}},\"type\":\"barpolar\"}],\"pie\":[{\"automargin\":true,\"type\":\"pie\"}]},\"layout\":{\"autotypenumbers\":\"strict\",\"colorway\":[\"#636efa\",\"#EF553B\",\"#00cc96\",\"#ab63fa\",\"#FFA15A\",\"#19d3f3\",\"#FF6692\",\"#B6E880\",\"#FF97FF\",\"#FECB52\"],\"font\":{\"color\":\"#2a3f5f\"},\"hovermode\":\"closest\",\"hoverlabel\":{\"align\":\"left\"},\"paper_bgcolor\":\"white\",\"plot_bgcolor\":\"#E5ECF6\",\"polar\":{\"bgcolor\":\"#E5ECF6\",\"angularaxis\":{\"gridcolor\":\"white\",\"linecolor\":\"white\",\"ticks\":\"\"},\"radialaxis\":{\"gridcolor\":\"white\",\"linecolor\":\"white\",\"ticks\":\"\"}},\"ternary\":{\"bgcolor\":\"#E5ECF6\",\"aaxis\":{\"gridcolor\":\"white\",\"linecolor\":\"white\",\"ticks\":\"\"},\"baxis\":{\"gridcolor\":\"white\",\"linecolor\":\"white\",\"ticks\":\"\"},\"caxis\":{\"gridcolor\":\"white\",\"linecolor\":\"white\",\"ticks\":\"\"}},\"coloraxis\":{\"colorbar\":{\"outlinewidth\":0,\"ticks\":\"\"}},\"colorscale\":{\"sequential\":[[0.0,\"#0d0887\"],[0.1111111111111111,\"#46039f\"],[0.2222222222222222,\"#7201a8\"],[0.3333333333333333,\"#9c179e\"],[0.4444444444444444,\"#bd3786\"],[0.5555555555555556,\"#d8576b\"],[0.6666666666666666,\"#ed7953\"],[0.7777777777777778,\"#fb9f3a\"],[0.8888888888888888,\"#fdca26\"],[1.0,\"#f0f921\"]],\"sequentialminus\":[[0.0,\"#0d0887\"],[0.1111111111111111,\"#46039f\"],[0.2222222222222222,\"#7201a8\"],[0.3333333333333333,\"#9c179e\"],[0.4444444444444444,\"#bd3786\"],[0.5555555555555556,\"#d8576b\"],[0.6666666666666666,\"#ed7953\"],[0.7777777777777778,\"#fb9f3a\"],[0.8888888888888888,\"#fdca26\"],[1.0,\"#f0f921\"]],\"diverging\":[[0,\"#8e0152\"],[0.1,\"#c51b7d\"],[0.2,\"#de77ae\"],[0.3,\"#f1b6da\"],[0.4,\"#fde0ef\"],[0.5,\"#f7f7f7\"],[0.6,\"#e6f5d0\"],[0.7,\"#b8e186\"],[0.8,\"#7fbc41\"],[0.9,\"#4d9221\"],[1,\"#276419\"]]},\"xaxis\":{\"gridcolor\":\"white\",\"linecolor\":\"white\",\"ticks\":\"\",\"title\":{\"standoff\":15},\"zerolinecolor\":\"white\",\"automargin\":true,\"zerolinewidth\":2},\"yaxis\":{\"gridcolor\":\"white\",\"linecolor\":\"white\",\"ticks\":\"\",\"title\":{\"standoff\":15},\"zerolinecolor\":\"white\",\"automargin\":true,\"zerolinewidth\":2},\"scene\":{\"xaxis\":{\"backgroundcolor\":\"#E5ECF6\",\"gridcolor\":\"white\",\"linecolor\":\"white\",\"showbackground\":true,\"ticks\":\"\",\"zerolinecolor\":\"white\",\"gridwidth\":2},\"yaxis\":{\"backgroundcolor\":\"#E5ECF6\",\"gridcolor\":\"white\",\"linecolor\":\"white\",\"showbackground\":true,\"ticks\":\"\",\"zerolinecolor\":\"white\",\"gridwidth\":2},\"zaxis\":{\"backgroundcolor\":\"#E5ECF6\",\"gridcolor\":\"white\",\"linecolor\":\"white\",\"showbackground\":true,\"ticks\":\"\",\"zerolinecolor\":\"white\",\"gridwidth\":2}},\"shapedefaults\":{\"line\":{\"color\":\"#2a3f5f\"}},\"annotationdefaults\":{\"arrowcolor\":\"#2a3f5f\",\"arrowhead\":0,\"arrowwidth\":1},\"geo\":{\"bgcolor\":\"white\",\"landcolor\":\"#E5ECF6\",\"subunitcolor\":\"white\",\"showland\":true,\"showlakes\":true,\"lakecolor\":\"white\"},\"title\":{\"x\":0.05},\"mapbox\":{\"style\":\"light\"}}},\"xaxis\":{\"anchor\":\"y\",\"domain\":[0.0,1.0],\"title\":{\"text\":\"\\u0424\\u043e\\u0440\\u043c\\u0430 \\u0432\\u044b\\u043f\\u0443\\u0441\\u043a\\u0430\"}},\"yaxis\":{\"anchor\":\"x\",\"domain\":[0.0,1.0],\"title\":{\"text\":\"price\"}},\"legend\":{\"tracegroupgap\":0},\"margin\":{\"t\":60},\"barmode\":\"relative\"},                        {\"responsive\": true}                    ).then(function(){\n",
       "                            \n",
       "var gd = document.getElementById('eb1c98dc-1149-4be2-bd11-cdf2670b53cf');\n",
       "var x = new MutationObserver(function (mutations, observer) {{\n",
       "        var display = window.getComputedStyle(gd).display;\n",
       "        if (!display || display === 'none') {{\n",
       "            console.log([gd, 'removed!']);\n",
       "            Plotly.purge(gd);\n",
       "            observer.disconnect();\n",
       "        }}\n",
       "}});\n",
       "\n",
       "// Listen for the removal of the full notebook cells\n",
       "var notebookContainer = gd.closest('#notebook-container');\n",
       "if (notebookContainer) {{\n",
       "    x.observe(notebookContainer, {childList: true});\n",
       "}}\n",
       "\n",
       "// Listen for the clearing of the current output cell\n",
       "var outputEl = gd.closest('.output');\n",
       "if (outputEl) {{\n",
       "    x.observe(outputEl, {childList: true});\n",
       "}}\n",
       "\n",
       "                        })                };                });            </script>        </div>"
      ]
     },
     "metadata": {},
     "output_type": "display_data"
    }
   ],
   "source": [
    "df_for_bar = acids_df.groupby('Форма выпуска').sum().reset_index()[['Форма выпуска', 'price']]\n",
    "px.bar(df_for_bar, x='Форма выпуска', y='price')"
   ]
  },
  {
   "cell_type": "code",
   "execution_count": 21,
   "id": "3f35e613",
   "metadata": {},
   "outputs": [
    {
     "data": {
      "application/vnd.plotly.v1+json": {
       "config": {
        "plotlyServerURL": "https://plot.ly"
       },
       "data": [
        {
         "hovertemplate": "Вес нетто, г=%{x}<br>price=%{y}<extra></extra>",
         "legendgroup": "",
         "marker": {
          "color": "#636efa",
          "symbol": "circle"
         },
         "mode": "markers",
         "name": "",
         "orientation": "v",
         "showlegend": false,
         "type": "scatter",
         "x": [
          null,
          null,
          null,
          100,
          378,
          null,
          null,
          null,
          null,
          300,
          60,
          200,
          180,
          500,
          null,
          87,
          null,
          550,
          70,
          90,
          60,
          280,
          null,
          150,
          140,
          120,
          null,
          220,
          120,
          300,
          null,
          235,
          70,
          390,
          50,
          87,
          520,
          105,
          1000,
          20,
          50,
          420,
          100,
          null,
          240,
          1200,
          null,
          100,
          300,
          140,
          10,
          4000,
          750,
          200,
          150,
          null,
          280,
          500,
          175,
          350,
          260,
          250,
          50,
          520,
          null,
          760,
          50,
          400,
          75,
          321,
          300,
          null,
          300,
          140,
          90,
          350,
          370,
          205,
          null,
          360,
          450,
          350,
          600,
          null,
          165,
          null,
          null,
          285,
          200,
          780,
          310,
          640,
          180,
          500,
          70,
          200,
          800,
          500,
          955,
          300,
          85,
          200,
          165,
          340,
          null,
          400,
          null,
          1200,
          55,
          null,
          270,
          300,
          745,
          250,
          850,
          500,
          330,
          600,
          500,
          null,
          110,
          520,
          230,
          790,
          220,
          530,
          110,
          500,
          150,
          240,
          150,
          200,
          200,
          125,
          null,
          300,
          150,
          null,
          1070,
          405,
          690,
          200,
          170,
          1155,
          null,
          285,
          600,
          null,
          500,
          673,
          500,
          375,
          705,
          370,
          500,
          200,
          350,
          500,
          240,
          null,
          null,
          250,
          null,
          500,
          390,
          null,
          87,
          81,
          240,
          null,
          null,
          87,
          null,
          87,
          null,
          null,
          250,
          140,
          180,
          null,
          120,
          null,
          null,
          500,
          null,
          null,
          720,
          350,
          245,
          300,
          1000,
          90,
          250,
          120,
          590,
          null,
          250,
          null,
          87,
          null,
          null,
          150,
          535,
          300,
          120,
          500,
          340,
          405,
          700,
          300,
          735,
          350,
          null,
          300,
          null,
          110,
          120,
          null,
          255,
          1500,
          120,
          125,
          null,
          145,
          500,
          300,
          null,
          250,
          null,
          null,
          400,
          null,
          200,
          345,
          590,
          600,
          500,
          380,
          125,
          550,
          255,
          180,
          4000,
          200,
          85,
          500,
          170,
          null,
          200,
          360,
          100,
          125,
          300,
          250,
          200,
          395,
          180,
          75,
          350,
          590,
          400,
          295,
          null,
          null,
          230,
          260,
          65,
          450,
          null,
          290,
          250,
          100,
          95,
          310,
          500,
          805,
          490,
          605,
          640,
          145,
          130,
          155,
          500,
          555,
          800,
          300,
          470,
          300,
          325,
          400,
          360,
          250,
          248,
          220,
          null,
          520,
          185,
          2160,
          390,
          210,
          200,
          200,
          null,
          null,
          610,
          null,
          290,
          1020,
          340,
          650,
          null,
          490,
          500,
          500,
          600,
          1160,
          450,
          175,
          750,
          570,
          345,
          535,
          355,
          null,
          665,
          500,
          575,
          470,
          625,
          380,
          null,
          null,
          680,
          1400,
          null,
          505,
          null,
          730,
          null,
          1300,
          null,
          null,
          585,
          600,
          500,
          345,
          515,
          645,
          145,
          465,
          510,
          null,
          575,
          null,
          950,
          651,
          1305,
          650,
          425,
          590,
          null,
          910,
          600,
          654,
          null,
          480,
          550,
          620,
          360,
          495,
          300,
          325,
          null,
          null,
          480,
          615,
          365,
          335,
          910,
          null,
          370,
          360,
          405,
          1255,
          380,
          80,
          400,
          240,
          1010,
          null,
          200,
          560,
          null,
          195,
          null,
          null,
          480,
          480,
          750,
          651,
          1230,
          645,
          1055,
          600,
          450,
          650,
          null,
          null,
          null,
          434,
          585,
          345,
          440,
          770,
          750,
          240,
          220,
          560,
          500,
          605,
          100,
          65,
          100,
          220,
          250,
          710,
          null,
          null,
          null,
          null,
          1300,
          690,
          400,
          15,
          600,
          null,
          605,
          950,
          480,
          575,
          null,
          470,
          null,
          1000,
          200,
          null,
          395,
          1200,
          450,
          null,
          null,
          680,
          500,
          null,
          400,
          250,
          435,
          245,
          485,
          140,
          440,
          390,
          null,
          725,
          1135,
          110,
          null,
          170,
          585,
          1100,
          null,
          655,
          null,
          300,
          190,
          215,
          170,
          355,
          175,
          305,
          480,
          595,
          160,
          600,
          null,
          null,
          140,
          120,
          300,
          null,
          510,
          null,
          500,
          1000,
          1255,
          null,
          275,
          600,
          null,
          375,
          45,
          360,
          315,
          1770,
          1070,
          400,
          null,
          1240,
          405,
          305,
          460,
          500,
          580,
          360,
          1230,
          115,
          595,
          360,
          150,
          310,
          500,
          335,
          null,
          415,
          780,
          null,
          255,
          780,
          110,
          500,
          500,
          null,
          625,
          null,
          515,
          300,
          115,
          175,
          1060,
          135,
          null,
          160,
          400,
          255,
          820,
          600,
          350,
          250,
          null,
          300,
          115,
          80,
          120,
          null,
          null,
          660,
          null,
          570,
          600,
          345,
          null,
          120,
          200,
          115,
          500,
          625,
          null,
          795,
          515,
          575,
          1200,
          590,
          335,
          680,
          205,
          310,
          null,
          1200,
          630,
          545,
          980,
          285,
          35,
          180,
          760,
          325,
          285,
          600,
          1000,
          1120,
          700,
          610,
          895,
          500,
          190,
          null,
          115,
          550,
          130,
          600,
          null,
          345,
          705,
          null,
          250,
          375,
          65,
          295,
          165,
          1155,
          520,
          null,
          null,
          350,
          null,
          365,
          520,
          125,
          635,
          null,
          550,
          null,
          565,
          null,
          200,
          250,
          null,
          null,
          null,
          530,
          305,
          695,
          120,
          1140,
          590,
          745,
          1245,
          690,
          245,
          350,
          595,
          370,
          270,
          null,
          null,
          305,
          485,
          915,
          null,
          170,
          815,
          455,
          70,
          200,
          330,
          128,
          160,
          null,
          null,
          720,
          125,
          855,
          null,
          100,
          325,
          1010,
          300,
          150,
          365,
          45,
          250,
          560,
          400,
          80,
          410,
          155,
          720,
          390,
          null,
          160,
          1235,
          490,
          680,
          375,
          null,
          70,
          200,
          365,
          500,
          275,
          550,
          575,
          90,
          250,
          115,
          340,
          500,
          null,
          850,
          175,
          null,
          105,
          240,
          145,
          530,
          145,
          300,
          null,
          950,
          775,
          385,
          655,
          60,
          1135,
          495,
          350,
          535,
          170,
          100,
          350,
          810,
          null,
          1140,
          265,
          350,
          605,
          null,
          485,
          340,
          460,
          150,
          null,
          null,
          150,
          180,
          560,
          100,
          495,
          210,
          200,
          null,
          1425,
          150,
          425,
          120,
          540,
          105,
          530,
          245,
          null,
          355,
          300,
          420,
          575,
          845,
          435,
          300,
          null,
          400,
          365,
          1270,
          530,
          910,
          565,
          335,
          65,
          515,
          815,
          550,
          140,
          605,
          230,
          200,
          1230,
          265,
          960,
          530,
          680,
          275,
          500,
          null,
          290,
          null,
          170,
          500,
          null,
          550,
          265,
          605,
          280,
          null,
          140,
          390,
          810,
          null,
          null,
          550,
          75,
          200,
          200,
          255,
          110,
          50,
          255,
          880,
          null,
          590,
          null,
          700,
          null,
          95,
          140,
          495,
          450,
          955,
          null,
          365,
          null,
          175,
          335,
          350,
          300,
          650,
          345,
          null,
          980,
          170,
          300,
          85,
          225,
          145,
          250,
          600,
          625,
          405,
          350,
          null,
          525,
          null,
          1135,
          360,
          130,
          1500,
          400,
          250,
          200,
          585,
          290,
          1355,
          520,
          150,
          95,
          490,
          145,
          380,
          null,
          450,
          730,
          1285,
          340,
          250,
          500,
          null,
          360,
          230,
          250,
          135,
          365,
          null,
          680,
          550,
          30,
          370,
          500,
          615,
          600,
          null,
          155,
          550,
          580,
          1130,
          380,
          55,
          180,
          185,
          670,
          590,
          145,
          145,
          1295,
          300,
          180,
          500,
          980,
          365,
          435,
          200,
          175,
          300,
          600,
          null,
          490,
          null,
          390,
          420,
          565,
          345,
          310,
          155,
          375,
          200,
          195,
          515,
          695,
          1000,
          345,
          600,
          1060,
          690,
          1315,
          400,
          200,
          null,
          360,
          350,
          150
         ],
         "xaxis": "x",
         "y": [
          1490,
          690,
          790,
          8090,
          1963,
          720,
          1140,
          1680,
          1490,
          1190,
          3240,
          1770,
          830,
          170,
          1010,
          1193,
          210,
          140,
          1420,
          510,
          2070,
          1260,
          1430,
          2950,
          1670,
          690,
          2360,
          1900,
          980,
          1050,
          880,
          1135,
          1410,
          1160,
          2750,
          1520,
          1850,
          3290,
          2580,
          129,
          180,
          1530,
          1020,
          180,
          1490,
          2000,
          3600,
          1670,
          1350,
          1650,
          80,
          4460,
          3660,
          2170,
          820,
          910,
          1170,
          2240,
          1130,
          1950,
          1520,
          1190,
          110,
          1590,
          1340,
          1540,
          126,
          2850,
          2370,
          3420,
          1040,
          1790,
          1639,
          1460,
          2280,
          1960,
          1520,
          2210,
          1640,
          2030,
          1890,
          1410,
          1612,
          2650,
          1620,
          1650,
          2010,
          2660,
          640,
          2520,
          1180,
          4210,
          750,
          1770,
          1230,
          1340,
          3320,
          3220,
          2890,
          1828,
          1290,
          1440,
          990,
          2050,
          1880,
          3290,
          1980,
          1380,
          610,
          1161,
          2220,
          1910,
          3950,
          820,
          2200,
          860,
          1882,
          1360,
          4250,
          1860,
          1610,
          1690,
          1550,
          2380,
          1390,
          2620,
          880,
          140,
          1540,
          490,
          980,
          760,
          1540,
          1351,
          830,
          2250,
          1010,
          820,
          3360,
          1530,
          2490,
          890,
          1230,
          2640,
          2650,
          1850,
          2130,
          2390,
          2990,
          1780,
          3230,
          3540,
          3380,
          1990,
          2220,
          1450,
          1830,
          2340,
          1350,
          790,
          1410,
          1650,
          1620,
          2990,
          1720,
          2200,
          1350,
          615,
          2030,
          2200,
          2130,
          1268,
          140,
          1241,
          110,
          1340,
          690,
          1250,
          526,
          960,
          690,
          2160,
          1079,
          2150,
          770,
          1760,
          1100,
          2030,
          1330,
          1520,
          190,
          510,
          740,
          518,
          3340,
          810,
          1265,
          1410,
          963,
          1960,
          1250,
          890,
          2650,
          780,
          690,
          1050,
          2630,
          2090,
          3680,
          460,
          250,
          1890,
          2400,
          1490,
          55,
          1620,
          850,
          2130,
          2230,
          1680,
          1150,
          3350,
          1390,
          1040,
          1950,
          1790,
          1170,
          1198,
          3290,
          1990,
          1540,
          1110,
          980,
          2474,
          2290,
          1450,
          3200,
          2870,
          1180,
          1430,
          1810,
          820,
          2843,
          1680,
          1310,
          1980,
          2740,
          2670,
          1200,
          1450,
          1430,
          1570,
          850,
          2510,
          2061,
          4390,
          1120,
          1260,
          1480,
          3420,
          1090,
          2090,
          3600,
          930,
          1520,
          1570,
          1260,
          2860,
          890,
          2020,
          1260,
          1040,
          1241,
          1110,
          2370,
          4480,
          2590,
          3020,
          1081,
          1760,
          790,
          990,
          2410,
          3990,
          4760,
          2290,
          3170,
          1550,
          1520,
          3010,
          2230,
          1160,
          2630,
          2230,
          3830,
          1833,
          1690,
          9021,
          3020,
          2150,
          1327,
          1840,
          1220,
          1250,
          1420,
          950,
          1200,
          210,
          2200,
          1588,
          1540,
          1590,
          73,
          1230,
          530,
          1100,
          2340,
          1100,
          1470,
          0,
          1600,
          1900,
          1920,
          1450,
          660,
          1100,
          1120,
          1290,
          1690,
          1430,
          1720,
          910,
          2650,
          3240,
          690,
          1430,
          1720,
          4530,
          30,
          1370,
          628,
          890,
          1020,
          580,
          2110,
          1170,
          1480,
          70,
          900,
          1730,
          2130,
          50,
          1900,
          1130,
          1790,
          1290,
          980,
          1600,
          1310,
          1380,
          1780,
          1540,
          1690,
          70,
          850,
          1190,
          2640,
          2300,
          2090,
          2600,
          1190,
          1950,
          1800,
          230,
          1290,
          880,
          830,
          1290,
          2140,
          710,
          1210,
          1330,
          600,
          1550,
          1290,
          700,
          970,
          1290,
          3490,
          400,
          690,
          720,
          1588,
          1730,
          1990,
          2070,
          1108,
          980,
          1470,
          1290,
          1290,
          70,
          3110,
          1490,
          1750,
          1588,
          1390,
          700,
          798,
          1148,
          2100,
          1170,
          1370,
          840,
          1368,
          1290,
          490,
          1290,
          1980,
          1580,
          840,
          740,
          1160,
          740,
          1070,
          1750,
          628,
          1390,
          1690,
          0,
          1690,
          1990,
          1210,
          160,
          69,
          1198,
          1400,
          1790,
          1190,
          810,
          1440,
          1600,
          470,
          1440,
          950,
          1849,
          970,
          1910,
          790,
          1540,
          1090,
          80,
          1100,
          1588,
          520,
          790,
          1500,
          1220,
          1990,
          1170,
          1660,
          1800,
          620,
          3340,
          2550,
          910,
          2400,
          870,
          930,
          40,
          1090,
          2030,
          1770,
          1080,
          1390,
          1500,
          690,
          510,
          890,
          1410,
          1640,
          1850,
          1590,
          1640,
          650,
          0,
          2300,
          700,
          2690,
          2130,
          1660,
          560,
          1390,
          0,
          2090,
          0,
          730,
          150,
          1390,
          1130,
          280,
          440,
          990,
          70,
          1590,
          890,
          1440,
          1590,
          1580,
          790,
          2650,
          2250,
          1550,
          1180,
          2290,
          900,
          620,
          1150,
          2240,
          1570,
          350,
          1520,
          960,
          2630,
          1260,
          3598,
          1680,
          2160,
          910,
          1330,
          1390,
          100,
          1190,
          350,
          2890,
          760,
          2380,
          1540,
          830,
          670,
          1720,
          970,
          890,
          890,
          1990,
          1710,
          590,
          710,
          680,
          990,
          910,
          700,
          1340,
          650,
          570,
          1440,
          1275,
          3100,
          1950,
          2900,
          1190,
          1480,
          740,
          2660,
          1060,
          1740,
          1840,
          1490,
          2660,
          1310,
          2190,
          1630,
          950,
          630,
          870,
          1260,
          770,
          1810,
          990,
          1810,
          2490,
          2560,
          190,
          1580,
          1690,
          1440,
          460,
          3890,
          1100,
          3590,
          1800,
          1219,
          1760,
          3660,
          890,
          1290,
          800,
          990,
          1650,
          3490,
          590,
          1990,
          2350,
          2490,
          1200,
          1540,
          530,
          1390,
          1970,
          2200,
          1680,
          600,
          1,
          690,
          590,
          1500,
          780,
          1390,
          1330,
          730,
          1260,
          750,
          1070,
          900,
          1990,
          1270,
          2870,
          580,
          690,
          70,
          2230,
          1190,
          790,
          1770,
          2489,
          1520,
          1620,
          2770,
          790,
          2630,
          1240,
          480,
          1780,
          1240,
          1590,
          2330,
          2490,
          1680,
          2120,
          1730,
          1980,
          2040,
          390,
          690,
          2090,
          1440,
          1210,
          1050,
          1610,
          1580,
          540,
          2190,
          1680,
          490,
          1230,
          1940,
          1290,
          1420,
          1110,
          2030,
          840,
          1290,
          940,
          1390,
          420,
          1780,
          1160,
          1860,
          780,
          1190,
          1590,
          1540,
          1480,
          1790,
          2490,
          1190,
          1260,
          710,
          4600,
          1030,
          1890,
          1290,
          890,
          1130,
          690,
          2250,
          4100,
          938,
          2430,
          2110,
          1380,
          2100,
          1090,
          940,
          70,
          1490,
          1220,
          290,
          2690,
          2030,
          990,
          1090,
          1240,
          2260,
          990,
          450,
          1390,
          1190,
          750,
          1690,
          1990,
          1970,
          1440,
          900,
          1370,
          1890,
          1090,
          2150,
          690,
          1970,
          980,
          690,
          560,
          890,
          790,
          2090,
          773,
          1890,
          1450,
          1460,
          908,
          2490,
          1230,
          1990,
          2050,
          1780,
          690,
          1290,
          1730,
          890,
          1690,
          1190,
          620,
          2020,
          1920,
          1180,
          1240,
          788,
          890,
          640,
          2140,
          90,
          1770,
          1310,
          1990,
          400,
          2650,
          1090,
          1160,
          1190,
          3020,
          2130,
          640,
          1740,
          1570,
          2820,
          90,
          2010,
          590,
          1090,
          1530,
          1239,
          1290,
          3420,
          1290,
          1840,
          1970,
          1488,
          2488,
          890,
          290,
          990,
          1620,
          4020,
          2290,
          1240,
          3290,
          390,
          1170,
          1290,
          1650,
          790,
          1530,
          2110,
          1490,
          990,
          2090,
          3130,
          2290,
          4530,
          710,
          1570,
          3590,
          1690,
          2190,
          380,
          580,
          660,
          2210,
          990,
          1230,
          3450,
          3510,
          7390,
          740,
          3190,
          1130,
          1137,
          1190,
          1390,
          1490,
          1910,
          2280,
          2560,
          1660,
          1430,
          1990,
          990,
          990,
          1740,
          840,
          850,
          1810,
          1920,
          590,
          1750,
          1540,
          720,
          1440,
          780,
          1290,
          1180,
          2509,
          1030,
          1090,
          840,
          1930,
          2140,
          1790,
          2240,
          2050,
          3730,
          3740,
          2420,
          690,
          579,
          1190,
          990,
          1390,
          1290,
          1170,
          644,
          1343,
          3340,
          2580,
          790,
          3550,
          890,
          1350,
          2490,
          4990,
          1490,
          1231,
          1490,
          1880,
          3550,
          2211,
          740,
          1390,
          2240,
          1590,
          1050,
          2025,
          2030,
          1390,
          4170,
          1290,
          1630,
          890,
          2940,
          978,
          2690,
          3020,
          1570,
          2290,
          3360,
          776,
          1740,
          1790,
          3280,
          1090,
          1690,
          3590,
          3310,
          1990,
          2590,
          3060,
          3440,
          3150,
          5950,
          1990,
          1120,
          1240,
          1510,
          1390,
          990
         ],
         "yaxis": "y"
        }
       ],
       "layout": {
        "legend": {
         "tracegroupgap": 0
        },
        "margin": {
         "t": 60
        },
        "template": {
         "data": {
          "bar": [
           {
            "error_x": {
             "color": "#2a3f5f"
            },
            "error_y": {
             "color": "#2a3f5f"
            },
            "marker": {
             "line": {
              "color": "#E5ECF6",
              "width": 0.5
             },
             "pattern": {
              "fillmode": "overlay",
              "size": 10,
              "solidity": 0.2
             }
            },
            "type": "bar"
           }
          ],
          "barpolar": [
           {
            "marker": {
             "line": {
              "color": "#E5ECF6",
              "width": 0.5
             },
             "pattern": {
              "fillmode": "overlay",
              "size": 10,
              "solidity": 0.2
             }
            },
            "type": "barpolar"
           }
          ],
          "carpet": [
           {
            "aaxis": {
             "endlinecolor": "#2a3f5f",
             "gridcolor": "white",
             "linecolor": "white",
             "minorgridcolor": "white",
             "startlinecolor": "#2a3f5f"
            },
            "baxis": {
             "endlinecolor": "#2a3f5f",
             "gridcolor": "white",
             "linecolor": "white",
             "minorgridcolor": "white",
             "startlinecolor": "#2a3f5f"
            },
            "type": "carpet"
           }
          ],
          "choropleth": [
           {
            "colorbar": {
             "outlinewidth": 0,
             "ticks": ""
            },
            "type": "choropleth"
           }
          ],
          "contour": [
           {
            "colorbar": {
             "outlinewidth": 0,
             "ticks": ""
            },
            "colorscale": [
             [
              0,
              "#0d0887"
             ],
             [
              0.1111111111111111,
              "#46039f"
             ],
             [
              0.2222222222222222,
              "#7201a8"
             ],
             [
              0.3333333333333333,
              "#9c179e"
             ],
             [
              0.4444444444444444,
              "#bd3786"
             ],
             [
              0.5555555555555556,
              "#d8576b"
             ],
             [
              0.6666666666666666,
              "#ed7953"
             ],
             [
              0.7777777777777778,
              "#fb9f3a"
             ],
             [
              0.8888888888888888,
              "#fdca26"
             ],
             [
              1,
              "#f0f921"
             ]
            ],
            "type": "contour"
           }
          ],
          "contourcarpet": [
           {
            "colorbar": {
             "outlinewidth": 0,
             "ticks": ""
            },
            "type": "contourcarpet"
           }
          ],
          "heatmap": [
           {
            "colorbar": {
             "outlinewidth": 0,
             "ticks": ""
            },
            "colorscale": [
             [
              0,
              "#0d0887"
             ],
             [
              0.1111111111111111,
              "#46039f"
             ],
             [
              0.2222222222222222,
              "#7201a8"
             ],
             [
              0.3333333333333333,
              "#9c179e"
             ],
             [
              0.4444444444444444,
              "#bd3786"
             ],
             [
              0.5555555555555556,
              "#d8576b"
             ],
             [
              0.6666666666666666,
              "#ed7953"
             ],
             [
              0.7777777777777778,
              "#fb9f3a"
             ],
             [
              0.8888888888888888,
              "#fdca26"
             ],
             [
              1,
              "#f0f921"
             ]
            ],
            "type": "heatmap"
           }
          ],
          "heatmapgl": [
           {
            "colorbar": {
             "outlinewidth": 0,
             "ticks": ""
            },
            "colorscale": [
             [
              0,
              "#0d0887"
             ],
             [
              0.1111111111111111,
              "#46039f"
             ],
             [
              0.2222222222222222,
              "#7201a8"
             ],
             [
              0.3333333333333333,
              "#9c179e"
             ],
             [
              0.4444444444444444,
              "#bd3786"
             ],
             [
              0.5555555555555556,
              "#d8576b"
             ],
             [
              0.6666666666666666,
              "#ed7953"
             ],
             [
              0.7777777777777778,
              "#fb9f3a"
             ],
             [
              0.8888888888888888,
              "#fdca26"
             ],
             [
              1,
              "#f0f921"
             ]
            ],
            "type": "heatmapgl"
           }
          ],
          "histogram": [
           {
            "marker": {
             "pattern": {
              "fillmode": "overlay",
              "size": 10,
              "solidity": 0.2
             }
            },
            "type": "histogram"
           }
          ],
          "histogram2d": [
           {
            "colorbar": {
             "outlinewidth": 0,
             "ticks": ""
            },
            "colorscale": [
             [
              0,
              "#0d0887"
             ],
             [
              0.1111111111111111,
              "#46039f"
             ],
             [
              0.2222222222222222,
              "#7201a8"
             ],
             [
              0.3333333333333333,
              "#9c179e"
             ],
             [
              0.4444444444444444,
              "#bd3786"
             ],
             [
              0.5555555555555556,
              "#d8576b"
             ],
             [
              0.6666666666666666,
              "#ed7953"
             ],
             [
              0.7777777777777778,
              "#fb9f3a"
             ],
             [
              0.8888888888888888,
              "#fdca26"
             ],
             [
              1,
              "#f0f921"
             ]
            ],
            "type": "histogram2d"
           }
          ],
          "histogram2dcontour": [
           {
            "colorbar": {
             "outlinewidth": 0,
             "ticks": ""
            },
            "colorscale": [
             [
              0,
              "#0d0887"
             ],
             [
              0.1111111111111111,
              "#46039f"
             ],
             [
              0.2222222222222222,
              "#7201a8"
             ],
             [
              0.3333333333333333,
              "#9c179e"
             ],
             [
              0.4444444444444444,
              "#bd3786"
             ],
             [
              0.5555555555555556,
              "#d8576b"
             ],
             [
              0.6666666666666666,
              "#ed7953"
             ],
             [
              0.7777777777777778,
              "#fb9f3a"
             ],
             [
              0.8888888888888888,
              "#fdca26"
             ],
             [
              1,
              "#f0f921"
             ]
            ],
            "type": "histogram2dcontour"
           }
          ],
          "mesh3d": [
           {
            "colorbar": {
             "outlinewidth": 0,
             "ticks": ""
            },
            "type": "mesh3d"
           }
          ],
          "parcoords": [
           {
            "line": {
             "colorbar": {
              "outlinewidth": 0,
              "ticks": ""
             }
            },
            "type": "parcoords"
           }
          ],
          "pie": [
           {
            "automargin": true,
            "type": "pie"
           }
          ],
          "scatter": [
           {
            "fillpattern": {
             "fillmode": "overlay",
             "size": 10,
             "solidity": 0.2
            },
            "type": "scatter"
           }
          ],
          "scatter3d": [
           {
            "line": {
             "colorbar": {
              "outlinewidth": 0,
              "ticks": ""
             }
            },
            "marker": {
             "colorbar": {
              "outlinewidth": 0,
              "ticks": ""
             }
            },
            "type": "scatter3d"
           }
          ],
          "scattercarpet": [
           {
            "marker": {
             "colorbar": {
              "outlinewidth": 0,
              "ticks": ""
             }
            },
            "type": "scattercarpet"
           }
          ],
          "scattergeo": [
           {
            "marker": {
             "colorbar": {
              "outlinewidth": 0,
              "ticks": ""
             }
            },
            "type": "scattergeo"
           }
          ],
          "scattergl": [
           {
            "marker": {
             "colorbar": {
              "outlinewidth": 0,
              "ticks": ""
             }
            },
            "type": "scattergl"
           }
          ],
          "scattermapbox": [
           {
            "marker": {
             "colorbar": {
              "outlinewidth": 0,
              "ticks": ""
             }
            },
            "type": "scattermapbox"
           }
          ],
          "scatterpolar": [
           {
            "marker": {
             "colorbar": {
              "outlinewidth": 0,
              "ticks": ""
             }
            },
            "type": "scatterpolar"
           }
          ],
          "scatterpolargl": [
           {
            "marker": {
             "colorbar": {
              "outlinewidth": 0,
              "ticks": ""
             }
            },
            "type": "scatterpolargl"
           }
          ],
          "scatterternary": [
           {
            "marker": {
             "colorbar": {
              "outlinewidth": 0,
              "ticks": ""
             }
            },
            "type": "scatterternary"
           }
          ],
          "surface": [
           {
            "colorbar": {
             "outlinewidth": 0,
             "ticks": ""
            },
            "colorscale": [
             [
              0,
              "#0d0887"
             ],
             [
              0.1111111111111111,
              "#46039f"
             ],
             [
              0.2222222222222222,
              "#7201a8"
             ],
             [
              0.3333333333333333,
              "#9c179e"
             ],
             [
              0.4444444444444444,
              "#bd3786"
             ],
             [
              0.5555555555555556,
              "#d8576b"
             ],
             [
              0.6666666666666666,
              "#ed7953"
             ],
             [
              0.7777777777777778,
              "#fb9f3a"
             ],
             [
              0.8888888888888888,
              "#fdca26"
             ],
             [
              1,
              "#f0f921"
             ]
            ],
            "type": "surface"
           }
          ],
          "table": [
           {
            "cells": {
             "fill": {
              "color": "#EBF0F8"
             },
             "line": {
              "color": "white"
             }
            },
            "header": {
             "fill": {
              "color": "#C8D4E3"
             },
             "line": {
              "color": "white"
             }
            },
            "type": "table"
           }
          ]
         },
         "layout": {
          "annotationdefaults": {
           "arrowcolor": "#2a3f5f",
           "arrowhead": 0,
           "arrowwidth": 1
          },
          "autotypenumbers": "strict",
          "coloraxis": {
           "colorbar": {
            "outlinewidth": 0,
            "ticks": ""
           }
          },
          "colorscale": {
           "diverging": [
            [
             0,
             "#8e0152"
            ],
            [
             0.1,
             "#c51b7d"
            ],
            [
             0.2,
             "#de77ae"
            ],
            [
             0.3,
             "#f1b6da"
            ],
            [
             0.4,
             "#fde0ef"
            ],
            [
             0.5,
             "#f7f7f7"
            ],
            [
             0.6,
             "#e6f5d0"
            ],
            [
             0.7,
             "#b8e186"
            ],
            [
             0.8,
             "#7fbc41"
            ],
            [
             0.9,
             "#4d9221"
            ],
            [
             1,
             "#276419"
            ]
           ],
           "sequential": [
            [
             0,
             "#0d0887"
            ],
            [
             0.1111111111111111,
             "#46039f"
            ],
            [
             0.2222222222222222,
             "#7201a8"
            ],
            [
             0.3333333333333333,
             "#9c179e"
            ],
            [
             0.4444444444444444,
             "#bd3786"
            ],
            [
             0.5555555555555556,
             "#d8576b"
            ],
            [
             0.6666666666666666,
             "#ed7953"
            ],
            [
             0.7777777777777778,
             "#fb9f3a"
            ],
            [
             0.8888888888888888,
             "#fdca26"
            ],
            [
             1,
             "#f0f921"
            ]
           ],
           "sequentialminus": [
            [
             0,
             "#0d0887"
            ],
            [
             0.1111111111111111,
             "#46039f"
            ],
            [
             0.2222222222222222,
             "#7201a8"
            ],
            [
             0.3333333333333333,
             "#9c179e"
            ],
            [
             0.4444444444444444,
             "#bd3786"
            ],
            [
             0.5555555555555556,
             "#d8576b"
            ],
            [
             0.6666666666666666,
             "#ed7953"
            ],
            [
             0.7777777777777778,
             "#fb9f3a"
            ],
            [
             0.8888888888888888,
             "#fdca26"
            ],
            [
             1,
             "#f0f921"
            ]
           ]
          },
          "colorway": [
           "#636efa",
           "#EF553B",
           "#00cc96",
           "#ab63fa",
           "#FFA15A",
           "#19d3f3",
           "#FF6692",
           "#B6E880",
           "#FF97FF",
           "#FECB52"
          ],
          "font": {
           "color": "#2a3f5f"
          },
          "geo": {
           "bgcolor": "white",
           "lakecolor": "white",
           "landcolor": "#E5ECF6",
           "showlakes": true,
           "showland": true,
           "subunitcolor": "white"
          },
          "hoverlabel": {
           "align": "left"
          },
          "hovermode": "closest",
          "mapbox": {
           "style": "light"
          },
          "paper_bgcolor": "white",
          "plot_bgcolor": "#E5ECF6",
          "polar": {
           "angularaxis": {
            "gridcolor": "white",
            "linecolor": "white",
            "ticks": ""
           },
           "bgcolor": "#E5ECF6",
           "radialaxis": {
            "gridcolor": "white",
            "linecolor": "white",
            "ticks": ""
           }
          },
          "scene": {
           "xaxis": {
            "backgroundcolor": "#E5ECF6",
            "gridcolor": "white",
            "gridwidth": 2,
            "linecolor": "white",
            "showbackground": true,
            "ticks": "",
            "zerolinecolor": "white"
           },
           "yaxis": {
            "backgroundcolor": "#E5ECF6",
            "gridcolor": "white",
            "gridwidth": 2,
            "linecolor": "white",
            "showbackground": true,
            "ticks": "",
            "zerolinecolor": "white"
           },
           "zaxis": {
            "backgroundcolor": "#E5ECF6",
            "gridcolor": "white",
            "gridwidth": 2,
            "linecolor": "white",
            "showbackground": true,
            "ticks": "",
            "zerolinecolor": "white"
           }
          },
          "shapedefaults": {
           "line": {
            "color": "#2a3f5f"
           }
          },
          "ternary": {
           "aaxis": {
            "gridcolor": "white",
            "linecolor": "white",
            "ticks": ""
           },
           "baxis": {
            "gridcolor": "white",
            "linecolor": "white",
            "ticks": ""
           },
           "bgcolor": "#E5ECF6",
           "caxis": {
            "gridcolor": "white",
            "linecolor": "white",
            "ticks": ""
           }
          },
          "title": {
           "x": 0.05
          },
          "xaxis": {
           "automargin": true,
           "gridcolor": "white",
           "linecolor": "white",
           "ticks": "",
           "title": {
            "standoff": 15
           },
           "zerolinecolor": "white",
           "zerolinewidth": 2
          },
          "yaxis": {
           "automargin": true,
           "gridcolor": "white",
           "linecolor": "white",
           "ticks": "",
           "title": {
            "standoff": 15
           },
           "zerolinecolor": "white",
           "zerolinewidth": 2
          }
         }
        },
        "xaxis": {
         "anchor": "y",
         "domain": [
          0,
          1
         ],
         "title": {
          "text": "Вес нетто, г"
         }
        },
        "yaxis": {
         "anchor": "x",
         "domain": [
          0,
          1
         ],
         "title": {
          "text": "price"
         }
        }
       }
      },
      "text/html": [
       "<div>                            <div id=\"78d2d3a2-03e5-45e4-b92a-dc98856fb04c\" class=\"plotly-graph-div\" style=\"height:525px; width:100%;\"></div>            <script type=\"text/javascript\">                require([\"plotly\"], function(Plotly) {                    window.PLOTLYENV=window.PLOTLYENV || {};                                    if (document.getElementById(\"78d2d3a2-03e5-45e4-b92a-dc98856fb04c\")) {                    Plotly.newPlot(                        \"78d2d3a2-03e5-45e4-b92a-dc98856fb04c\",                        [{\"hovertemplate\":\"\\u0412\\u0435\\u0441 \\u043d\\u0435\\u0442\\u0442\\u043e, \\u0433=%{x}<br>price=%{y}<extra></extra>\",\"legendgroup\":\"\",\"marker\":{\"color\":\"#636efa\",\"symbol\":\"circle\"},\"mode\":\"markers\",\"name\":\"\",\"orientation\":\"v\",\"showlegend\":false,\"x\":[null,null,null,100.0,378.0,null,null,null,null,300.0,60.0,200.0,180.0,500.0,null,87.0,null,550.0,70.0,90.0,60.0,280.0,null,150.0,140.0,120.0,null,220.0,120.0,300.0,null,235.0,70.0,390.0,50.0,87.0,520.0,105.0,1000.0,20.0,50.0,420.0,100.0,null,240.0,1200.0,null,100.0,300.0,140.0,10.0,4000.0,750.0,200.0,150.0,null,280.0,500.0,175.0,350.0,260.0,250.0,50.0,520.0,null,760.0,50.0,400.0,75.0,321.0,300.0,null,300.0,140.0,90.0,350.0,370.0,205.0,null,360.0,450.0,350.0,600.0,null,165.0,null,null,285.0,200.0,780.0,310.0,640.0,180.0,500.0,70.0,200.0,800.0,500.0,955.0,300.0,85.0,200.0,165.0,340.0,null,400.0,null,1200.0,55.0,null,270.0,300.0,745.0,250.0,850.0,500.0,330.0,600.0,500.0,null,110.0,520.0,230.0,790.0,220.0,530.0,110.0,500.0,150.0,240.0,150.0,200.0,200.0,125.0,null,300.0,150.0,null,1070.0,405.0,690.0,200.0,170.0,1155.0,null,285.0,600.0,null,500.0,673.0,500.0,375.0,705.0,370.0,500.0,200.0,350.0,500.0,240.0,null,null,250.0,null,500.0,390.0,null,87.0,81.0,240.0,null,null,87.0,null,87.0,null,null,250.0,140.0,180.0,null,120.0,null,null,500.0,null,null,720.0,350.0,245.0,300.0,1000.0,90.0,250.0,120.0,590.0,null,250.0,null,87.0,null,null,150.0,535.0,300.0,120.0,500.0,340.0,405.0,700.0,300.0,735.0,350.0,null,300.0,null,110.0,120.0,null,255.0,1500.0,120.0,125.0,null,145.0,500.0,300.0,null,250.0,null,null,400.0,null,200.0,345.0,590.0,600.0,500.0,380.0,125.0,550.0,255.0,180.0,4000.0,200.0,85.0,500.0,170.0,null,200.0,360.0,100.0,125.0,300.0,250.0,200.0,395.0,180.0,75.0,350.0,590.0,400.0,295.0,null,null,230.0,260.0,65.0,450.0,null,290.0,250.0,100.0,95.0,310.0,500.0,805.0,490.0,605.0,640.0,145.0,130.0,155.0,500.0,555.0,800.0,300.0,470.0,300.0,325.0,400.0,360.0,250.0,248.0,220.0,null,520.0,185.0,2160.0,390.0,210.0,200.0,200.0,null,null,610.0,null,290.0,1020.0,340.0,650.0,null,490.0,500.0,500.0,600.0,1160.0,450.0,175.0,750.0,570.0,345.0,535.0,355.0,null,665.0,500.0,575.0,470.0,625.0,380.0,null,null,680.0,1400.0,null,505.0,null,730.0,null,1300.0,null,null,585.0,600.0,500.0,345.0,515.0,645.0,145.0,465.0,510.0,null,575.0,null,950.0,651.0,1305.0,650.0,425.0,590.0,null,910.0,600.0,654.0,null,480.0,550.0,620.0,360.0,495.0,300.0,325.0,null,null,480.0,615.0,365.0,335.0,910.0,null,370.0,360.0,405.0,1255.0,380.0,80.0,400.0,240.0,1010.0,null,200.0,560.0,null,195.0,null,null,480.0,480.0,750.0,651.0,1230.0,645.0,1055.0,600.0,450.0,650.0,null,null,null,434.0,585.0,345.0,440.0,770.0,750.0,240.0,220.0,560.0,500.0,605.0,100.0,65.0,100.0,220.0,250.0,710.0,null,null,null,null,1300.0,690.0,400.0,15.0,600.0,null,605.0,950.0,480.0,575.0,null,470.0,null,1000.0,200.0,null,395.0,1200.0,450.0,null,null,680.0,500.0,null,400.0,250.0,435.0,245.0,485.0,140.0,440.0,390.0,null,725.0,1135.0,110.0,null,170.0,585.0,1100.0,null,655.0,null,300.0,190.0,215.0,170.0,355.0,175.0,305.0,480.0,595.0,160.0,600.0,null,null,140.0,120.0,300.0,null,510.0,null,500.0,1000.0,1255.0,null,275.0,600.0,null,375.0,45.0,360.0,315.0,1770.0,1070.0,400.0,null,1240.0,405.0,305.0,460.0,500.0,580.0,360.0,1230.0,115.0,595.0,360.0,150.0,310.0,500.0,335.0,null,415.0,780.0,null,255.0,780.0,110.0,500.0,500.0,null,625.0,null,515.0,300.0,115.0,175.0,1060.0,135.0,null,160.0,400.0,255.0,820.0,600.0,350.0,250.0,null,300.0,115.0,80.0,120.0,null,null,660.0,null,570.0,600.0,345.0,null,120.0,200.0,115.0,500.0,625.0,null,795.0,515.0,575.0,1200.0,590.0,335.0,680.0,205.0,310.0,null,1200.0,630.0,545.0,980.0,285.0,35.0,180.0,760.0,325.0,285.0,600.0,1000.0,1120.0,700.0,610.0,895.0,500.0,190.0,null,115.0,550.0,130.0,600.0,null,345.0,705.0,null,250.0,375.0,65.0,295.0,165.0,1155.0,520.0,null,null,350.0,null,365.0,520.0,125.0,635.0,null,550.0,null,565.0,null,200.0,250.0,null,null,null,530.0,305.0,695.0,120.0,1140.0,590.0,745.0,1245.0,690.0,245.0,350.0,595.0,370.0,270.0,null,null,305.0,485.0,915.0,null,170.0,815.0,455.0,70.0,200.0,330.0,128.0,160.0,null,null,720.0,125.0,855.0,null,100.0,325.0,1010.0,300.0,150.0,365.0,45.0,250.0,560.0,400.0,80.0,410.0,155.0,720.0,390.0,null,160.0,1235.0,490.0,680.0,375.0,null,70.0,200.0,365.0,500.0,275.0,550.0,575.0,90.0,250.0,115.0,340.0,500.0,null,850.0,175.0,null,105.0,240.0,145.0,530.0,145.0,300.0,null,950.0,775.0,385.0,655.0,60.0,1135.0,495.0,350.0,535.0,170.0,100.0,350.0,810.0,null,1140.0,265.0,350.0,605.0,null,485.0,340.0,460.0,150.0,null,null,150.0,180.0,560.0,100.0,495.0,210.0,200.0,null,1425.0,150.0,425.0,120.0,540.0,105.0,530.0,245.0,null,355.0,300.0,420.0,575.0,845.0,435.0,300.0,null,400.0,365.0,1270.0,530.0,910.0,565.0,335.0,65.0,515.0,815.0,550.0,140.0,605.0,230.0,200.0,1230.0,265.0,960.0,530.0,680.0,275.0,500.0,null,290.0,null,170.0,500.0,null,550.0,265.0,605.0,280.0,null,140.0,390.0,810.0,null,null,550.0,75.0,200.0,200.0,255.0,110.0,50.0,255.0,880.0,null,590.0,null,700.0,null,95.0,140.0,495.0,450.0,955.0,null,365.0,null,175.0,335.0,350.0,300.0,650.0,345.0,null,980.0,170.0,300.0,85.0,225.0,145.0,250.0,600.0,625.0,405.0,350.0,null,525.0,null,1135.0,360.0,130.0,1500.0,400.0,250.0,200.0,585.0,290.0,1355.0,520.0,150.0,95.0,490.0,145.0,380.0,null,450.0,730.0,1285.0,340.0,250.0,500.0,null,360.0,230.0,250.0,135.0,365.0,null,680.0,550.0,30.0,370.0,500.0,615.0,600.0,null,155.0,550.0,580.0,1130.0,380.0,55.0,180.0,185.0,670.0,590.0,145.0,145.0,1295.0,300.0,180.0,500.0,980.0,365.0,435.0,200.0,175.0,300.0,600.0,null,490.0,null,390.0,420.0,565.0,345.0,310.0,155.0,375.0,200.0,195.0,515.0,695.0,1000.0,345.0,600.0,1060.0,690.0,1315.0,400.0,200.0,null,360.0,350.0,150.0],\"xaxis\":\"x\",\"y\":[1490,690,790,8090,1963,720,1140,1680,1490,1190,3240,1770,830,170,1010,1193,210,140,1420,510,2070,1260,1430,2950,1670,690,2360,1900,980,1050,880,1135,1410,1160,2750,1520,1850,3290,2580,129,180,1530,1020,180,1490,2000,3600,1670,1350,1650,80,4460,3660,2170,820,910,1170,2240,1130,1950,1520,1190,110,1590,1340,1540,126,2850,2370,3420,1040,1790,1639,1460,2280,1960,1520,2210,1640,2030,1890,1410,1612,2650,1620,1650,2010,2660,640,2520,1180,4210,750,1770,1230,1340,3320,3220,2890,1828,1290,1440,990,2050,1880,3290,1980,1380,610,1161,2220,1910,3950,820,2200,860,1882,1360,4250,1860,1610,1690,1550,2380,1390,2620,880,140,1540,490,980,760,1540,1351,830,2250,1010,820,3360,1530,2490,890,1230,2640,2650,1850,2130,2390,2990,1780,3230,3540,3380,1990,2220,1450,1830,2340,1350,790,1410,1650,1620,2990,1720,2200,1350,615,2030,2200,2130,1268,140,1241,110,1340,690,1250,526,960,690,2160,1079,2150,770,1760,1100,2030,1330,1520,190,510,740,518,3340,810,1265,1410,963,1960,1250,890,2650,780,690,1050,2630,2090,3680,460,250,1890,2400,1490,55,1620,850,2130,2230,1680,1150,3350,1390,1040,1950,1790,1170,1198,3290,1990,1540,1110,980,2474,2290,1450,3200,2870,1180,1430,1810,820,2843,1680,1310,1980,2740,2670,1200,1450,1430,1570,850,2510,2061,4390,1120,1260,1480,3420,1090,2090,3600,930,1520,1570,1260,2860,890,2020,1260,1040,1241,1110,2370,4480,2590,3020,1081,1760,790,990,2410,3990,4760,2290,3170,1550,1520,3010,2230,1160,2630,2230,3830,1833,1690,9021,3020,2150,1327,1840,1220,1250,1420,950,1200,210,2200,1588,1540,1590,73,1230,530,1100,2340,1100,1470,0,1600,1900,1920,1450,660,1100,1120,1290,1690,1430,1720,910,2650,3240,690,1430,1720,4530,30,1370,628,890,1020,580,2110,1170,1480,70,900,1730,2130,50,1900,1130,1790,1290,980,1600,1310,1380,1780,1540,1690,70,850,1190,2640,2300,2090,2600,1190,1950,1800,230,1290,880,830,1290,2140,710,1210,1330,600,1550,1290,700,970,1290,3490,400,690,720,1588,1730,1990,2070,1108,980,1470,1290,1290,70,3110,1490,1750,1588,1390,700,798,1148,2100,1170,1370,840,1368,1290,490,1290,1980,1580,840,740,1160,740,1070,1750,628,1390,1690,0,1690,1990,1210,160,69,1198,1400,1790,1190,810,1440,1600,470,1440,950,1849,970,1910,790,1540,1090,80,1100,1588,520,790,1500,1220,1990,1170,1660,1800,620,3340,2550,910,2400,870,930,40,1090,2030,1770,1080,1390,1500,690,510,890,1410,1640,1850,1590,1640,650,0,2300,700,2690,2130,1660,560,1390,0,2090,0,730,150,1390,1130,280,440,990,70,1590,890,1440,1590,1580,790,2650,2250,1550,1180,2290,900,620,1150,2240,1570,350,1520,960,2630,1260,3598,1680,2160,910,1330,1390,100,1190,350,2890,760,2380,1540,830,670,1720,970,890,890,1990,1710,590,710,680,990,910,700,1340,650,570,1440,1275,3100,1950,2900,1190,1480,740,2660,1060,1740,1840,1490,2660,1310,2190,1630,950,630,870,1260,770,1810,990,1810,2490,2560,190,1580,1690,1440,460,3890,1100,3590,1800,1219,1760,3660,890,1290,800,990,1650,3490,590,1990,2350,2490,1200,1540,530,1390,1970,2200,1680,600,1,690,590,1500,780,1390,1330,730,1260,750,1070,900,1990,1270,2870,580,690,70,2230,1190,790,1770,2489,1520,1620,2770,790,2630,1240,480,1780,1240,1590,2330,2490,1680,2120,1730,1980,2040,390,690,2090,1440,1210,1050,1610,1580,540,2190,1680,490,1230,1940,1290,1420,1110,2030,840,1290,940,1390,420,1780,1160,1860,780,1190,1590,1540,1480,1790,2490,1190,1260,710,4600,1030,1890,1290,890,1130,690,2250,4100,938,2430,2110,1380,2100,1090,940,70,1490,1220,290,2690,2030,990,1090,1240,2260,990,450,1390,1190,750,1690,1990,1970,1440,900,1370,1890,1090,2150,690,1970,980,690,560,890,790,2090,773,1890,1450,1460,908,2490,1230,1990,2050,1780,690,1290,1730,890,1690,1190,620,2020,1920,1180,1240,788,890,640,2140,90,1770,1310,1990,400,2650,1090,1160,1190,3020,2130,640,1740,1570,2820,90,2010,590,1090,1530,1239,1290,3420,1290,1840,1970,1488,2488,890,290,990,1620,4020,2290,1240,3290,390,1170,1290,1650,790,1530,2110,1490,990,2090,3130,2290,4530,710,1570,3590,1690,2190,380,580,660,2210,990,1230,3450,3510,7390,740,3190,1130,1137,1190,1390,1490,1910,2280,2560,1660,1430,1990,990,990,1740,840,850,1810,1920,590,1750,1540,720,1440,780,1290,1180,2509,1030,1090,840,1930,2140,1790,2240,2050,3730,3740,2420,690,579,1190,990,1390,1290,1170,644,1343,3340,2580,790,3550,890,1350,2490,4990,1490,1231,1490,1880,3550,2211,740,1390,2240,1590,1050,2025,2030,1390,4170,1290,1630,890,2940,978,2690,3020,1570,2290,3360,776,1740,1790,3280,1090,1690,3590,3310,1990,2590,3060,3440,3150,5950,1990,1120,1240,1510,1390,990],\"yaxis\":\"y\",\"type\":\"scatter\"}],                        {\"template\":{\"data\":{\"histogram2dcontour\":[{\"type\":\"histogram2dcontour\",\"colorbar\":{\"outlinewidth\":0,\"ticks\":\"\"},\"colorscale\":[[0.0,\"#0d0887\"],[0.1111111111111111,\"#46039f\"],[0.2222222222222222,\"#7201a8\"],[0.3333333333333333,\"#9c179e\"],[0.4444444444444444,\"#bd3786\"],[0.5555555555555556,\"#d8576b\"],[0.6666666666666666,\"#ed7953\"],[0.7777777777777778,\"#fb9f3a\"],[0.8888888888888888,\"#fdca26\"],[1.0,\"#f0f921\"]]}],\"choropleth\":[{\"type\":\"choropleth\",\"colorbar\":{\"outlinewidth\":0,\"ticks\":\"\"}}],\"histogram2d\":[{\"type\":\"histogram2d\",\"colorbar\":{\"outlinewidth\":0,\"ticks\":\"\"},\"colorscale\":[[0.0,\"#0d0887\"],[0.1111111111111111,\"#46039f\"],[0.2222222222222222,\"#7201a8\"],[0.3333333333333333,\"#9c179e\"],[0.4444444444444444,\"#bd3786\"],[0.5555555555555556,\"#d8576b\"],[0.6666666666666666,\"#ed7953\"],[0.7777777777777778,\"#fb9f3a\"],[0.8888888888888888,\"#fdca26\"],[1.0,\"#f0f921\"]]}],\"heatmap\":[{\"type\":\"heatmap\",\"colorbar\":{\"outlinewidth\":0,\"ticks\":\"\"},\"colorscale\":[[0.0,\"#0d0887\"],[0.1111111111111111,\"#46039f\"],[0.2222222222222222,\"#7201a8\"],[0.3333333333333333,\"#9c179e\"],[0.4444444444444444,\"#bd3786\"],[0.5555555555555556,\"#d8576b\"],[0.6666666666666666,\"#ed7953\"],[0.7777777777777778,\"#fb9f3a\"],[0.8888888888888888,\"#fdca26\"],[1.0,\"#f0f921\"]]}],\"heatmapgl\":[{\"type\":\"heatmapgl\",\"colorbar\":{\"outlinewidth\":0,\"ticks\":\"\"},\"colorscale\":[[0.0,\"#0d0887\"],[0.1111111111111111,\"#46039f\"],[0.2222222222222222,\"#7201a8\"],[0.3333333333333333,\"#9c179e\"],[0.4444444444444444,\"#bd3786\"],[0.5555555555555556,\"#d8576b\"],[0.6666666666666666,\"#ed7953\"],[0.7777777777777778,\"#fb9f3a\"],[0.8888888888888888,\"#fdca26\"],[1.0,\"#f0f921\"]]}],\"contourcarpet\":[{\"type\":\"contourcarpet\",\"colorbar\":{\"outlinewidth\":0,\"ticks\":\"\"}}],\"contour\":[{\"type\":\"contour\",\"colorbar\":{\"outlinewidth\":0,\"ticks\":\"\"},\"colorscale\":[[0.0,\"#0d0887\"],[0.1111111111111111,\"#46039f\"],[0.2222222222222222,\"#7201a8\"],[0.3333333333333333,\"#9c179e\"],[0.4444444444444444,\"#bd3786\"],[0.5555555555555556,\"#d8576b\"],[0.6666666666666666,\"#ed7953\"],[0.7777777777777778,\"#fb9f3a\"],[0.8888888888888888,\"#fdca26\"],[1.0,\"#f0f921\"]]}],\"surface\":[{\"type\":\"surface\",\"colorbar\":{\"outlinewidth\":0,\"ticks\":\"\"},\"colorscale\":[[0.0,\"#0d0887\"],[0.1111111111111111,\"#46039f\"],[0.2222222222222222,\"#7201a8\"],[0.3333333333333333,\"#9c179e\"],[0.4444444444444444,\"#bd3786\"],[0.5555555555555556,\"#d8576b\"],[0.6666666666666666,\"#ed7953\"],[0.7777777777777778,\"#fb9f3a\"],[0.8888888888888888,\"#fdca26\"],[1.0,\"#f0f921\"]]}],\"mesh3d\":[{\"type\":\"mesh3d\",\"colorbar\":{\"outlinewidth\":0,\"ticks\":\"\"}}],\"scatter\":[{\"fillpattern\":{\"fillmode\":\"overlay\",\"size\":10,\"solidity\":0.2},\"type\":\"scatter\"}],\"parcoords\":[{\"type\":\"parcoords\",\"line\":{\"colorbar\":{\"outlinewidth\":0,\"ticks\":\"\"}}}],\"scatterpolargl\":[{\"type\":\"scatterpolargl\",\"marker\":{\"colorbar\":{\"outlinewidth\":0,\"ticks\":\"\"}}}],\"bar\":[{\"error_x\":{\"color\":\"#2a3f5f\"},\"error_y\":{\"color\":\"#2a3f5f\"},\"marker\":{\"line\":{\"color\":\"#E5ECF6\",\"width\":0.5},\"pattern\":{\"fillmode\":\"overlay\",\"size\":10,\"solidity\":0.2}},\"type\":\"bar\"}],\"scattergeo\":[{\"type\":\"scattergeo\",\"marker\":{\"colorbar\":{\"outlinewidth\":0,\"ticks\":\"\"}}}],\"scatterpolar\":[{\"type\":\"scatterpolar\",\"marker\":{\"colorbar\":{\"outlinewidth\":0,\"ticks\":\"\"}}}],\"histogram\":[{\"marker\":{\"pattern\":{\"fillmode\":\"overlay\",\"size\":10,\"solidity\":0.2}},\"type\":\"histogram\"}],\"scattergl\":[{\"type\":\"scattergl\",\"marker\":{\"colorbar\":{\"outlinewidth\":0,\"ticks\":\"\"}}}],\"scatter3d\":[{\"type\":\"scatter3d\",\"line\":{\"colorbar\":{\"outlinewidth\":0,\"ticks\":\"\"}},\"marker\":{\"colorbar\":{\"outlinewidth\":0,\"ticks\":\"\"}}}],\"scattermapbox\":[{\"type\":\"scattermapbox\",\"marker\":{\"colorbar\":{\"outlinewidth\":0,\"ticks\":\"\"}}}],\"scatterternary\":[{\"type\":\"scatterternary\",\"marker\":{\"colorbar\":{\"outlinewidth\":0,\"ticks\":\"\"}}}],\"scattercarpet\":[{\"type\":\"scattercarpet\",\"marker\":{\"colorbar\":{\"outlinewidth\":0,\"ticks\":\"\"}}}],\"carpet\":[{\"aaxis\":{\"endlinecolor\":\"#2a3f5f\",\"gridcolor\":\"white\",\"linecolor\":\"white\",\"minorgridcolor\":\"white\",\"startlinecolor\":\"#2a3f5f\"},\"baxis\":{\"endlinecolor\":\"#2a3f5f\",\"gridcolor\":\"white\",\"linecolor\":\"white\",\"minorgridcolor\":\"white\",\"startlinecolor\":\"#2a3f5f\"},\"type\":\"carpet\"}],\"table\":[{\"cells\":{\"fill\":{\"color\":\"#EBF0F8\"},\"line\":{\"color\":\"white\"}},\"header\":{\"fill\":{\"color\":\"#C8D4E3\"},\"line\":{\"color\":\"white\"}},\"type\":\"table\"}],\"barpolar\":[{\"marker\":{\"line\":{\"color\":\"#E5ECF6\",\"width\":0.5},\"pattern\":{\"fillmode\":\"overlay\",\"size\":10,\"solidity\":0.2}},\"type\":\"barpolar\"}],\"pie\":[{\"automargin\":true,\"type\":\"pie\"}]},\"layout\":{\"autotypenumbers\":\"strict\",\"colorway\":[\"#636efa\",\"#EF553B\",\"#00cc96\",\"#ab63fa\",\"#FFA15A\",\"#19d3f3\",\"#FF6692\",\"#B6E880\",\"#FF97FF\",\"#FECB52\"],\"font\":{\"color\":\"#2a3f5f\"},\"hovermode\":\"closest\",\"hoverlabel\":{\"align\":\"left\"},\"paper_bgcolor\":\"white\",\"plot_bgcolor\":\"#E5ECF6\",\"polar\":{\"bgcolor\":\"#E5ECF6\",\"angularaxis\":{\"gridcolor\":\"white\",\"linecolor\":\"white\",\"ticks\":\"\"},\"radialaxis\":{\"gridcolor\":\"white\",\"linecolor\":\"white\",\"ticks\":\"\"}},\"ternary\":{\"bgcolor\":\"#E5ECF6\",\"aaxis\":{\"gridcolor\":\"white\",\"linecolor\":\"white\",\"ticks\":\"\"},\"baxis\":{\"gridcolor\":\"white\",\"linecolor\":\"white\",\"ticks\":\"\"},\"caxis\":{\"gridcolor\":\"white\",\"linecolor\":\"white\",\"ticks\":\"\"}},\"coloraxis\":{\"colorbar\":{\"outlinewidth\":0,\"ticks\":\"\"}},\"colorscale\":{\"sequential\":[[0.0,\"#0d0887\"],[0.1111111111111111,\"#46039f\"],[0.2222222222222222,\"#7201a8\"],[0.3333333333333333,\"#9c179e\"],[0.4444444444444444,\"#bd3786\"],[0.5555555555555556,\"#d8576b\"],[0.6666666666666666,\"#ed7953\"],[0.7777777777777778,\"#fb9f3a\"],[0.8888888888888888,\"#fdca26\"],[1.0,\"#f0f921\"]],\"sequentialminus\":[[0.0,\"#0d0887\"],[0.1111111111111111,\"#46039f\"],[0.2222222222222222,\"#7201a8\"],[0.3333333333333333,\"#9c179e\"],[0.4444444444444444,\"#bd3786\"],[0.5555555555555556,\"#d8576b\"],[0.6666666666666666,\"#ed7953\"],[0.7777777777777778,\"#fb9f3a\"],[0.8888888888888888,\"#fdca26\"],[1.0,\"#f0f921\"]],\"diverging\":[[0,\"#8e0152\"],[0.1,\"#c51b7d\"],[0.2,\"#de77ae\"],[0.3,\"#f1b6da\"],[0.4,\"#fde0ef\"],[0.5,\"#f7f7f7\"],[0.6,\"#e6f5d0\"],[0.7,\"#b8e186\"],[0.8,\"#7fbc41\"],[0.9,\"#4d9221\"],[1,\"#276419\"]]},\"xaxis\":{\"gridcolor\":\"white\",\"linecolor\":\"white\",\"ticks\":\"\",\"title\":{\"standoff\":15},\"zerolinecolor\":\"white\",\"automargin\":true,\"zerolinewidth\":2},\"yaxis\":{\"gridcolor\":\"white\",\"linecolor\":\"white\",\"ticks\":\"\",\"title\":{\"standoff\":15},\"zerolinecolor\":\"white\",\"automargin\":true,\"zerolinewidth\":2},\"scene\":{\"xaxis\":{\"backgroundcolor\":\"#E5ECF6\",\"gridcolor\":\"white\",\"linecolor\":\"white\",\"showbackground\":true,\"ticks\":\"\",\"zerolinecolor\":\"white\",\"gridwidth\":2},\"yaxis\":{\"backgroundcolor\":\"#E5ECF6\",\"gridcolor\":\"white\",\"linecolor\":\"white\",\"showbackground\":true,\"ticks\":\"\",\"zerolinecolor\":\"white\",\"gridwidth\":2},\"zaxis\":{\"backgroundcolor\":\"#E5ECF6\",\"gridcolor\":\"white\",\"linecolor\":\"white\",\"showbackground\":true,\"ticks\":\"\",\"zerolinecolor\":\"white\",\"gridwidth\":2}},\"shapedefaults\":{\"line\":{\"color\":\"#2a3f5f\"}},\"annotationdefaults\":{\"arrowcolor\":\"#2a3f5f\",\"arrowhead\":0,\"arrowwidth\":1},\"geo\":{\"bgcolor\":\"white\",\"landcolor\":\"#E5ECF6\",\"subunitcolor\":\"white\",\"showland\":true,\"showlakes\":true,\"lakecolor\":\"white\"},\"title\":{\"x\":0.05},\"mapbox\":{\"style\":\"light\"}}},\"xaxis\":{\"anchor\":\"y\",\"domain\":[0.0,1.0],\"title\":{\"text\":\"\\u0412\\u0435\\u0441 \\u043d\\u0435\\u0442\\u0442\\u043e, \\u0433\"}},\"yaxis\":{\"anchor\":\"x\",\"domain\":[0.0,1.0],\"title\":{\"text\":\"price\"}},\"legend\":{\"tracegroupgap\":0},\"margin\":{\"t\":60}},                        {\"responsive\": true}                    ).then(function(){\n",
       "                            \n",
       "var gd = document.getElementById('78d2d3a2-03e5-45e4-b92a-dc98856fb04c');\n",
       "var x = new MutationObserver(function (mutations, observer) {{\n",
       "        var display = window.getComputedStyle(gd).display;\n",
       "        if (!display || display === 'none') {{\n",
       "            console.log([gd, 'removed!']);\n",
       "            Plotly.purge(gd);\n",
       "            observer.disconnect();\n",
       "        }}\n",
       "}});\n",
       "\n",
       "// Listen for the removal of the full notebook cells\n",
       "var notebookContainer = gd.closest('#notebook-container');\n",
       "if (notebookContainer) {{\n",
       "    x.observe(notebookContainer, {childList: true});\n",
       "}}\n",
       "\n",
       "// Listen for the clearing of the current output cell\n",
       "var outputEl = gd.closest('.output');\n",
       "if (outputEl) {{\n",
       "    x.observe(outputEl, {childList: true});\n",
       "}}\n",
       "\n",
       "                        })                };                });            </script>        </div>"
      ]
     },
     "metadata": {},
     "output_type": "display_data"
    }
   ],
   "source": [
    "px.scatter(acids_df, x='Вес нетто, г', y='price')"
   ]
  },
  {
   "cell_type": "markdown",
   "id": "6445990f",
   "metadata": {},
   "source": [
    "## Анализ текстовых полей"
   ]
  },
  {
   "cell_type": "markdown",
   "id": "c7f56a0a",
   "metadata": {},
   "source": [
    "Для всех полей с текстовыми данными выводить первые 10 уникальных значений, рисовать облако слов, bubble chart. Если значения полей не надо разделять по запятым (как в поле цель), то матрицу сопряженности, но надо поставить лимит на количество уникальных значений, в примере выше слишком много стран. В идеале добавить и поля с запятыми, сделать ручной выбор какие значения полей добавляем в матрицу сопряженности"
   ]
  },
  {
   "cell_type": "code",
   "execution_count": 5,
   "id": "11250e33",
   "metadata": {},
   "outputs": [],
   "source": [
    "all_vals = []\n",
    "for val in acids_df['Цель'].dropna().values:\n",
    "    all_vals.extend(val.split(', '))\n",
    "unique_vals = set(all_vals)"
   ]
  },
  {
   "cell_type": "code",
   "execution_count": 6,
   "id": "1b671757",
   "metadata": {},
   "outputs": [
    {
     "data": {
      "text/plain": [
       "Мужское здоровье                      73\n",
       "Женское здоровье                      30\n",
       "Продлить молодость                    44\n",
       "Нарастить массу                      261\n",
       "Улучшить выносливость                140\n",
       "Восстановление                       481\n",
       "Сбросить вес                         191\n",
       "Избавление от стресса и депрессии     14\n",
       "Подвижность и здоровье суставов        9\n",
       "Красота и уход                         6\n",
       "Прочность костей                       3\n",
       "Эффективность сна                      2\n",
       "dtype: int64"
      ]
     },
     "execution_count": 6,
     "metadata": {},
     "output_type": "execute_result"
    }
   ],
   "source": [
    "from collections import Counter\n",
    "pd.Series(Counter(all_vals))"
   ]
  },
  {
   "cell_type": "code",
   "execution_count": 7,
   "id": "4f420510",
   "metadata": {},
   "outputs": [
    {
     "data": {
      "text/plain": [
       "<matplotlib.image.AxesImage at 0x12a05ebb0>"
      ]
     },
     "execution_count": 7,
     "metadata": {},
     "output_type": "execute_result"
    },
    {
     "data": {
      "image/png": "[encoded data removed]",
      "text/plain": [
       "<Figure size 640x480 with 1 Axes>"
      ]
     },
     "metadata": {},
     "output_type": "display_data"
    }
   ],
   "source": [
    "wc = WordCloud(background_color=\"white\").generate_from_frequencies(dict(Counter(all_vals)))\n",
    "plt.imshow(wc, interpolation='bilinear')"
   ]
  },
  {
   "cell_type": "code",
   "execution_count": 9,
   "id": "eac42786",
   "metadata": {},
   "outputs": [
    {
     "data": {
      "application/vnd.plotly.v1+json": {
       "config": {
        "plotlyServerURL": "https://plot.ly"
       },
       "data": [
        {
         "hovertemplate": "goal=%{x}<br>count=%{marker.size}<extra></extra>",
         "legendgroup": "Эффективность сна",
         "marker": {
          "color": "#636efa",
          "size": [
           2
          ],
          "sizemode": "area",
          "sizeref": 0.13361111111111112,
          "symbol": "circle"
         },
         "mode": "markers",
         "name": "Эффективность сна",
         "orientation": "v",
         "showlegend": true,
         "type": "scatter",
         "x": [
          "Эффективность сна"
         ],
         "xaxis": "x",
         "y": [
          2
         ],
         "yaxis": "y"
        },
        {
         "hovertemplate": "goal=%{x}<br>count=%{marker.size}<extra></extra>",
         "legendgroup": "Прочность костей",
         "marker": {
          "color": "#EF553B",
          "size": [
           3
          ],
          "sizemode": "area",
          "sizeref": 0.13361111111111112,
          "symbol": "circle"
         },
         "mode": "markers",
         "name": "Прочность костей",
         "orientation": "v",
         "showlegend": true,
         "type": "scatter",
         "x": [
          "Прочность костей"
         ],
         "xaxis": "x",
         "y": [
          3
         ],
         "yaxis": "y"
        },
        {
         "hovertemplate": "goal=%{x}<br>count=%{marker.size}<extra></extra>",
         "legendgroup": "Красота и уход",
         "marker": {
          "color": "#00cc96",
          "size": [
           6
          ],
          "sizemode": "area",
          "sizeref": 0.13361111111111112,
          "symbol": "circle"
         },
         "mode": "markers",
         "name": "Красота и уход",
         "orientation": "v",
         "showlegend": true,
         "type": "scatter",
         "x": [
          "Красота и уход"
         ],
         "xaxis": "x",
         "y": [
          6
         ],
         "yaxis": "y"
        },
        {
         "hovertemplate": "goal=%{x}<br>count=%{marker.size}<extra></extra>",
         "legendgroup": "Подвижность и здоровье суставов",
         "marker": {
          "color": "#ab63fa",
          "size": [
           9
          ],
          "sizemode": "area",
          "sizeref": 0.13361111111111112,
          "symbol": "circle"
         },
         "mode": "markers",
         "name": "Подвижность и здоровье суставов",
         "orientation": "v",
         "showlegend": true,
         "type": "scatter",
         "x": [
          "Подвижность и здоровье суставов"
         ],
         "xaxis": "x",
         "y": [
          9
         ],
         "yaxis": "y"
        },
        {
         "hovertemplate": "goal=%{x}<br>count=%{marker.size}<extra></extra>",
         "legendgroup": "Избавление от стресса и депрессии",
         "marker": {
          "color": "#FFA15A",
          "size": [
           14
          ],
          "sizemode": "area",
          "sizeref": 0.13361111111111112,
          "symbol": "circle"
         },
         "mode": "markers",
         "name": "Избавление от стресса и депрессии",
         "orientation": "v",
         "showlegend": true,
         "type": "scatter",
         "x": [
          "Избавление от стресса и депрессии"
         ],
         "xaxis": "x",
         "y": [
          14
         ],
         "yaxis": "y"
        },
        {
         "hovertemplate": "goal=%{x}<br>count=%{marker.size}<extra></extra>",
         "legendgroup": "Женское здоровье",
         "marker": {
          "color": "#19d3f3",
          "size": [
           30
          ],
          "sizemode": "area",
          "sizeref": 0.13361111111111112,
          "symbol": "circle"
         },
         "mode": "markers",
         "name": "Женское здоровье",
         "orientation": "v",
         "showlegend": true,
         "type": "scatter",
         "x": [
          "Женское здоровье"
         ],
         "xaxis": "x",
         "y": [
          30
         ],
         "yaxis": "y"
        },
        {
         "hovertemplate": "goal=%{x}<br>count=%{marker.size}<extra></extra>",
         "legendgroup": "Продлить молодость",
         "marker": {
          "color": "#FF6692",
          "size": [
           44
          ],
          "sizemode": "area",
          "sizeref": 0.13361111111111112,
          "symbol": "circle"
         },
         "mode": "markers",
         "name": "Продлить молодость",
         "orientation": "v",
         "showlegend": true,
         "type": "scatter",
         "x": [
          "Продлить молодость"
         ],
         "xaxis": "x",
         "y": [
          44
         ],
         "yaxis": "y"
        },
        {
         "hovertemplate": "goal=%{x}<br>count=%{marker.size}<extra></extra>",
         "legendgroup": "Мужское здоровье",
         "marker": {
          "color": "#B6E880",
          "size": [
           73
          ],
          "sizemode": "area",
          "sizeref": 0.13361111111111112,
          "symbol": "circle"
         },
         "mode": "markers",
         "name": "Мужское здоровье",
         "orientation": "v",
         "showlegend": true,
         "type": "scatter",
         "x": [
          "Мужское здоровье"
         ],
         "xaxis": "x",
         "y": [
          73
         ],
         "yaxis": "y"
        },
        {
         "hovertemplate": "goal=%{x}<br>count=%{marker.size}<extra></extra>",
         "legendgroup": "Улучшить выносливость",
         "marker": {
          "color": "#FF97FF",
          "size": [
           140
          ],
          "sizemode": "area",
          "sizeref": 0.13361111111111112,
          "symbol": "circle"
         },
         "mode": "markers",
         "name": "Улучшить выносливость",
         "orientation": "v",
         "showlegend": true,
         "type": "scatter",
         "x": [
          "Улучшить выносливость"
         ],
         "xaxis": "x",
         "y": [
          140
         ],
         "yaxis": "y"
        },
        {
         "hovertemplate": "goal=%{x}<br>count=%{marker.size}<extra></extra>",
         "legendgroup": "Сбросить вес",
         "marker": {
          "color": "#FECB52",
          "size": [
           191
          ],
          "sizemode": "area",
          "sizeref": 0.13361111111111112,
          "symbol": "circle"
         },
         "mode": "markers",
         "name": "Сбросить вес",
         "orientation": "v",
         "showlegend": true,
         "type": "scatter",
         "x": [
          "Сбросить вес"
         ],
         "xaxis": "x",
         "y": [
          191
         ],
         "yaxis": "y"
        },
        {
         "hovertemplate": "goal=%{x}<br>count=%{marker.size}<extra></extra>",
         "legendgroup": "Нарастить массу",
         "marker": {
          "color": "#636efa",
          "size": [
           261
          ],
          "sizemode": "area",
          "sizeref": 0.13361111111111112,
          "symbol": "circle"
         },
         "mode": "markers",
         "name": "Нарастить массу",
         "orientation": "v",
         "showlegend": true,
         "type": "scatter",
         "x": [
          "Нарастить массу"
         ],
         "xaxis": "x",
         "y": [
          261
         ],
         "yaxis": "y"
        },
        {
         "hovertemplate": "goal=%{x}<br>count=%{marker.size}<extra></extra>",
         "legendgroup": "Восстановление",
         "marker": {
          "color": "#EF553B",
          "size": [
           481
          ],
          "sizemode": "area",
          "sizeref": 0.13361111111111112,
          "symbol": "circle"
         },
         "mode": "markers",
         "name": "Восстановление",
         "orientation": "v",
         "showlegend": true,
         "type": "scatter",
         "x": [
          "Восстановление"
         ],
         "xaxis": "x",
         "y": [
          481
         ],
         "yaxis": "y"
        }
       ],
       "layout": {
        "legend": {
         "itemsizing": "constant",
         "title": {
          "text": "goal"
         },
         "tracegroupgap": 0
        },
        "margin": {
         "t": 60
        },
        "template": {
         "data": {
          "bar": [
           {
            "error_x": {
             "color": "#2a3f5f"
            },
            "error_y": {
             "color": "#2a3f5f"
            },
            "marker": {
             "line": {
              "color": "#E5ECF6",
              "width": 0.5
             },
             "pattern": {
              "fillmode": "overlay",
              "size": 10,
              "solidity": 0.2
             }
            },
            "type": "bar"
           }
          ],
          "barpolar": [
           {
            "marker": {
             "line": {
              "color": "#E5ECF6",
              "width": 0.5
             },
             "pattern": {
              "fillmode": "overlay",
              "size": 10,
              "solidity": 0.2
             }
            },
            "type": "barpolar"
           }
          ],
          "carpet": [
           {
            "aaxis": {
             "endlinecolor": "#2a3f5f",
             "gridcolor": "white",
             "linecolor": "white",
             "minorgridcolor": "white",
             "startlinecolor": "#2a3f5f"
            },
            "baxis": {
             "endlinecolor": "#2a3f5f",
             "gridcolor": "white",
             "linecolor": "white",
             "minorgridcolor": "white",
             "startlinecolor": "#2a3f5f"
            },
            "type": "carpet"
           }
          ],
          "choropleth": [
           {
            "colorbar": {
             "outlinewidth": 0,
             "ticks": ""
            },
            "type": "choropleth"
           }
          ],
          "contour": [
           {
            "colorbar": {
             "outlinewidth": 0,
             "ticks": ""
            },
            "colorscale": [
             [
              0,
              "#0d0887"
             ],
             [
              0.1111111111111111,
              "#46039f"
             ],
             [
              0.2222222222222222,
              "#7201a8"
             ],
             [
              0.3333333333333333,
              "#9c179e"
             ],
             [
              0.4444444444444444,
              "#bd3786"
             ],
             [
              0.5555555555555556,
              "#d8576b"
             ],
             [
              0.6666666666666666,
              "#ed7953"
             ],
             [
              0.7777777777777778,
              "#fb9f3a"
             ],
             [
              0.8888888888888888,
              "#fdca26"
             ],
             [
              1,
              "#f0f921"
             ]
            ],
            "type": "contour"
           }
          ],
          "contourcarpet": [
           {
            "colorbar": {
             "outlinewidth": 0,
             "ticks": ""
            },
            "type": "contourcarpet"
           }
          ],
          "heatmap": [
           {
            "colorbar": {
             "outlinewidth": 0,
             "ticks": ""
            },
            "colorscale": [
             [
              0,
              "#0d0887"
             ],
             [
              0.1111111111111111,
              "#46039f"
             ],
             [
              0.2222222222222222,
              "#7201a8"
             ],
             [
              0.3333333333333333,
              "#9c179e"
             ],
             [
              0.4444444444444444,
              "#bd3786"
             ],
             [
              0.5555555555555556,
              "#d8576b"
             ],
             [
              0.6666666666666666,
              "#ed7953"
             ],
             [
              0.7777777777777778,
              "#fb9f3a"
             ],
             [
              0.8888888888888888,
              "#fdca26"
             ],
             [
              1,
              "#f0f921"
             ]
            ],
            "type": "heatmap"
           }
          ],
          "heatmapgl": [
           {
            "colorbar": {
             "outlinewidth": 0,
             "ticks": ""
            },
            "colorscale": [
             [
              0,
              "#0d0887"
             ],
             [
              0.1111111111111111,
              "#46039f"
             ],
             [
              0.2222222222222222,
              "#7201a8"
             ],
             [
              0.3333333333333333,
              "#9c179e"
             ],
             [
              0.4444444444444444,
              "#bd3786"
             ],
             [
              0.5555555555555556,
              "#d8576b"
             ],
             [
              0.6666666666666666,
              "#ed7953"
             ],
             [
              0.7777777777777778,
              "#fb9f3a"
             ],
             [
              0.8888888888888888,
              "#fdca26"
             ],
             [
              1,
              "#f0f921"
             ]
            ],
            "type": "heatmapgl"
           }
          ],
          "histogram": [
           {
            "marker": {
             "pattern": {
              "fillmode": "overlay",
              "size": 10,
              "solidity": 0.2
             }
            },
            "type": "histogram"
           }
          ],
          "histogram2d": [
           {
            "colorbar": {
             "outlinewidth": 0,
             "ticks": ""
            },
            "colorscale": [
             [
              0,
              "#0d0887"
             ],
             [
              0.1111111111111111,
              "#46039f"
             ],
             [
              0.2222222222222222,
              "#7201a8"
             ],
             [
              0.3333333333333333,
              "#9c179e"
             ],
             [
              0.4444444444444444,
              "#bd3786"
             ],
             [
              0.5555555555555556,
              "#d8576b"
             ],
             [
              0.6666666666666666,
              "#ed7953"
             ],
             [
              0.7777777777777778,
              "#fb9f3a"
             ],
             [
              0.8888888888888888,
              "#fdca26"
             ],
             [
              1,
              "#f0f921"
             ]
            ],
            "type": "histogram2d"
           }
          ],
          "histogram2dcontour": [
           {
            "colorbar": {
             "outlinewidth": 0,
             "ticks": ""
            },
            "colorscale": [
             [
              0,
              "#0d0887"
             ],
             [
              0.1111111111111111,
              "#46039f"
             ],
             [
              0.2222222222222222,
              "#7201a8"
             ],
             [
              0.3333333333333333,
              "#9c179e"
             ],
             [
              0.4444444444444444,
              "#bd3786"
             ],
             [
              0.5555555555555556,
              "#d8576b"
             ],
             [
              0.6666666666666666,
              "#ed7953"
             ],
             [
              0.7777777777777778,
              "#fb9f3a"
             ],
             [
              0.8888888888888888,
              "#fdca26"
             ],
             [
              1,
              "#f0f921"
             ]
            ],
            "type": "histogram2dcontour"
           }
          ],
          "mesh3d": [
           {
            "colorbar": {
             "outlinewidth": 0,
             "ticks": ""
            },
            "type": "mesh3d"
           }
          ],
          "parcoords": [
           {
            "line": {
             "colorbar": {
              "outlinewidth": 0,
              "ticks": ""
             }
            },
            "type": "parcoords"
           }
          ],
          "pie": [
           {
            "automargin": true,
            "type": "pie"
           }
          ],
          "scatter": [
           {
            "fillpattern": {
             "fillmode": "overlay",
             "size": 10,
             "solidity": 0.2
            },
            "type": "scatter"
           }
          ],
          "scatter3d": [
           {
            "line": {
             "colorbar": {
              "outlinewidth": 0,
              "ticks": ""
             }
            },
            "marker": {
             "colorbar": {
              "outlinewidth": 0,
              "ticks": ""
             }
            },
            "type": "scatter3d"
           }
          ],
          "scattercarpet": [
           {
            "marker": {
             "colorbar": {
              "outlinewidth": 0,
              "ticks": ""
             }
            },
            "type": "scattercarpet"
           }
          ],
          "scattergeo": [
           {
            "marker": {
             "colorbar": {
              "outlinewidth": 0,
              "ticks": ""
             }
            },
            "type": "scattergeo"
           }
          ],
          "scattergl": [
           {
            "marker": {
             "colorbar": {
              "outlinewidth": 0,
              "ticks": ""
             }
            },
            "type": "scattergl"
           }
          ],
          "scattermapbox": [
           {
            "marker": {
             "colorbar": {
              "outlinewidth": 0,
              "ticks": ""
             }
            },
            "type": "scattermapbox"
           }
          ],
          "scatterpolar": [
           {
            "marker": {
             "colorbar": {
              "outlinewidth": 0,
              "ticks": ""
             }
            },
            "type": "scatterpolar"
           }
          ],
          "scatterpolargl": [
           {
            "marker": {
             "colorbar": {
              "outlinewidth": 0,
              "ticks": ""
             }
            },
            "type": "scatterpolargl"
           }
          ],
          "scatterternary": [
           {
            "marker": {
             "colorbar": {
              "outlinewidth": 0,
              "ticks": ""
             }
            },
            "type": "scatterternary"
           }
          ],
          "surface": [
           {
            "colorbar": {
             "outlinewidth": 0,
             "ticks": ""
            },
            "colorscale": [
             [
              0,
              "#0d0887"
             ],
             [
              0.1111111111111111,
              "#46039f"
             ],
             [
              0.2222222222222222,
              "#7201a8"
             ],
             [
              0.3333333333333333,
              "#9c179e"
             ],
             [
              0.4444444444444444,
              "#bd3786"
             ],
             [
              0.5555555555555556,
              "#d8576b"
             ],
             [
              0.6666666666666666,
              "#ed7953"
             ],
             [
              0.7777777777777778,
              "#fb9f3a"
             ],
             [
              0.8888888888888888,
              "#fdca26"
             ],
             [
              1,
              "#f0f921"
             ]
            ],
            "type": "surface"
           }
          ],
          "table": [
           {
            "cells": {
             "fill": {
              "color": "#EBF0F8"
             },
             "line": {
              "color": "white"
             }
            },
            "header": {
             "fill": {
              "color": "#C8D4E3"
             },
             "line": {
              "color": "white"
             }
            },
            "type": "table"
           }
          ]
         },
         "layout": {
          "annotationdefaults": {
           "arrowcolor": "#2a3f5f",
           "arrowhead": 0,
           "arrowwidth": 1
          },
          "autotypenumbers": "strict",
          "coloraxis": {
           "colorbar": {
            "outlinewidth": 0,
            "ticks": ""
           }
          },
          "colorscale": {
           "diverging": [
            [
             0,
             "#8e0152"
            ],
            [
             0.1,
             "#c51b7d"
            ],
            [
             0.2,
             "#de77ae"
            ],
            [
             0.3,
             "#f1b6da"
            ],
            [
             0.4,
             "#fde0ef"
            ],
            [
             0.5,
             "#f7f7f7"
            ],
            [
             0.6,
             "#e6f5d0"
            ],
            [
             0.7,
             "#b8e186"
            ],
            [
             0.8,
             "#7fbc41"
            ],
            [
             0.9,
             "#4d9221"
            ],
            [
             1,
             "#276419"
            ]
           ],
           "sequential": [
            [
             0,
             "#0d0887"
            ],
            [
             0.1111111111111111,
             "#46039f"
            ],
            [
             0.2222222222222222,
             "#7201a8"
            ],
            [
             0.3333333333333333,
             "#9c179e"
            ],
            [
             0.4444444444444444,
             "#bd3786"
            ],
            [
             0.5555555555555556,
             "#d8576b"
            ],
            [
             0.6666666666666666,
             "#ed7953"
            ],
            [
             0.7777777777777778,
             "#fb9f3a"
            ],
            [
             0.8888888888888888,
             "#fdca26"
            ],
            [
             1,
             "#f0f921"
            ]
           ],
           "sequentialminus": [
            [
             0,
             "#0d0887"
            ],
            [
             0.1111111111111111,
             "#46039f"
            ],
            [
             0.2222222222222222,
             "#7201a8"
            ],
            [
             0.3333333333333333,
             "#9c179e"
            ],
            [
             0.4444444444444444,
             "#bd3786"
            ],
            [
             0.5555555555555556,
             "#d8576b"
            ],
            [
             0.6666666666666666,
             "#ed7953"
            ],
            [
             0.7777777777777778,
             "#fb9f3a"
            ],
            [
             0.8888888888888888,
             "#fdca26"
            ],
            [
             1,
             "#f0f921"
            ]
           ]
          },
          "colorway": [
           "#636efa",
           "#EF553B",
           "#00cc96",
           "#ab63fa",
           "#FFA15A",
           "#19d3f3",
           "#FF6692",
           "#B6E880",
           "#FF97FF",
           "#FECB52"
          ],
          "font": {
           "color": "#2a3f5f"
          },
          "geo": {
           "bgcolor": "white",
           "lakecolor": "white",
           "landcolor": "#E5ECF6",
           "showlakes": true,
           "showland": true,
           "subunitcolor": "white"
          },
          "hoverlabel": {
           "align": "left"
          },
          "hovermode": "closest",
          "mapbox": {
           "style": "light"
          },
          "paper_bgcolor": "white",
          "plot_bgcolor": "#E5ECF6",
          "polar": {
           "angularaxis": {
            "gridcolor": "white",
            "linecolor": "white",
            "ticks": ""
           },
           "bgcolor": "#E5ECF6",
           "radialaxis": {
            "gridcolor": "white",
            "linecolor": "white",
            "ticks": ""
           }
          },
          "scene": {
           "xaxis": {
            "backgroundcolor": "#E5ECF6",
            "gridcolor": "white",
            "gridwidth": 2,
            "linecolor": "white",
            "showbackground": true,
            "ticks": "",
            "zerolinecolor": "white"
           },
           "yaxis": {
            "backgroundcolor": "#E5ECF6",
            "gridcolor": "white",
            "gridwidth": 2,
            "linecolor": "white",
            "showbackground": true,
            "ticks": "",
            "zerolinecolor": "white"
           },
           "zaxis": {
            "backgroundcolor": "#E5ECF6",
            "gridcolor": "white",
            "gridwidth": 2,
            "linecolor": "white",
            "showbackground": true,
            "ticks": "",
            "zerolinecolor": "white"
           }
          },
          "shapedefaults": {
           "line": {
            "color": "#2a3f5f"
           }
          },
          "ternary": {
           "aaxis": {
            "gridcolor": "white",
            "linecolor": "white",
            "ticks": ""
           },
           "baxis": {
            "gridcolor": "white",
            "linecolor": "white",
            "ticks": ""
           },
           "bgcolor": "#E5ECF6",
           "caxis": {
            "gridcolor": "white",
            "linecolor": "white",
            "ticks": ""
           }
          },
          "title": {
           "x": 0.05
          },
          "xaxis": {
           "automargin": true,
           "gridcolor": "white",
           "linecolor": "white",
           "ticks": "",
           "title": {
            "standoff": 15
           },
           "zerolinecolor": "white",
           "zerolinewidth": 2
          },
          "yaxis": {
           "automargin": true,
           "gridcolor": "white",
           "linecolor": "white",
           "ticks": "",
           "title": {
            "standoff": 15
           },
           "zerolinecolor": "white",
           "zerolinewidth": 2
          }
         }
        },
        "xaxis": {
         "anchor": "y",
         "categoryarray": [
          "Эффективность сна",
          "Прочность костей",
          "Красота и уход",
          "Подвижность и здоровье суставов",
          "Избавление от стресса и депрессии",
          "Женское здоровье",
          "Продлить молодость",
          "Мужское здоровье",
          "Улучшить выносливость",
          "Сбросить вес",
          "Нарастить массу",
          "Восстановление"
         ],
         "categoryorder": "array",
         "domain": [
          0,
          1
         ],
         "title": {
          "text": "goal"
         }
        },
        "yaxis": {
         "anchor": "x",
         "domain": [
          0,
          1
         ],
         "title": {
          "text": "count"
         }
        }
       }
      },
      "text/html": [
       "<div>                            <div id=\"91cd86d8-e56d-4c72-ad17-66c81ef50b57\" class=\"plotly-graph-div\" style=\"height:525px; width:100%;\"></div>            <script type=\"text/javascript\">                require([\"plotly\"], function(Plotly) {                    window.PLOTLYENV=window.PLOTLYENV || {};                                    if (document.getElementById(\"91cd86d8-e56d-4c72-ad17-66c81ef50b57\")) {                    Plotly.newPlot(                        \"91cd86d8-e56d-4c72-ad17-66c81ef50b57\",                        [{\"hovertemplate\":\"goal=%{x}<br>count=%{marker.size}<extra></extra>\",\"legendgroup\":\"\\u042d\\u0444\\u0444\\u0435\\u043a\\u0442\\u0438\\u0432\\u043d\\u043e\\u0441\\u0442\\u044c \\u0441\\u043d\\u0430\",\"marker\":{\"color\":\"#636efa\",\"size\":[2],\"sizemode\":\"area\",\"sizeref\":0.13361111111111112,\"symbol\":\"circle\"},\"mode\":\"markers\",\"name\":\"\\u042d\\u0444\\u0444\\u0435\\u043a\\u0442\\u0438\\u0432\\u043d\\u043e\\u0441\\u0442\\u044c \\u0441\\u043d\\u0430\",\"orientation\":\"v\",\"showlegend\":true,\"x\":[\"\\u042d\\u0444\\u0444\\u0435\\u043a\\u0442\\u0438\\u0432\\u043d\\u043e\\u0441\\u0442\\u044c \\u0441\\u043d\\u0430\"],\"xaxis\":\"x\",\"y\":[2],\"yaxis\":\"y\",\"type\":\"scatter\"},{\"hovertemplate\":\"goal=%{x}<br>count=%{marker.size}<extra></extra>\",\"legendgroup\":\"\\u041f\\u0440\\u043e\\u0447\\u043d\\u043e\\u0441\\u0442\\u044c \\u043a\\u043e\\u0441\\u0442\\u0435\\u0439\",\"marker\":{\"color\":\"#EF553B\",\"size\":[3],\"sizemode\":\"area\",\"sizeref\":0.13361111111111112,\"symbol\":\"circle\"},\"mode\":\"markers\",\"name\":\"\\u041f\\u0440\\u043e\\u0447\\u043d\\u043e\\u0441\\u0442\\u044c \\u043a\\u043e\\u0441\\u0442\\u0435\\u0439\",\"orientation\":\"v\",\"showlegend\":true,\"x\":[\"\\u041f\\u0440\\u043e\\u0447\\u043d\\u043e\\u0441\\u0442\\u044c \\u043a\\u043e\\u0441\\u0442\\u0435\\u0439\"],\"xaxis\":\"x\",\"y\":[3],\"yaxis\":\"y\",\"type\":\"scatter\"},{\"hovertemplate\":\"goal=%{x}<br>count=%{marker.size}<extra></extra>\",\"legendgroup\":\"\\u041a\\u0440\\u0430\\u0441\\u043e\\u0442\\u0430 \\u0438 \\u0443\\u0445\\u043e\\u0434\",\"marker\":{\"color\":\"#00cc96\",\"size\":[6],\"sizemode\":\"area\",\"sizeref\":0.13361111111111112,\"symbol\":\"circle\"},\"mode\":\"markers\",\"name\":\"\\u041a\\u0440\\u0430\\u0441\\u043e\\u0442\\u0430 \\u0438 \\u0443\\u0445\\u043e\\u0434\",\"orientation\":\"v\",\"showlegend\":true,\"x\":[\"\\u041a\\u0440\\u0430\\u0441\\u043e\\u0442\\u0430 \\u0438 \\u0443\\u0445\\u043e\\u0434\"],\"xaxis\":\"x\",\"y\":[6],\"yaxis\":\"y\",\"type\":\"scatter\"},{\"hovertemplate\":\"goal=%{x}<br>count=%{marker.size}<extra></extra>\",\"legendgroup\":\"\\u041f\\u043e\\u0434\\u0432\\u0438\\u0436\\u043d\\u043e\\u0441\\u0442\\u044c \\u0438 \\u0437\\u0434\\u043e\\u0440\\u043e\\u0432\\u044c\\u0435 \\u0441\\u0443\\u0441\\u0442\\u0430\\u0432\\u043e\\u0432\",\"marker\":{\"color\":\"#ab63fa\",\"size\":[9],\"sizemode\":\"area\",\"sizeref\":0.13361111111111112,\"symbol\":\"circle\"},\"mode\":\"markers\",\"name\":\"\\u041f\\u043e\\u0434\\u0432\\u0438\\u0436\\u043d\\u043e\\u0441\\u0442\\u044c \\u0438 \\u0437\\u0434\\u043e\\u0440\\u043e\\u0432\\u044c\\u0435 \\u0441\\u0443\\u0441\\u0442\\u0430\\u0432\\u043e\\u0432\",\"orientation\":\"v\",\"showlegend\":true,\"x\":[\"\\u041f\\u043e\\u0434\\u0432\\u0438\\u0436\\u043d\\u043e\\u0441\\u0442\\u044c \\u0438 \\u0437\\u0434\\u043e\\u0440\\u043e\\u0432\\u044c\\u0435 \\u0441\\u0443\\u0441\\u0442\\u0430\\u0432\\u043e\\u0432\"],\"xaxis\":\"x\",\"y\":[9],\"yaxis\":\"y\",\"type\":\"scatter\"},{\"hovertemplate\":\"goal=%{x}<br>count=%{marker.size}<extra></extra>\",\"legendgroup\":\"\\u0418\\u0437\\u0431\\u0430\\u0432\\u043b\\u0435\\u043d\\u0438\\u0435 \\u043e\\u0442 \\u0441\\u0442\\u0440\\u0435\\u0441\\u0441\\u0430 \\u0438 \\u0434\\u0435\\u043f\\u0440\\u0435\\u0441\\u0441\\u0438\\u0438\",\"marker\":{\"color\":\"#FFA15A\",\"size\":[14],\"sizemode\":\"area\",\"sizeref\":0.13361111111111112,\"symbol\":\"circle\"},\"mode\":\"markers\",\"name\":\"\\u0418\\u0437\\u0431\\u0430\\u0432\\u043b\\u0435\\u043d\\u0438\\u0435 \\u043e\\u0442 \\u0441\\u0442\\u0440\\u0435\\u0441\\u0441\\u0430 \\u0438 \\u0434\\u0435\\u043f\\u0440\\u0435\\u0441\\u0441\\u0438\\u0438\",\"orientation\":\"v\",\"showlegend\":true,\"x\":[\"\\u0418\\u0437\\u0431\\u0430\\u0432\\u043b\\u0435\\u043d\\u0438\\u0435 \\u043e\\u0442 \\u0441\\u0442\\u0440\\u0435\\u0441\\u0441\\u0430 \\u0438 \\u0434\\u0435\\u043f\\u0440\\u0435\\u0441\\u0441\\u0438\\u0438\"],\"xaxis\":\"x\",\"y\":[14],\"yaxis\":\"y\",\"type\":\"scatter\"},{\"hovertemplate\":\"goal=%{x}<br>count=%{marker.size}<extra></extra>\",\"legendgroup\":\"\\u0416\\u0435\\u043d\\u0441\\u043a\\u043e\\u0435 \\u0437\\u0434\\u043e\\u0440\\u043e\\u0432\\u044c\\u0435\",\"marker\":{\"color\":\"#19d3f3\",\"size\":[30],\"sizemode\":\"area\",\"sizeref\":0.13361111111111112,\"symbol\":\"circle\"},\"mode\":\"markers\",\"name\":\"\\u0416\\u0435\\u043d\\u0441\\u043a\\u043e\\u0435 \\u0437\\u0434\\u043e\\u0440\\u043e\\u0432\\u044c\\u0435\",\"orientation\":\"v\",\"showlegend\":true,\"x\":[\"\\u0416\\u0435\\u043d\\u0441\\u043a\\u043e\\u0435 \\u0437\\u0434\\u043e\\u0440\\u043e\\u0432\\u044c\\u0435\"],\"xaxis\":\"x\",\"y\":[30],\"yaxis\":\"y\",\"type\":\"scatter\"},{\"hovertemplate\":\"goal=%{x}<br>count=%{marker.size}<extra></extra>\",\"legendgroup\":\"\\u041f\\u0440\\u043e\\u0434\\u043b\\u0438\\u0442\\u044c \\u043c\\u043e\\u043b\\u043e\\u0434\\u043e\\u0441\\u0442\\u044c\",\"marker\":{\"color\":\"#FF6692\",\"size\":[44],\"sizemode\":\"area\",\"sizeref\":0.13361111111111112,\"symbol\":\"circle\"},\"mode\":\"markers\",\"name\":\"\\u041f\\u0440\\u043e\\u0434\\u043b\\u0438\\u0442\\u044c \\u043c\\u043e\\u043b\\u043e\\u0434\\u043e\\u0441\\u0442\\u044c\",\"orientation\":\"v\",\"showlegend\":true,\"x\":[\"\\u041f\\u0440\\u043e\\u0434\\u043b\\u0438\\u0442\\u044c \\u043c\\u043e\\u043b\\u043e\\u0434\\u043e\\u0441\\u0442\\u044c\"],\"xaxis\":\"x\",\"y\":[44],\"yaxis\":\"y\",\"type\":\"scatter\"},{\"hovertemplate\":\"goal=%{x}<br>count=%{marker.size}<extra></extra>\",\"legendgroup\":\"\\u041c\\u0443\\u0436\\u0441\\u043a\\u043e\\u0435 \\u0437\\u0434\\u043e\\u0440\\u043e\\u0432\\u044c\\u0435\",\"marker\":{\"color\":\"#B6E880\",\"size\":[73],\"sizemode\":\"area\",\"sizeref\":0.13361111111111112,\"symbol\":\"circle\"},\"mode\":\"markers\",\"name\":\"\\u041c\\u0443\\u0436\\u0441\\u043a\\u043e\\u0435 \\u0437\\u0434\\u043e\\u0440\\u043e\\u0432\\u044c\\u0435\",\"orientation\":\"v\",\"showlegend\":true,\"x\":[\"\\u041c\\u0443\\u0436\\u0441\\u043a\\u043e\\u0435 \\u0437\\u0434\\u043e\\u0440\\u043e\\u0432\\u044c\\u0435\"],\"xaxis\":\"x\",\"y\":[73],\"yaxis\":\"y\",\"type\":\"scatter\"},{\"hovertemplate\":\"goal=%{x}<br>count=%{marker.size}<extra></extra>\",\"legendgroup\":\"\\u0423\\u043b\\u0443\\u0447\\u0448\\u0438\\u0442\\u044c \\u0432\\u044b\\u043d\\u043e\\u0441\\u043b\\u0438\\u0432\\u043e\\u0441\\u0442\\u044c\",\"marker\":{\"color\":\"#FF97FF\",\"size\":[140],\"sizemode\":\"area\",\"sizeref\":0.13361111111111112,\"symbol\":\"circle\"},\"mode\":\"markers\",\"name\":\"\\u0423\\u043b\\u0443\\u0447\\u0448\\u0438\\u0442\\u044c \\u0432\\u044b\\u043d\\u043e\\u0441\\u043b\\u0438\\u0432\\u043e\\u0441\\u0442\\u044c\",\"orientation\":\"v\",\"showlegend\":true,\"x\":[\"\\u0423\\u043b\\u0443\\u0447\\u0448\\u0438\\u0442\\u044c \\u0432\\u044b\\u043d\\u043e\\u0441\\u043b\\u0438\\u0432\\u043e\\u0441\\u0442\\u044c\"],\"xaxis\":\"x\",\"y\":[140],\"yaxis\":\"y\",\"type\":\"scatter\"},{\"hovertemplate\":\"goal=%{x}<br>count=%{marker.size}<extra></extra>\",\"legendgroup\":\"\\u0421\\u0431\\u0440\\u043e\\u0441\\u0438\\u0442\\u044c \\u0432\\u0435\\u0441\",\"marker\":{\"color\":\"#FECB52\",\"size\":[191],\"sizemode\":\"area\",\"sizeref\":0.13361111111111112,\"symbol\":\"circle\"},\"mode\":\"markers\",\"name\":\"\\u0421\\u0431\\u0440\\u043e\\u0441\\u0438\\u0442\\u044c \\u0432\\u0435\\u0441\",\"orientation\":\"v\",\"showlegend\":true,\"x\":[\"\\u0421\\u0431\\u0440\\u043e\\u0441\\u0438\\u0442\\u044c \\u0432\\u0435\\u0441\"],\"xaxis\":\"x\",\"y\":[191],\"yaxis\":\"y\",\"type\":\"scatter\"},{\"hovertemplate\":\"goal=%{x}<br>count=%{marker.size}<extra></extra>\",\"legendgroup\":\"\\u041d\\u0430\\u0440\\u0430\\u0441\\u0442\\u0438\\u0442\\u044c \\u043c\\u0430\\u0441\\u0441\\u0443\",\"marker\":{\"color\":\"#636efa\",\"size\":[261],\"sizemode\":\"area\",\"sizeref\":0.13361111111111112,\"symbol\":\"circle\"},\"mode\":\"markers\",\"name\":\"\\u041d\\u0430\\u0440\\u0430\\u0441\\u0442\\u0438\\u0442\\u044c \\u043c\\u0430\\u0441\\u0441\\u0443\",\"orientation\":\"v\",\"showlegend\":true,\"x\":[\"\\u041d\\u0430\\u0440\\u0430\\u0441\\u0442\\u0438\\u0442\\u044c \\u043c\\u0430\\u0441\\u0441\\u0443\"],\"xaxis\":\"x\",\"y\":[261],\"yaxis\":\"y\",\"type\":\"scatter\"},{\"hovertemplate\":\"goal=%{x}<br>count=%{marker.size}<extra></extra>\",\"legendgroup\":\"\\u0412\\u043e\\u0441\\u0441\\u0442\\u0430\\u043d\\u043e\\u0432\\u043b\\u0435\\u043d\\u0438\\u0435\",\"marker\":{\"color\":\"#EF553B\",\"size\":[481],\"sizemode\":\"area\",\"sizeref\":0.13361111111111112,\"symbol\":\"circle\"},\"mode\":\"markers\",\"name\":\"\\u0412\\u043e\\u0441\\u0441\\u0442\\u0430\\u043d\\u043e\\u0432\\u043b\\u0435\\u043d\\u0438\\u0435\",\"orientation\":\"v\",\"showlegend\":true,\"x\":[\"\\u0412\\u043e\\u0441\\u0441\\u0442\\u0430\\u043d\\u043e\\u0432\\u043b\\u0435\\u043d\\u0438\\u0435\"],\"xaxis\":\"x\",\"y\":[481],\"yaxis\":\"y\",\"type\":\"scatter\"}],                        {\"template\":{\"data\":{\"histogram2dcontour\":[{\"type\":\"histogram2dcontour\",\"colorbar\":{\"outlinewidth\":0,\"ticks\":\"\"},\"colorscale\":[[0.0,\"#0d0887\"],[0.1111111111111111,\"#46039f\"],[0.2222222222222222,\"#7201a8\"],[0.3333333333333333,\"#9c179e\"],[0.4444444444444444,\"#bd3786\"],[0.5555555555555556,\"#d8576b\"],[0.6666666666666666,\"#ed7953\"],[0.7777777777777778,\"#fb9f3a\"],[0.8888888888888888,\"#fdca26\"],[1.0,\"#f0f921\"]]}],\"choropleth\":[{\"type\":\"choropleth\",\"colorbar\":{\"outlinewidth\":0,\"ticks\":\"\"}}],\"histogram2d\":[{\"type\":\"histogram2d\",\"colorbar\":{\"outlinewidth\":0,\"ticks\":\"\"},\"colorscale\":[[0.0,\"#0d0887\"],[0.1111111111111111,\"#46039f\"],[0.2222222222222222,\"#7201a8\"],[0.3333333333333333,\"#9c179e\"],[0.4444444444444444,\"#bd3786\"],[0.5555555555555556,\"#d8576b\"],[0.6666666666666666,\"#ed7953\"],[0.7777777777777778,\"#fb9f3a\"],[0.8888888888888888,\"#fdca26\"],[1.0,\"#f0f921\"]]}],\"heatmap\":[{\"type\":\"heatmap\",\"colorbar\":{\"outlinewidth\":0,\"ticks\":\"\"},\"colorscale\":[[0.0,\"#0d0887\"],[0.1111111111111111,\"#46039f\"],[0.2222222222222222,\"#7201a8\"],[0.3333333333333333,\"#9c179e\"],[0.4444444444444444,\"#bd3786\"],[0.5555555555555556,\"#d8576b\"],[0.6666666666666666,\"#ed7953\"],[0.7777777777777778,\"#fb9f3a\"],[0.8888888888888888,\"#fdca26\"],[1.0,\"#f0f921\"]]}],\"heatmapgl\":[{\"type\":\"heatmapgl\",\"colorbar\":{\"outlinewidth\":0,\"ticks\":\"\"},\"colorscale\":[[0.0,\"#0d0887\"],[0.1111111111111111,\"#46039f\"],[0.2222222222222222,\"#7201a8\"],[0.3333333333333333,\"#9c179e\"],[0.4444444444444444,\"#bd3786\"],[0.5555555555555556,\"#d8576b\"],[0.6666666666666666,\"#ed7953\"],[0.7777777777777778,\"#fb9f3a\"],[0.8888888888888888,\"#fdca26\"],[1.0,\"#f0f921\"]]}],\"contourcarpet\":[{\"type\":\"contourcarpet\",\"colorbar\":{\"outlinewidth\":0,\"ticks\":\"\"}}],\"contour\":[{\"type\":\"contour\",\"colorbar\":{\"outlinewidth\":0,\"ticks\":\"\"},\"colorscale\":[[0.0,\"#0d0887\"],[0.1111111111111111,\"#46039f\"],[0.2222222222222222,\"#7201a8\"],[0.3333333333333333,\"#9c179e\"],[0.4444444444444444,\"#bd3786\"],[0.5555555555555556,\"#d8576b\"],[0.6666666666666666,\"#ed7953\"],[0.7777777777777778,\"#fb9f3a\"],[0.8888888888888888,\"#fdca26\"],[1.0,\"#f0f921\"]]}],\"surface\":[{\"type\":\"surface\",\"colorbar\":{\"outlinewidth\":0,\"ticks\":\"\"},\"colorscale\":[[0.0,\"#0d0887\"],[0.1111111111111111,\"#46039f\"],[0.2222222222222222,\"#7201a8\"],[0.3333333333333333,\"#9c179e\"],[0.4444444444444444,\"#bd3786\"],[0.5555555555555556,\"#d8576b\"],[0.6666666666666666,\"#ed7953\"],[0.7777777777777778,\"#fb9f3a\"],[0.8888888888888888,\"#fdca26\"],[1.0,\"#f0f921\"]]}],\"mesh3d\":[{\"type\":\"mesh3d\",\"colorbar\":{\"outlinewidth\":0,\"ticks\":\"\"}}],\"scatter\":[{\"fillpattern\":{\"fillmode\":\"overlay\",\"size\":10,\"solidity\":0.2},\"type\":\"scatter\"}],\"parcoords\":[{\"type\":\"parcoords\",\"line\":{\"colorbar\":{\"outlinewidth\":0,\"ticks\":\"\"}}}],\"scatterpolargl\":[{\"type\":\"scatterpolargl\",\"marker\":{\"colorbar\":{\"outlinewidth\":0,\"ticks\":\"\"}}}],\"bar\":[{\"error_x\":{\"color\":\"#2a3f5f\"},\"error_y\":{\"color\":\"#2a3f5f\"},\"marker\":{\"line\":{\"color\":\"#E5ECF6\",\"width\":0.5},\"pattern\":{\"fillmode\":\"overlay\",\"size\":10,\"solidity\":0.2}},\"type\":\"bar\"}],\"scattergeo\":[{\"type\":\"scattergeo\",\"marker\":{\"colorbar\":{\"outlinewidth\":0,\"ticks\":\"\"}}}],\"scatterpolar\":[{\"type\":\"scatterpolar\",\"marker\":{\"colorbar\":{\"outlinewidth\":0,\"ticks\":\"\"}}}],\"histogram\":[{\"marker\":{\"pattern\":{\"fillmode\":\"overlay\",\"size\":10,\"solidity\":0.2}},\"type\":\"histogram\"}],\"scattergl\":[{\"type\":\"scattergl\",\"marker\":{\"colorbar\":{\"outlinewidth\":0,\"ticks\":\"\"}}}],\"scatter3d\":[{\"type\":\"scatter3d\",\"line\":{\"colorbar\":{\"outlinewidth\":0,\"ticks\":\"\"}},\"marker\":{\"colorbar\":{\"outlinewidth\":0,\"ticks\":\"\"}}}],\"scattermapbox\":[{\"type\":\"scattermapbox\",\"marker\":{\"colorbar\":{\"outlinewidth\":0,\"ticks\":\"\"}}}],\"scatterternary\":[{\"type\":\"scatterternary\",\"marker\":{\"colorbar\":{\"outlinewidth\":0,\"ticks\":\"\"}}}],\"scattercarpet\":[{\"type\":\"scattercarpet\",\"marker\":{\"colorbar\":{\"outlinewidth\":0,\"ticks\":\"\"}}}],\"carpet\":[{\"aaxis\":{\"endlinecolor\":\"#2a3f5f\",\"gridcolor\":\"white\",\"linecolor\":\"white\",\"minorgridcolor\":\"white\",\"startlinecolor\":\"#2a3f5f\"},\"baxis\":{\"endlinecolor\":\"#2a3f5f\",\"gridcolor\":\"white\",\"linecolor\":\"white\",\"minorgridcolor\":\"white\",\"startlinecolor\":\"#2a3f5f\"},\"type\":\"carpet\"}],\"table\":[{\"cells\":{\"fill\":{\"color\":\"#EBF0F8\"},\"line\":{\"color\":\"white\"}},\"header\":{\"fill\":{\"color\":\"#C8D4E3\"},\"line\":{\"color\":\"white\"}},\"type\":\"table\"}],\"barpolar\":[{\"marker\":{\"line\":{\"color\":\"#E5ECF6\",\"width\":0.5},\"pattern\":{\"fillmode\":\"overlay\",\"size\":10,\"solidity\":0.2}},\"type\":\"barpolar\"}],\"pie\":[{\"automargin\":true,\"type\":\"pie\"}]},\"layout\":{\"autotypenumbers\":\"strict\",\"colorway\":[\"#636efa\",\"#EF553B\",\"#00cc96\",\"#ab63fa\",\"#FFA15A\",\"#19d3f3\",\"#FF6692\",\"#B6E880\",\"#FF97FF\",\"#FECB52\"],\"font\":{\"color\":\"#2a3f5f\"},\"hovermode\":\"closest\",\"hoverlabel\":{\"align\":\"left\"},\"paper_bgcolor\":\"white\",\"plot_bgcolor\":\"#E5ECF6\",\"polar\":{\"bgcolor\":\"#E5ECF6\",\"angularaxis\":{\"gridcolor\":\"white\",\"linecolor\":\"white\",\"ticks\":\"\"},\"radialaxis\":{\"gridcolor\":\"white\",\"linecolor\":\"white\",\"ticks\":\"\"}},\"ternary\":{\"bgcolor\":\"#E5ECF6\",\"aaxis\":{\"gridcolor\":\"white\",\"linecolor\":\"white\",\"ticks\":\"\"},\"baxis\":{\"gridcolor\":\"white\",\"linecolor\":\"white\",\"ticks\":\"\"},\"caxis\":{\"gridcolor\":\"white\",\"linecolor\":\"white\",\"ticks\":\"\"}},\"coloraxis\":{\"colorbar\":{\"outlinewidth\":0,\"ticks\":\"\"}},\"colorscale\":{\"sequential\":[[0.0,\"#0d0887\"],[0.1111111111111111,\"#46039f\"],[0.2222222222222222,\"#7201a8\"],[0.3333333333333333,\"#9c179e\"],[0.4444444444444444,\"#bd3786\"],[0.5555555555555556,\"#d8576b\"],[0.6666666666666666,\"#ed7953\"],[0.7777777777777778,\"#fb9f3a\"],[0.8888888888888888,\"#fdca26\"],[1.0,\"#f0f921\"]],\"sequentialminus\":[[0.0,\"#0d0887\"],[0.1111111111111111,\"#46039f\"],[0.2222222222222222,\"#7201a8\"],[0.3333333333333333,\"#9c179e\"],[0.4444444444444444,\"#bd3786\"],[0.5555555555555556,\"#d8576b\"],[0.6666666666666666,\"#ed7953\"],[0.7777777777777778,\"#fb9f3a\"],[0.8888888888888888,\"#fdca26\"],[1.0,\"#f0f921\"]],\"diverging\":[[0,\"#8e0152\"],[0.1,\"#c51b7d\"],[0.2,\"#de77ae\"],[0.3,\"#f1b6da\"],[0.4,\"#fde0ef\"],[0.5,\"#f7f7f7\"],[0.6,\"#e6f5d0\"],[0.7,\"#b8e186\"],[0.8,\"#7fbc41\"],[0.9,\"#4d9221\"],[1,\"#276419\"]]},\"xaxis\":{\"gridcolor\":\"white\",\"linecolor\":\"white\",\"ticks\":\"\",\"title\":{\"standoff\":15},\"zerolinecolor\":\"white\",\"automargin\":true,\"zerolinewidth\":2},\"yaxis\":{\"gridcolor\":\"white\",\"linecolor\":\"white\",\"ticks\":\"\",\"title\":{\"standoff\":15},\"zerolinecolor\":\"white\",\"automargin\":true,\"zerolinewidth\":2},\"scene\":{\"xaxis\":{\"backgroundcolor\":\"#E5ECF6\",\"gridcolor\":\"white\",\"linecolor\":\"white\",\"showbackground\":true,\"ticks\":\"\",\"zerolinecolor\":\"white\",\"gridwidth\":2},\"yaxis\":{\"backgroundcolor\":\"#E5ECF6\",\"gridcolor\":\"white\",\"linecolor\":\"white\",\"showbackground\":true,\"ticks\":\"\",\"zerolinecolor\":\"white\",\"gridwidth\":2},\"zaxis\":{\"backgroundcolor\":\"#E5ECF6\",\"gridcolor\":\"white\",\"linecolor\":\"white\",\"showbackground\":true,\"ticks\":\"\",\"zerolinecolor\":\"white\",\"gridwidth\":2}},\"shapedefaults\":{\"line\":{\"color\":\"#2a3f5f\"}},\"annotationdefaults\":{\"arrowcolor\":\"#2a3f5f\",\"arrowhead\":0,\"arrowwidth\":1},\"geo\":{\"bgcolor\":\"white\",\"landcolor\":\"#E5ECF6\",\"subunitcolor\":\"white\",\"showland\":true,\"showlakes\":true,\"lakecolor\":\"white\"},\"title\":{\"x\":0.05},\"mapbox\":{\"style\":\"light\"}}},\"xaxis\":{\"anchor\":\"y\",\"domain\":[0.0,1.0],\"title\":{\"text\":\"goal\"},\"categoryorder\":\"array\",\"categoryarray\":[\"\\u042d\\u0444\\u0444\\u0435\\u043a\\u0442\\u0438\\u0432\\u043d\\u043e\\u0441\\u0442\\u044c \\u0441\\u043d\\u0430\",\"\\u041f\\u0440\\u043e\\u0447\\u043d\\u043e\\u0441\\u0442\\u044c \\u043a\\u043e\\u0441\\u0442\\u0435\\u0439\",\"\\u041a\\u0440\\u0430\\u0441\\u043e\\u0442\\u0430 \\u0438 \\u0443\\u0445\\u043e\\u0434\",\"\\u041f\\u043e\\u0434\\u0432\\u0438\\u0436\\u043d\\u043e\\u0441\\u0442\\u044c \\u0438 \\u0437\\u0434\\u043e\\u0440\\u043e\\u0432\\u044c\\u0435 \\u0441\\u0443\\u0441\\u0442\\u0430\\u0432\\u043e\\u0432\",\"\\u0418\\u0437\\u0431\\u0430\\u0432\\u043b\\u0435\\u043d\\u0438\\u0435 \\u043e\\u0442 \\u0441\\u0442\\u0440\\u0435\\u0441\\u0441\\u0430 \\u0438 \\u0434\\u0435\\u043f\\u0440\\u0435\\u0441\\u0441\\u0438\\u0438\",\"\\u0416\\u0435\\u043d\\u0441\\u043a\\u043e\\u0435 \\u0437\\u0434\\u043e\\u0440\\u043e\\u0432\\u044c\\u0435\",\"\\u041f\\u0440\\u043e\\u0434\\u043b\\u0438\\u0442\\u044c \\u043c\\u043e\\u043b\\u043e\\u0434\\u043e\\u0441\\u0442\\u044c\",\"\\u041c\\u0443\\u0436\\u0441\\u043a\\u043e\\u0435 \\u0437\\u0434\\u043e\\u0440\\u043e\\u0432\\u044c\\u0435\",\"\\u0423\\u043b\\u0443\\u0447\\u0448\\u0438\\u0442\\u044c \\u0432\\u044b\\u043d\\u043e\\u0441\\u043b\\u0438\\u0432\\u043e\\u0441\\u0442\\u044c\",\"\\u0421\\u0431\\u0440\\u043e\\u0441\\u0438\\u0442\\u044c \\u0432\\u0435\\u0441\",\"\\u041d\\u0430\\u0440\\u0430\\u0441\\u0442\\u0438\\u0442\\u044c \\u043c\\u0430\\u0441\\u0441\\u0443\",\"\\u0412\\u043e\\u0441\\u0441\\u0442\\u0430\\u043d\\u043e\\u0432\\u043b\\u0435\\u043d\\u0438\\u0435\"]},\"yaxis\":{\"anchor\":\"x\",\"domain\":[0.0,1.0],\"title\":{\"text\":\"count\"}},\"legend\":{\"title\":{\"text\":\"goal\"},\"tracegroupgap\":0,\"itemsizing\":\"constant\"},\"margin\":{\"t\":60}},                        {\"responsive\": true}                    ).then(function(){\n",
       "                            \n",
       "var gd = document.getElementById('91cd86d8-e56d-4c72-ad17-66c81ef50b57');\n",
       "var x = new MutationObserver(function (mutations, observer) {{\n",
       "        var display = window.getComputedStyle(gd).display;\n",
       "        if (!display || display === 'none') {{\n",
       "            console.log([gd, 'removed!']);\n",
       "            Plotly.purge(gd);\n",
       "            observer.disconnect();\n",
       "        }}\n",
       "}});\n",
       "\n",
       "// Listen for the removal of the full notebook cells\n",
       "var notebookContainer = gd.closest('#notebook-container');\n",
       "if (notebookContainer) {{\n",
       "    x.observe(notebookContainer, {childList: true});\n",
       "}}\n",
       "\n",
       "// Listen for the clearing of the current output cell\n",
       "var outputEl = gd.closest('.output');\n",
       "if (outputEl) {{\n",
       "    x.observe(outputEl, {childList: true});\n",
       "}}\n",
       "\n",
       "                        })                };                });            </script>        </div>"
      ]
     },
     "metadata": {},
     "output_type": "display_data"
    }
   ],
   "source": [
    "s = pd.Series(Counter(all_vals))\n",
    "df_for_plot = pd.DataFrame({'goal': s.index, 'count': s.values}).sort_values('count').reset_index(drop=True)\n",
    "px.scatter(df_for_plot, x=\"goal\", y=\"count\", \n",
    "           size=\"count\", color=\"goal\", size_max=60)"
   ]
  },
  {
   "cell_type": "code",
   "execution_count": 11,
   "id": "1d7e08c2",
   "metadata": {},
   "outputs": [
    {
     "data": {
      "text/html": [
       "<div>\n",
       "<style scoped>\n",
       "    .dataframe tbody tr th:only-of-type {\n",
       "        vertical-align: middle;\n",
       "    }\n",
       "\n",
       "    .dataframe tbody tr th {\n",
       "        vertical-align: top;\n",
       "    }\n",
       "\n",
       "    .dataframe thead th {\n",
       "        text-align: right;\n",
       "    }\n",
       "</style>\n",
       "<table border=\"1\" class=\"dataframe\">\n",
       "  <thead>\n",
       "    <tr style=\"text-align: right;\">\n",
       "      <th>Страна производитель</th>\n",
       "      <th>Беларусь</th>\n",
       "      <th>Бельгия</th>\n",
       "      <th>Болгария</th>\n",
       "      <th>Великобритания</th>\n",
       "      <th>Венгрия</th>\n",
       "      <th>Германия</th>\n",
       "      <th>ИЗРАИЛЬ</th>\n",
       "      <th>Испания</th>\n",
       "      <th>Италия</th>\n",
       "      <th>Канада</th>\n",
       "      <th>Нидерланды</th>\n",
       "      <th>Польша</th>\n",
       "      <th>Россия</th>\n",
       "      <th>Румыния</th>\n",
       "      <th>США</th>\n",
       "      <th>ЧЕШСКАЯ РЕСПУБЛИКА</th>\n",
       "      <th>Чехия</th>\n",
       "      <th>Швейцария</th>\n",
       "      <th>Эстония</th>\n",
       "      <th>Япония</th>\n",
       "    </tr>\n",
       "    <tr>\n",
       "      <th>Тип</th>\n",
       "      <th></th>\n",
       "      <th></th>\n",
       "      <th></th>\n",
       "      <th></th>\n",
       "      <th></th>\n",
       "      <th></th>\n",
       "      <th></th>\n",
       "      <th></th>\n",
       "      <th></th>\n",
       "      <th></th>\n",
       "      <th></th>\n",
       "      <th></th>\n",
       "      <th></th>\n",
       "      <th></th>\n",
       "      <th></th>\n",
       "      <th></th>\n",
       "      <th></th>\n",
       "      <th></th>\n",
       "      <th></th>\n",
       "      <th></th>\n",
       "    </tr>\n",
       "  </thead>\n",
       "  <tbody>\n",
       "    <tr>\n",
       "      <th>BCAA</th>\n",
       "      <td>0</td>\n",
       "      <td>6</td>\n",
       "      <td>0</td>\n",
       "      <td>7</td>\n",
       "      <td>13</td>\n",
       "      <td>16</td>\n",
       "      <td>0</td>\n",
       "      <td>4</td>\n",
       "      <td>0</td>\n",
       "      <td>5</td>\n",
       "      <td>0</td>\n",
       "      <td>43</td>\n",
       "      <td>72</td>\n",
       "      <td>2</td>\n",
       "      <td>66</td>\n",
       "      <td>0</td>\n",
       "      <td>7</td>\n",
       "      <td>2</td>\n",
       "      <td>0</td>\n",
       "      <td>0</td>\n",
       "    </tr>\n",
       "    <tr>\n",
       "      <th>BCAA, Карнитин (L-карнитин)</th>\n",
       "      <td>0</td>\n",
       "      <td>0</td>\n",
       "      <td>0</td>\n",
       "      <td>0</td>\n",
       "      <td>0</td>\n",
       "      <td>0</td>\n",
       "      <td>0</td>\n",
       "      <td>0</td>\n",
       "      <td>0</td>\n",
       "      <td>0</td>\n",
       "      <td>0</td>\n",
       "      <td>0</td>\n",
       "      <td>1</td>\n",
       "      <td>0</td>\n",
       "      <td>0</td>\n",
       "      <td>0</td>\n",
       "      <td>0</td>\n",
       "      <td>0</td>\n",
       "      <td>0</td>\n",
       "      <td>0</td>\n",
       "    </tr>\n",
       "    <tr>\n",
       "      <th>BCAA, Напитки</th>\n",
       "      <td>0</td>\n",
       "      <td>0</td>\n",
       "      <td>0</td>\n",
       "      <td>0</td>\n",
       "      <td>0</td>\n",
       "      <td>0</td>\n",
       "      <td>0</td>\n",
       "      <td>0</td>\n",
       "      <td>0</td>\n",
       "      <td>0</td>\n",
       "      <td>0</td>\n",
       "      <td>0</td>\n",
       "      <td>1</td>\n",
       "      <td>0</td>\n",
       "      <td>0</td>\n",
       "      <td>0</td>\n",
       "      <td>0</td>\n",
       "      <td>0</td>\n",
       "      <td>0</td>\n",
       "      <td>0</td>\n",
       "    </tr>\n",
       "    <tr>\n",
       "      <th>HMB</th>\n",
       "      <td>0</td>\n",
       "      <td>2</td>\n",
       "      <td>0</td>\n",
       "      <td>1</td>\n",
       "      <td>0</td>\n",
       "      <td>1</td>\n",
       "      <td>0</td>\n",
       "      <td>1</td>\n",
       "      <td>0</td>\n",
       "      <td>0</td>\n",
       "      <td>0</td>\n",
       "      <td>3</td>\n",
       "      <td>0</td>\n",
       "      <td>0</td>\n",
       "      <td>2</td>\n",
       "      <td>0</td>\n",
       "      <td>0</td>\n",
       "      <td>0</td>\n",
       "      <td>0</td>\n",
       "      <td>0</td>\n",
       "    </tr>\n",
       "    <tr>\n",
       "      <th>Аминокислотные комплексы</th>\n",
       "      <td>0</td>\n",
       "      <td>7</td>\n",
       "      <td>1</td>\n",
       "      <td>4</td>\n",
       "      <td>11</td>\n",
       "      <td>28</td>\n",
       "      <td>0</td>\n",
       "      <td>3</td>\n",
       "      <td>3</td>\n",
       "      <td>4</td>\n",
       "      <td>1</td>\n",
       "      <td>12</td>\n",
       "      <td>16</td>\n",
       "      <td>2</td>\n",
       "      <td>79</td>\n",
       "      <td>0</td>\n",
       "      <td>0</td>\n",
       "      <td>0</td>\n",
       "      <td>0</td>\n",
       "      <td>0</td>\n",
       "    </tr>\n",
       "    <tr>\n",
       "      <th>Аминокислоты отдельные</th>\n",
       "      <td>0</td>\n",
       "      <td>0</td>\n",
       "      <td>0</td>\n",
       "      <td>1</td>\n",
       "      <td>1</td>\n",
       "      <td>2</td>\n",
       "      <td>1</td>\n",
       "      <td>1</td>\n",
       "      <td>0</td>\n",
       "      <td>0</td>\n",
       "      <td>0</td>\n",
       "      <td>1</td>\n",
       "      <td>10</td>\n",
       "      <td>0</td>\n",
       "      <td>11</td>\n",
       "      <td>0</td>\n",
       "      <td>0</td>\n",
       "      <td>0</td>\n",
       "      <td>0</td>\n",
       "      <td>0</td>\n",
       "    </tr>\n",
       "    <tr>\n",
       "      <th>Аргинин</th>\n",
       "      <td>0</td>\n",
       "      <td>1</td>\n",
       "      <td>0</td>\n",
       "      <td>1</td>\n",
       "      <td>3</td>\n",
       "      <td>2</td>\n",
       "      <td>0</td>\n",
       "      <td>1</td>\n",
       "      <td>0</td>\n",
       "      <td>0</td>\n",
       "      <td>0</td>\n",
       "      <td>0</td>\n",
       "      <td>11</td>\n",
       "      <td>0</td>\n",
       "      <td>12</td>\n",
       "      <td>0</td>\n",
       "      <td>0</td>\n",
       "      <td>0</td>\n",
       "      <td>0</td>\n",
       "      <td>1</td>\n",
       "    </tr>\n",
       "    <tr>\n",
       "      <th>Батончики</th>\n",
       "      <td>0</td>\n",
       "      <td>0</td>\n",
       "      <td>0</td>\n",
       "      <td>0</td>\n",
       "      <td>0</td>\n",
       "      <td>0</td>\n",
       "      <td>0</td>\n",
       "      <td>0</td>\n",
       "      <td>0</td>\n",
       "      <td>0</td>\n",
       "      <td>0</td>\n",
       "      <td>0</td>\n",
       "      <td>1</td>\n",
       "      <td>0</td>\n",
       "      <td>0</td>\n",
       "      <td>0</td>\n",
       "      <td>0</td>\n",
       "      <td>0</td>\n",
       "      <td>0</td>\n",
       "      <td>0</td>\n",
       "    </tr>\n",
       "    <tr>\n",
       "      <th>Бета-аланин</th>\n",
       "      <td>0</td>\n",
       "      <td>0</td>\n",
       "      <td>0</td>\n",
       "      <td>1</td>\n",
       "      <td>1</td>\n",
       "      <td>2</td>\n",
       "      <td>0</td>\n",
       "      <td>1</td>\n",
       "      <td>0</td>\n",
       "      <td>0</td>\n",
       "      <td>0</td>\n",
       "      <td>2</td>\n",
       "      <td>2</td>\n",
       "      <td>0</td>\n",
       "      <td>3</td>\n",
       "      <td>0</td>\n",
       "      <td>0</td>\n",
       "      <td>0</td>\n",
       "      <td>0</td>\n",
       "      <td>0</td>\n",
       "    </tr>\n",
       "    <tr>\n",
       "      <th>Витаминно-минеральные комплексы</th>\n",
       "      <td>0</td>\n",
       "      <td>0</td>\n",
       "      <td>0</td>\n",
       "      <td>0</td>\n",
       "      <td>0</td>\n",
       "      <td>1</td>\n",
       "      <td>0</td>\n",
       "      <td>0</td>\n",
       "      <td>0</td>\n",
       "      <td>0</td>\n",
       "      <td>0</td>\n",
       "      <td>0</td>\n",
       "      <td>0</td>\n",
       "      <td>0</td>\n",
       "      <td>0</td>\n",
       "      <td>0</td>\n",
       "      <td>0</td>\n",
       "      <td>0</td>\n",
       "      <td>0</td>\n",
       "      <td>0</td>\n",
       "    </tr>\n",
       "    <tr>\n",
       "      <th>Гейнеры</th>\n",
       "      <td>0</td>\n",
       "      <td>0</td>\n",
       "      <td>0</td>\n",
       "      <td>0</td>\n",
       "      <td>0</td>\n",
       "      <td>0</td>\n",
       "      <td>0</td>\n",
       "      <td>0</td>\n",
       "      <td>0</td>\n",
       "      <td>0</td>\n",
       "      <td>0</td>\n",
       "      <td>0</td>\n",
       "      <td>3</td>\n",
       "      <td>0</td>\n",
       "      <td>0</td>\n",
       "      <td>0</td>\n",
       "      <td>0</td>\n",
       "      <td>0</td>\n",
       "      <td>0</td>\n",
       "      <td>0</td>\n",
       "    </tr>\n",
       "    <tr>\n",
       "      <th>Глютамин</th>\n",
       "      <td>0</td>\n",
       "      <td>1</td>\n",
       "      <td>1</td>\n",
       "      <td>1</td>\n",
       "      <td>4</td>\n",
       "      <td>5</td>\n",
       "      <td>0</td>\n",
       "      <td>1</td>\n",
       "      <td>0</td>\n",
       "      <td>0</td>\n",
       "      <td>0</td>\n",
       "      <td>9</td>\n",
       "      <td>16</td>\n",
       "      <td>0</td>\n",
       "      <td>27</td>\n",
       "      <td>0</td>\n",
       "      <td>0</td>\n",
       "      <td>0</td>\n",
       "      <td>0</td>\n",
       "      <td>0</td>\n",
       "    </tr>\n",
       "    <tr>\n",
       "      <th>Глютамин, Для связок и суставов</th>\n",
       "      <td>0</td>\n",
       "      <td>0</td>\n",
       "      <td>0</td>\n",
       "      <td>0</td>\n",
       "      <td>0</td>\n",
       "      <td>0</td>\n",
       "      <td>0</td>\n",
       "      <td>0</td>\n",
       "      <td>0</td>\n",
       "      <td>0</td>\n",
       "      <td>0</td>\n",
       "      <td>0</td>\n",
       "      <td>1</td>\n",
       "      <td>0</td>\n",
       "      <td>0</td>\n",
       "      <td>0</td>\n",
       "      <td>0</td>\n",
       "      <td>0</td>\n",
       "      <td>0</td>\n",
       "      <td>0</td>\n",
       "    </tr>\n",
       "    <tr>\n",
       "      <th>ДМАЭ (DMAE)</th>\n",
       "      <td>0</td>\n",
       "      <td>0</td>\n",
       "      <td>0</td>\n",
       "      <td>0</td>\n",
       "      <td>0</td>\n",
       "      <td>0</td>\n",
       "      <td>0</td>\n",
       "      <td>0</td>\n",
       "      <td>0</td>\n",
       "      <td>0</td>\n",
       "      <td>0</td>\n",
       "      <td>0</td>\n",
       "      <td>1</td>\n",
       "      <td>0</td>\n",
       "      <td>0</td>\n",
       "      <td>0</td>\n",
       "      <td>0</td>\n",
       "      <td>0</td>\n",
       "      <td>0</td>\n",
       "      <td>0</td>\n",
       "    </tr>\n",
       "    <tr>\n",
       "      <th>Для связок и суставов</th>\n",
       "      <td>0</td>\n",
       "      <td>0</td>\n",
       "      <td>0</td>\n",
       "      <td>0</td>\n",
       "      <td>0</td>\n",
       "      <td>0</td>\n",
       "      <td>0</td>\n",
       "      <td>0</td>\n",
       "      <td>0</td>\n",
       "      <td>0</td>\n",
       "      <td>0</td>\n",
       "      <td>0</td>\n",
       "      <td>1</td>\n",
       "      <td>0</td>\n",
       "      <td>0</td>\n",
       "      <td>0</td>\n",
       "      <td>0</td>\n",
       "      <td>0</td>\n",
       "      <td>0</td>\n",
       "      <td>0</td>\n",
       "    </tr>\n",
       "    <tr>\n",
       "      <th>Для снижения веса, Карнитин (L-карнитин)</th>\n",
       "      <td>0</td>\n",
       "      <td>0</td>\n",
       "      <td>0</td>\n",
       "      <td>0</td>\n",
       "      <td>0</td>\n",
       "      <td>0</td>\n",
       "      <td>0</td>\n",
       "      <td>0</td>\n",
       "      <td>0</td>\n",
       "      <td>0</td>\n",
       "      <td>0</td>\n",
       "      <td>0</td>\n",
       "      <td>2</td>\n",
       "      <td>0</td>\n",
       "      <td>0</td>\n",
       "      <td>0</td>\n",
       "      <td>0</td>\n",
       "      <td>0</td>\n",
       "      <td>0</td>\n",
       "      <td>0</td>\n",
       "    </tr>\n",
       "    <tr>\n",
       "      <th>Для снижения веса, Карнитин (L-карнитин), Энергетики</th>\n",
       "      <td>0</td>\n",
       "      <td>0</td>\n",
       "      <td>0</td>\n",
       "      <td>0</td>\n",
       "      <td>0</td>\n",
       "      <td>0</td>\n",
       "      <td>0</td>\n",
       "      <td>0</td>\n",
       "      <td>0</td>\n",
       "      <td>0</td>\n",
       "      <td>0</td>\n",
       "      <td>0</td>\n",
       "      <td>3</td>\n",
       "      <td>0</td>\n",
       "      <td>0</td>\n",
       "      <td>0</td>\n",
       "      <td>0</td>\n",
       "      <td>0</td>\n",
       "      <td>0</td>\n",
       "      <td>0</td>\n",
       "    </tr>\n",
       "    <tr>\n",
       "      <th>Изотоники</th>\n",
       "      <td>0</td>\n",
       "      <td>0</td>\n",
       "      <td>0</td>\n",
       "      <td>0</td>\n",
       "      <td>0</td>\n",
       "      <td>0</td>\n",
       "      <td>0</td>\n",
       "      <td>0</td>\n",
       "      <td>0</td>\n",
       "      <td>0</td>\n",
       "      <td>0</td>\n",
       "      <td>0</td>\n",
       "      <td>3</td>\n",
       "      <td>0</td>\n",
       "      <td>0</td>\n",
       "      <td>0</td>\n",
       "      <td>0</td>\n",
       "      <td>0</td>\n",
       "      <td>0</td>\n",
       "      <td>0</td>\n",
       "    </tr>\n",
       "    <tr>\n",
       "      <th>Карнитин (L-карнитин)</th>\n",
       "      <td>2</td>\n",
       "      <td>4</td>\n",
       "      <td>0</td>\n",
       "      <td>4</td>\n",
       "      <td>1</td>\n",
       "      <td>49</td>\n",
       "      <td>0</td>\n",
       "      <td>2</td>\n",
       "      <td>0</td>\n",
       "      <td>1</td>\n",
       "      <td>0</td>\n",
       "      <td>14</td>\n",
       "      <td>44</td>\n",
       "      <td>0</td>\n",
       "      <td>34</td>\n",
       "      <td>1</td>\n",
       "      <td>0</td>\n",
       "      <td>0</td>\n",
       "      <td>0</td>\n",
       "      <td>0</td>\n",
       "    </tr>\n",
       "    <tr>\n",
       "      <th>Креатин моногидрат</th>\n",
       "      <td>2</td>\n",
       "      <td>5</td>\n",
       "      <td>0</td>\n",
       "      <td>4</td>\n",
       "      <td>1</td>\n",
       "      <td>11</td>\n",
       "      <td>0</td>\n",
       "      <td>2</td>\n",
       "      <td>0</td>\n",
       "      <td>1</td>\n",
       "      <td>0</td>\n",
       "      <td>9</td>\n",
       "      <td>30</td>\n",
       "      <td>2</td>\n",
       "      <td>35</td>\n",
       "      <td>0</td>\n",
       "      <td>0</td>\n",
       "      <td>0</td>\n",
       "      <td>0</td>\n",
       "      <td>0</td>\n",
       "    </tr>\n",
       "    <tr>\n",
       "      <th>Креатин транспорт</th>\n",
       "      <td>0</td>\n",
       "      <td>1</td>\n",
       "      <td>0</td>\n",
       "      <td>0</td>\n",
       "      <td>1</td>\n",
       "      <td>1</td>\n",
       "      <td>0</td>\n",
       "      <td>0</td>\n",
       "      <td>0</td>\n",
       "      <td>1</td>\n",
       "      <td>0</td>\n",
       "      <td>6</td>\n",
       "      <td>5</td>\n",
       "      <td>0</td>\n",
       "      <td>6</td>\n",
       "      <td>0</td>\n",
       "      <td>0</td>\n",
       "      <td>1</td>\n",
       "      <td>0</td>\n",
       "      <td>0</td>\n",
       "    </tr>\n",
       "    <tr>\n",
       "      <th>Напитки</th>\n",
       "      <td>0</td>\n",
       "      <td>2</td>\n",
       "      <td>0</td>\n",
       "      <td>0</td>\n",
       "      <td>0</td>\n",
       "      <td>1</td>\n",
       "      <td>0</td>\n",
       "      <td>0</td>\n",
       "      <td>0</td>\n",
       "      <td>0</td>\n",
       "      <td>0</td>\n",
       "      <td>0</td>\n",
       "      <td>6</td>\n",
       "      <td>0</td>\n",
       "      <td>0</td>\n",
       "      <td>0</td>\n",
       "      <td>0</td>\n",
       "      <td>0</td>\n",
       "      <td>0</td>\n",
       "      <td>0</td>\n",
       "    </tr>\n",
       "    <tr>\n",
       "      <th>Оксид азота (NO)</th>\n",
       "      <td>0</td>\n",
       "      <td>1</td>\n",
       "      <td>0</td>\n",
       "      <td>0</td>\n",
       "      <td>0</td>\n",
       "      <td>1</td>\n",
       "      <td>0</td>\n",
       "      <td>0</td>\n",
       "      <td>0</td>\n",
       "      <td>0</td>\n",
       "      <td>0</td>\n",
       "      <td>3</td>\n",
       "      <td>7</td>\n",
       "      <td>0</td>\n",
       "      <td>2</td>\n",
       "      <td>0</td>\n",
       "      <td>0</td>\n",
       "      <td>0</td>\n",
       "      <td>0</td>\n",
       "      <td>0</td>\n",
       "    </tr>\n",
       "    <tr>\n",
       "      <th>Подарочные карты</th>\n",
       "      <td>0</td>\n",
       "      <td>0</td>\n",
       "      <td>0</td>\n",
       "      <td>0</td>\n",
       "      <td>0</td>\n",
       "      <td>1</td>\n",
       "      <td>0</td>\n",
       "      <td>0</td>\n",
       "      <td>0</td>\n",
       "      <td>0</td>\n",
       "      <td>0</td>\n",
       "      <td>0</td>\n",
       "      <td>0</td>\n",
       "      <td>0</td>\n",
       "      <td>0</td>\n",
       "      <td>0</td>\n",
       "      <td>0</td>\n",
       "      <td>0</td>\n",
       "      <td>0</td>\n",
       "      <td>0</td>\n",
       "    </tr>\n",
       "    <tr>\n",
       "      <th>Предтренировочные комплексы</th>\n",
       "      <td>0</td>\n",
       "      <td>1</td>\n",
       "      <td>0</td>\n",
       "      <td>0</td>\n",
       "      <td>0</td>\n",
       "      <td>0</td>\n",
       "      <td>0</td>\n",
       "      <td>0</td>\n",
       "      <td>0</td>\n",
       "      <td>0</td>\n",
       "      <td>0</td>\n",
       "      <td>0</td>\n",
       "      <td>1</td>\n",
       "      <td>0</td>\n",
       "      <td>0</td>\n",
       "      <td>0</td>\n",
       "      <td>0</td>\n",
       "      <td>0</td>\n",
       "      <td>0</td>\n",
       "      <td>0</td>\n",
       "    </tr>\n",
       "    <tr>\n",
       "      <th>Сжигатели жира</th>\n",
       "      <td>0</td>\n",
       "      <td>0</td>\n",
       "      <td>0</td>\n",
       "      <td>0</td>\n",
       "      <td>0</td>\n",
       "      <td>0</td>\n",
       "      <td>0</td>\n",
       "      <td>0</td>\n",
       "      <td>0</td>\n",
       "      <td>0</td>\n",
       "      <td>0</td>\n",
       "      <td>1</td>\n",
       "      <td>1</td>\n",
       "      <td>0</td>\n",
       "      <td>0</td>\n",
       "      <td>0</td>\n",
       "      <td>0</td>\n",
       "      <td>0</td>\n",
       "      <td>0</td>\n",
       "      <td>0</td>\n",
       "    </tr>\n",
       "    <tr>\n",
       "      <th>Специальные препараты</th>\n",
       "      <td>0</td>\n",
       "      <td>0</td>\n",
       "      <td>0</td>\n",
       "      <td>0</td>\n",
       "      <td>0</td>\n",
       "      <td>0</td>\n",
       "      <td>0</td>\n",
       "      <td>0</td>\n",
       "      <td>0</td>\n",
       "      <td>0</td>\n",
       "      <td>0</td>\n",
       "      <td>0</td>\n",
       "      <td>1</td>\n",
       "      <td>0</td>\n",
       "      <td>4</td>\n",
       "      <td>0</td>\n",
       "      <td>0</td>\n",
       "      <td>0</td>\n",
       "      <td>1</td>\n",
       "      <td>0</td>\n",
       "    </tr>\n",
       "    <tr>\n",
       "      <th>Таурин</th>\n",
       "      <td>0</td>\n",
       "      <td>0</td>\n",
       "      <td>0</td>\n",
       "      <td>0</td>\n",
       "      <td>1</td>\n",
       "      <td>0</td>\n",
       "      <td>0</td>\n",
       "      <td>0</td>\n",
       "      <td>0</td>\n",
       "      <td>0</td>\n",
       "      <td>0</td>\n",
       "      <td>3</td>\n",
       "      <td>3</td>\n",
       "      <td>0</td>\n",
       "      <td>2</td>\n",
       "      <td>0</td>\n",
       "      <td>0</td>\n",
       "      <td>0</td>\n",
       "      <td>0</td>\n",
       "      <td>0</td>\n",
       "    </tr>\n",
       "    <tr>\n",
       "      <th>Тирозин</th>\n",
       "      <td>0</td>\n",
       "      <td>0</td>\n",
       "      <td>0</td>\n",
       "      <td>0</td>\n",
       "      <td>0</td>\n",
       "      <td>0</td>\n",
       "      <td>0</td>\n",
       "      <td>0</td>\n",
       "      <td>0</td>\n",
       "      <td>0</td>\n",
       "      <td>0</td>\n",
       "      <td>2</td>\n",
       "      <td>2</td>\n",
       "      <td>0</td>\n",
       "      <td>3</td>\n",
       "      <td>0</td>\n",
       "      <td>0</td>\n",
       "      <td>0</td>\n",
       "      <td>0</td>\n",
       "      <td>0</td>\n",
       "    </tr>\n",
       "    <tr>\n",
       "      <th>Энергетики</th>\n",
       "      <td>0</td>\n",
       "      <td>0</td>\n",
       "      <td>0</td>\n",
       "      <td>0</td>\n",
       "      <td>0</td>\n",
       "      <td>0</td>\n",
       "      <td>0</td>\n",
       "      <td>0</td>\n",
       "      <td>0</td>\n",
       "      <td>0</td>\n",
       "      <td>0</td>\n",
       "      <td>0</td>\n",
       "      <td>1</td>\n",
       "      <td>0</td>\n",
       "      <td>0</td>\n",
       "      <td>0</td>\n",
       "      <td>0</td>\n",
       "      <td>0</td>\n",
       "      <td>0</td>\n",
       "      <td>0</td>\n",
       "    </tr>\n",
       "    <tr>\n",
       "      <th>аминокислота</th>\n",
       "      <td>0</td>\n",
       "      <td>0</td>\n",
       "      <td>0</td>\n",
       "      <td>0</td>\n",
       "      <td>0</td>\n",
       "      <td>0</td>\n",
       "      <td>0</td>\n",
       "      <td>0</td>\n",
       "      <td>0</td>\n",
       "      <td>0</td>\n",
       "      <td>0</td>\n",
       "      <td>0</td>\n",
       "      <td>3</td>\n",
       "      <td>0</td>\n",
       "      <td>1</td>\n",
       "      <td>0</td>\n",
       "      <td>0</td>\n",
       "      <td>0</td>\n",
       "      <td>0</td>\n",
       "      <td>0</td>\n",
       "    </tr>\n",
       "    <tr>\n",
       "      <th>аминокислота, Бета-аланин</th>\n",
       "      <td>0</td>\n",
       "      <td>0</td>\n",
       "      <td>0</td>\n",
       "      <td>0</td>\n",
       "      <td>0</td>\n",
       "      <td>0</td>\n",
       "      <td>0</td>\n",
       "      <td>0</td>\n",
       "      <td>0</td>\n",
       "      <td>0</td>\n",
       "      <td>0</td>\n",
       "      <td>0</td>\n",
       "      <td>1</td>\n",
       "      <td>0</td>\n",
       "      <td>0</td>\n",
       "      <td>0</td>\n",
       "      <td>0</td>\n",
       "      <td>0</td>\n",
       "      <td>0</td>\n",
       "      <td>0</td>\n",
       "    </tr>\n",
       "    <tr>\n",
       "      <th>аминокислота, Таурин</th>\n",
       "      <td>0</td>\n",
       "      <td>0</td>\n",
       "      <td>0</td>\n",
       "      <td>0</td>\n",
       "      <td>0</td>\n",
       "      <td>0</td>\n",
       "      <td>0</td>\n",
       "      <td>0</td>\n",
       "      <td>0</td>\n",
       "      <td>0</td>\n",
       "      <td>0</td>\n",
       "      <td>1</td>\n",
       "      <td>0</td>\n",
       "      <td>0</td>\n",
       "      <td>0</td>\n",
       "      <td>0</td>\n",
       "      <td>0</td>\n",
       "      <td>0</td>\n",
       "      <td>0</td>\n",
       "      <td>0</td>\n",
       "    </tr>\n",
       "    <tr>\n",
       "      <th>д-аспарагиновая кислота</th>\n",
       "      <td>0</td>\n",
       "      <td>0</td>\n",
       "      <td>0</td>\n",
       "      <td>0</td>\n",
       "      <td>1</td>\n",
       "      <td>0</td>\n",
       "      <td>0</td>\n",
       "      <td>1</td>\n",
       "      <td>0</td>\n",
       "      <td>0</td>\n",
       "      <td>0</td>\n",
       "      <td>2</td>\n",
       "      <td>3</td>\n",
       "      <td>0</td>\n",
       "      <td>0</td>\n",
       "      <td>0</td>\n",
       "      <td>0</td>\n",
       "      <td>0</td>\n",
       "      <td>0</td>\n",
       "      <td>0</td>\n",
       "    </tr>\n",
       "  </tbody>\n",
       "</table>\n",
       "</div>"
      ],
      "text/plain": [
       "Страна производитель                                Беларусь  Бельгия  \\\n",
       "Тип                                                                     \n",
       "BCAA                                                       0        6   \n",
       "BCAA, Карнитин (L-карнитин)                                0        0   \n",
       "BCAA, Напитки                                              0        0   \n",
       "HMB                                                        0        2   \n",
       "Аминокислотные комплексы                                   0        7   \n",
       "Аминокислоты отдельные                                     0        0   \n",
       "Аргинин                                                    0        1   \n",
       "Батончики                                                  0        0   \n",
       "Бета-аланин                                                0        0   \n",
       "Витаминно-минеральные комплексы                            0        0   \n",
       "Гейнеры                                                    0        0   \n",
       "Глютамин                                                   0        1   \n",
       "Глютамин, Для связок и суставов                            0        0   \n",
       "ДМАЭ (DMAE)                                                0        0   \n",
       "Для связок и суставов                                      0        0   \n",
       "Для снижения веса, Карнитин (L-карнитин)                   0        0   \n",
       "Для снижения веса, Карнитин (L-карнитин), Энерг...         0        0   \n",
       "Изотоники                                                  0        0   \n",
       "Карнитин (L-карнитин)                                      2        4   \n",
       "Креатин моногидрат                                         2        5   \n",
       "Креатин транспорт                                          0        1   \n",
       "Напитки                                                    0        2   \n",
       "Оксид азота (NO)                                           0        1   \n",
       "Подарочные карты                                           0        0   \n",
       "Предтренировочные комплексы                                0        1   \n",
       "Сжигатели жира                                             0        0   \n",
       "Специальные препараты                                      0        0   \n",
       "Таурин                                                     0        0   \n",
       "Тирозин                                                    0        0   \n",
       "Энергетики                                                 0        0   \n",
       "аминокислота                                               0        0   \n",
       "аминокислота, Бета-аланин                                  0        0   \n",
       "аминокислота, Таурин                                       0        0   \n",
       "д-аспарагиновая кислота                                    0        0   \n",
       "\n",
       "Страна производитель                                Болгария  Великобритания  \\\n",
       "Тип                                                                            \n",
       "BCAA                                                       0               7   \n",
       "BCAA, Карнитин (L-карнитин)                                0               0   \n",
       "BCAA, Напитки                                              0               0   \n",
       "HMB                                                        0               1   \n",
       "Аминокислотные комплексы                                   1               4   \n",
       "Аминокислоты отдельные                                     0               1   \n",
       "Аргинин                                                    0               1   \n",
       "Батончики                                                  0               0   \n",
       "Бета-аланин                                                0               1   \n",
       "Витаминно-минеральные комплексы                            0               0   \n",
       "Гейнеры                                                    0               0   \n",
       "Глютамин                                                   1               1   \n",
       "Глютамин, Для связок и суставов                            0               0   \n",
       "ДМАЭ (DMAE)                                                0               0   \n",
       "Для связок и суставов                                      0               0   \n",
       "Для снижения веса, Карнитин (L-карнитин)                   0               0   \n",
       "Для снижения веса, Карнитин (L-карнитин), Энерг...         0               0   \n",
       "Изотоники                                                  0               0   \n",
       "Карнитин (L-карнитин)                                      0               4   \n",
       "Креатин моногидрат                                         0               4   \n",
       "Креатин транспорт                                          0               0   \n",
       "Напитки                                                    0               0   \n",
       "Оксид азота (NO)                                           0               0   \n",
       "Подарочные карты                                           0               0   \n",
       "Предтренировочные комплексы                                0               0   \n",
       "Сжигатели жира                                             0               0   \n",
       "Специальные препараты                                      0               0   \n",
       "Таурин                                                     0               0   \n",
       "Тирозин                                                    0               0   \n",
       "Энергетики                                                 0               0   \n",
       "аминокислота                                               0               0   \n",
       "аминокислота, Бета-аланин                                  0               0   \n",
       "аминокислота, Таурин                                       0               0   \n",
       "д-аспарагиновая кислота                                    0               0   \n",
       "\n",
       "Страна производитель                                Венгрия  Германия  \\\n",
       "Тип                                                                     \n",
       "BCAA                                                     13        16   \n",
       "BCAA, Карнитин (L-карнитин)                               0         0   \n",
       "BCAA, Напитки                                             0         0   \n",
       "HMB                                                       0         1   \n",
       "Аминокислотные комплексы                                 11        28   \n",
       "Аминокислоты отдельные                                    1         2   \n",
       "Аргинин                                                   3         2   \n",
       "Батончики                                                 0         0   \n",
       "Бета-аланин                                               1         2   \n",
       "Витаминно-минеральные комплексы                           0         1   \n",
       "Гейнеры                                                   0         0   \n",
       "Глютамин                                                  4         5   \n",
       "Глютамин, Для связок и суставов                           0         0   \n",
       "ДМАЭ (DMAE)                                               0         0   \n",
       "Для связок и суставов                                     0         0   \n",
       "Для снижения веса, Карнитин (L-карнитин)                  0         0   \n",
       "Для снижения веса, Карнитин (L-карнитин), Энерг...        0         0   \n",
       "Изотоники                                                 0         0   \n",
       "Карнитин (L-карнитин)                                     1        49   \n",
       "Креатин моногидрат                                        1        11   \n",
       "Креатин транспорт                                         1         1   \n",
       "Напитки                                                   0         1   \n",
       "Оксид азота (NO)                                          0         1   \n",
       "Подарочные карты                                          0         1   \n",
       "Предтренировочные комплексы                               0         0   \n",
       "Сжигатели жира                                            0         0   \n",
       "Специальные препараты                                     0         0   \n",
       "Таурин                                                    1         0   \n",
       "Тирозин                                                   0         0   \n",
       "Энергетики                                                0         0   \n",
       "аминокислота                                              0         0   \n",
       "аминокислота, Бета-аланин                                 0         0   \n",
       "аминокислота, Таурин                                      0         0   \n",
       "д-аспарагиновая кислота                                   1         0   \n",
       "\n",
       "Страна производитель                                ИЗРАИЛЬ  Испания  Италия  \\\n",
       "Тип                                                                            \n",
       "BCAA                                                      0        4       0   \n",
       "BCAA, Карнитин (L-карнитин)                               0        0       0   \n",
       "BCAA, Напитки                                             0        0       0   \n",
       "HMB                                                       0        1       0   \n",
       "Аминокислотные комплексы                                  0        3       3   \n",
       "Аминокислоты отдельные                                    1        1       0   \n",
       "Аргинин                                                   0        1       0   \n",
       "Батончики                                                 0        0       0   \n",
       "Бета-аланин                                               0        1       0   \n",
       "Витаминно-минеральные комплексы                           0        0       0   \n",
       "Гейнеры                                                   0        0       0   \n",
       "Глютамин                                                  0        1       0   \n",
       "Глютамин, Для связок и суставов                           0        0       0   \n",
       "ДМАЭ (DMAE)                                               0        0       0   \n",
       "Для связок и суставов                                     0        0       0   \n",
       "Для снижения веса, Карнитин (L-карнитин)                  0        0       0   \n",
       "Для снижения веса, Карнитин (L-карнитин), Энерг...        0        0       0   \n",
       "Изотоники                                                 0        0       0   \n",
       "Карнитин (L-карнитин)                                     0        2       0   \n",
       "Креатин моногидрат                                        0        2       0   \n",
       "Креатин транспорт                                         0        0       0   \n",
       "Напитки                                                   0        0       0   \n",
       "Оксид азота (NO)                                          0        0       0   \n",
       "Подарочные карты                                          0        0       0   \n",
       "Предтренировочные комплексы                               0        0       0   \n",
       "Сжигатели жира                                            0        0       0   \n",
       "Специальные препараты                                     0        0       0   \n",
       "Таурин                                                    0        0       0   \n",
       "Тирозин                                                   0        0       0   \n",
       "Энергетики                                                0        0       0   \n",
       "аминокислота                                              0        0       0   \n",
       "аминокислота, Бета-аланин                                 0        0       0   \n",
       "аминокислота, Таурин                                      0        0       0   \n",
       "д-аспарагиновая кислота                                   0        1       0   \n",
       "\n",
       "Страна производитель                                Канада  Нидерланды  \\\n",
       "Тип                                                                      \n",
       "BCAA                                                     5           0   \n",
       "BCAA, Карнитин (L-карнитин)                              0           0   \n",
       "BCAA, Напитки                                            0           0   \n",
       "HMB                                                      0           0   \n",
       "Аминокислотные комплексы                                 4           1   \n",
       "Аминокислоты отдельные                                   0           0   \n",
       "Аргинин                                                  0           0   \n",
       "Батончики                                                0           0   \n",
       "Бета-аланин                                              0           0   \n",
       "Витаминно-минеральные комплексы                          0           0   \n",
       "Гейнеры                                                  0           0   \n",
       "Глютамин                                                 0           0   \n",
       "Глютамин, Для связок и суставов                          0           0   \n",
       "ДМАЭ (DMAE)                                              0           0   \n",
       "Для связок и суставов                                    0           0   \n",
       "Для снижения веса, Карнитин (L-карнитин)                 0           0   \n",
       "Для снижения веса, Карнитин (L-карнитин), Энерг...       0           0   \n",
       "Изотоники                                                0           0   \n",
       "Карнитин (L-карнитин)                                    1           0   \n",
       "Креатин моногидрат                                       1           0   \n",
       "Креатин транспорт                                        1           0   \n",
       "Напитки                                                  0           0   \n",
       "Оксид азота (NO)                                         0           0   \n",
       "Подарочные карты                                         0           0   \n",
       "Предтренировочные комплексы                              0           0   \n",
       "Сжигатели жира                                           0           0   \n",
       "Специальные препараты                                    0           0   \n",
       "Таурин                                                   0           0   \n",
       "Тирозин                                                  0           0   \n",
       "Энергетики                                               0           0   \n",
       "аминокислота                                             0           0   \n",
       "аминокислота, Бета-аланин                                0           0   \n",
       "аминокислота, Таурин                                     0           0   \n",
       "д-аспарагиновая кислота                                  0           0   \n",
       "\n",
       "Страна производитель                                Польша  Россия  Румыния  \\\n",
       "Тип                                                                           \n",
       "BCAA                                                    43      72        2   \n",
       "BCAA, Карнитин (L-карнитин)                              0       1        0   \n",
       "BCAA, Напитки                                            0       1        0   \n",
       "HMB                                                      3       0        0   \n",
       "Аминокислотные комплексы                                12      16        2   \n",
       "Аминокислоты отдельные                                   1      10        0   \n",
       "Аргинин                                                  0      11        0   \n",
       "Батончики                                                0       1        0   \n",
       "Бета-аланин                                              2       2        0   \n",
       "Витаминно-минеральные комплексы                          0       0        0   \n",
       "Гейнеры                                                  0       3        0   \n",
       "Глютамин                                                 9      16        0   \n",
       "Глютамин, Для связок и суставов                          0       1        0   \n",
       "ДМАЭ (DMAE)                                              0       1        0   \n",
       "Для связок и суставов                                    0       1        0   \n",
       "Для снижения веса, Карнитин (L-карнитин)                 0       2        0   \n",
       "Для снижения веса, Карнитин (L-карнитин), Энерг...       0       3        0   \n",
       "Изотоники                                                0       3        0   \n",
       "Карнитин (L-карнитин)                                   14      44        0   \n",
       "Креатин моногидрат                                       9      30        2   \n",
       "Креатин транспорт                                        6       5        0   \n",
       "Напитки                                                  0       6        0   \n",
       "Оксид азота (NO)                                         3       7        0   \n",
       "Подарочные карты                                         0       0        0   \n",
       "Предтренировочные комплексы                              0       1        0   \n",
       "Сжигатели жира                                           1       1        0   \n",
       "Специальные препараты                                    0       1        0   \n",
       "Таурин                                                   3       3        0   \n",
       "Тирозин                                                  2       2        0   \n",
       "Энергетики                                               0       1        0   \n",
       "аминокислота                                             0       3        0   \n",
       "аминокислота, Бета-аланин                                0       1        0   \n",
       "аминокислота, Таурин                                     1       0        0   \n",
       "д-аспарагиновая кислота                                  2       3        0   \n",
       "\n",
       "Страна производитель                                США  ЧЕШСКАЯ РЕСПУБЛИКА  \\\n",
       "Тип                                                                           \n",
       "BCAA                                                 66                   0   \n",
       "BCAA, Карнитин (L-карнитин)                           0                   0   \n",
       "BCAA, Напитки                                         0                   0   \n",
       "HMB                                                   2                   0   \n",
       "Аминокислотные комплексы                             79                   0   \n",
       "Аминокислоты отдельные                               11                   0   \n",
       "Аргинин                                              12                   0   \n",
       "Батончики                                             0                   0   \n",
       "Бета-аланин                                           3                   0   \n",
       "Витаминно-минеральные комплексы                       0                   0   \n",
       "Гейнеры                                               0                   0   \n",
       "Глютамин                                             27                   0   \n",
       "Глютамин, Для связок и суставов                       0                   0   \n",
       "ДМАЭ (DMAE)                                           0                   0   \n",
       "Для связок и суставов                                 0                   0   \n",
       "Для снижения веса, Карнитин (L-карнитин)              0                   0   \n",
       "Для снижения веса, Карнитин (L-карнитин), Энерг...    0                   0   \n",
       "Изотоники                                             0                   0   \n",
       "Карнитин (L-карнитин)                                34                   1   \n",
       "Креатин моногидрат                                   35                   0   \n",
       "Креатин транспорт                                     6                   0   \n",
       "Напитки                                               0                   0   \n",
       "Оксид азота (NO)                                      2                   0   \n",
       "Подарочные карты                                      0                   0   \n",
       "Предтренировочные комплексы                           0                   0   \n",
       "Сжигатели жира                                        0                   0   \n",
       "Специальные препараты                                 4                   0   \n",
       "Таурин                                                2                   0   \n",
       "Тирозин                                               3                   0   \n",
       "Энергетики                                            0                   0   \n",
       "аминокислота                                          1                   0   \n",
       "аминокислота, Бета-аланин                             0                   0   \n",
       "аминокислота, Таурин                                  0                   0   \n",
       "д-аспарагиновая кислота                               0                   0   \n",
       "\n",
       "Страна производитель                                Чехия  Швейцария  Эстония  \\\n",
       "Тип                                                                             \n",
       "BCAA                                                    7          2        0   \n",
       "BCAA, Карнитин (L-карнитин)                             0          0        0   \n",
       "BCAA, Напитки                                           0          0        0   \n",
       "HMB                                                     0          0        0   \n",
       "Аминокислотные комплексы                                0          0        0   \n",
       "Аминокислоты отдельные                                  0          0        0   \n",
       "Аргинин                                                 0          0        0   \n",
       "Батончики                                               0          0        0   \n",
       "Бета-аланин                                             0          0        0   \n",
       "Витаминно-минеральные комплексы                         0          0        0   \n",
       "Гейнеры                                                 0          0        0   \n",
       "Глютамин                                                0          0        0   \n",
       "Глютамин, Для связок и суставов                         0          0        0   \n",
       "ДМАЭ (DMAE)                                             0          0        0   \n",
       "Для связок и суставов                                   0          0        0   \n",
       "Для снижения веса, Карнитин (L-карнитин)                0          0        0   \n",
       "Для снижения веса, Карнитин (L-карнитин), Энерг...      0          0        0   \n",
       "Изотоники                                               0          0        0   \n",
       "Карнитин (L-карнитин)                                   0          0        0   \n",
       "Креатин моногидрат                                      0          0        0   \n",
       "Креатин транспорт                                       0          1        0   \n",
       "Напитки                                                 0          0        0   \n",
       "Оксид азота (NO)                                        0          0        0   \n",
       "Подарочные карты                                        0          0        0   \n",
       "Предтренировочные комплексы                             0          0        0   \n",
       "Сжигатели жира                                          0          0        0   \n",
       "Специальные препараты                                   0          0        1   \n",
       "Таурин                                                  0          0        0   \n",
       "Тирозин                                                 0          0        0   \n",
       "Энергетики                                              0          0        0   \n",
       "аминокислота                                            0          0        0   \n",
       "аминокислота, Бета-аланин                               0          0        0   \n",
       "аминокислота, Таурин                                    0          0        0   \n",
       "д-аспарагиновая кислота                                 0          0        0   \n",
       "\n",
       "Страна производитель                                Япония  \n",
       "Тип                                                         \n",
       "BCAA                                                     0  \n",
       "BCAA, Карнитин (L-карнитин)                              0  \n",
       "BCAA, Напитки                                            0  \n",
       "HMB                                                      0  \n",
       "Аминокислотные комплексы                                 0  \n",
       "Аминокислоты отдельные                                   0  \n",
       "Аргинин                                                  1  \n",
       "Батончики                                                0  \n",
       "Бета-аланин                                              0  \n",
       "Витаминно-минеральные комплексы                          0  \n",
       "Гейнеры                                                  0  \n",
       "Глютамин                                                 0  \n",
       "Глютамин, Для связок и суставов                          0  \n",
       "ДМАЭ (DMAE)                                              0  \n",
       "Для связок и суставов                                    0  \n",
       "Для снижения веса, Карнитин (L-карнитин)                 0  \n",
       "Для снижения веса, Карнитин (L-карнитин), Энерг...       0  \n",
       "Изотоники                                                0  \n",
       "Карнитин (L-карнитин)                                    0  \n",
       "Креатин моногидрат                                       0  \n",
       "Креатин транспорт                                        0  \n",
       "Напитки                                                  0  \n",
       "Оксид азота (NO)                                         0  \n",
       "Подарочные карты                                         0  \n",
       "Предтренировочные комплексы                              0  \n",
       "Сжигатели жира                                           0  \n",
       "Специальные препараты                                    0  \n",
       "Таурин                                                   0  \n",
       "Тирозин                                                  0  \n",
       "Энергетики                                               0  \n",
       "аминокислота                                             0  \n",
       "аминокислота, Бета-аланин                                0  \n",
       "аминокислота, Таурин                                     0  \n",
       "д-аспарагиновая кислота                                  0  "
      ]
     },
     "execution_count": 11,
     "metadata": {},
     "output_type": "execute_result"
    }
   ],
   "source": [
    "pd.crosstab(acids_df['Тип'], acids_df['Страна производитель'])"
   ]
  },
  {
   "cell_type": "markdown",
   "id": "52a45f67",
   "metadata": {},
   "source": [
    "## Поля с большим количеством пропущенных значений"
   ]
  },
  {
   "cell_type": "markdown",
   "id": "5931844c",
   "metadata": {},
   "source": [
    "Поля, в которых заполнено менее 20% наблюдений (для аминокислот 'Минералы', 'Витамины', 'Белок: грамм в 1 порции', 'Объем, мл', 'Материал', 'Форма креатина', 'Вид транспортной системы', 'Вид белка'), по-умолчанию не будут учитываться в основных графиках. При их анализе выводить предупреждение, что заполнено мало значений"
   ]
  }
 ],
 "metadata": {
  "kernelspec": {
   "display_name": "Python project env",
   "language": "python",
   "name": "myenv"
  },
  "language_info": {
   "codemirror_mode": {
    "name": "ipython",
    "version": 3
   },
   "file_extension": ".py",
   "mimetype": "text/x-python",
   "name": "python",
   "nbconvert_exporter": "python",
   "pygments_lexer": "ipython3",
   "version": "3.8.9"
  }
 },
 "nbformat": 4,
 "nbformat_minor": 5
}
