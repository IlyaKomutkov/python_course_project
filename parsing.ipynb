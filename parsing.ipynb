{
 "cells": [
  {
   "cell_type": "code",
   "execution_count": 1,
   "id": "4db9f439",
   "metadata": {},
   "outputs": [],
   "source": [
    "from selenium.webdriver.common.by import By\n",
    "import pandas as pd\n",
    "import unidecode\n",
    "import time\n",
    "from bs4 import BeautifulSoup\n",
    "from selenium import webdriver\n",
    "from selenium.webdriver.chrome.options import Options\n",
    "import sys\n",
    "import requests\n",
    "import re"
   ]
  },
  {
   "cell_type": "code",
   "execution_count": 2,
   "id": "6800f4b4",
   "metadata": {},
   "outputs": [],
   "source": [
    "url = 'https://5lb.ru'"
   ]
  },
  {
   "cell_type": "code",
   "execution_count": 3,
   "id": "59c457d4",
   "metadata": {},
   "outputs": [
    {
     "name": "stderr",
     "output_type": "stream",
     "text": [
      "/var/folders/6f/3vj27vmj1_g4hyzs0s9k_3cm0000gn/T/ipykernel_3014/630198229.py:3: DeprecationWarning: executable_path has been deprecated, please pass in a Service object\n",
      "  browser = webdriver.Chrome('//Users/iskomutkov/projects/python_course_project/chromedriver',chrome_options=option)\n",
      "/var/folders/6f/3vj27vmj1_g4hyzs0s9k_3cm0000gn/T/ipykernel_3014/630198229.py:3: DeprecationWarning: use options instead of chrome_options\n",
      "  browser = webdriver.Chrome('//Users/iskomutkov/projects/python_course_project/chromedriver',chrome_options=option)\n"
     ]
    }
   ],
   "source": [
    "\n",
    "option = Options()\n",
    "option.add_argument(\"--disable-infobars\") \n",
    "browser = webdriver.Chrome('//Users/iskomutkov/projects/python_course_project/chromedriver',chrome_options=option)"
   ]
  },
  {
   "cell_type": "code",
   "execution_count": 5,
   "id": "36b3623b",
   "metadata": {},
   "outputs": [],
   "source": [
    "browser.get(url)"
   ]
  },
  {
   "cell_type": "code",
   "execution_count": 6,
   "id": "04b3a284",
   "metadata": {},
   "outputs": [],
   "source": [
    "sport_nutrition = browser.find_element(By.CSS_SELECTOR, \"#header > div.header-wrapper.fix-logo2.header-v8 > div.menu-row.middle-block.bgdark > div > div > div > div > nav > div > table > tbody > tr > td:nth-child(3) > div > a\")\n",
    "sport_nutrition.click()"
   ]
  },
  {
   "cell_type": "code",
   "execution_count": 84,
   "id": "467cf4b2",
   "metadata": {},
   "outputs": [],
   "source": [
    "acids = browser.find_element(By.CSS_SELECTOR, \"#bx_1847241719_228 > div.section-compact-list__info > a\")\n",
    "acids.click()"
   ]
  },
  {
   "cell_type": "code",
   "execution_count": 16,
   "id": "c829c9bc",
   "metadata": {},
   "outputs": [],
   "source": [
    "def remove_spaces_enters(s):\n",
    "    s = s.strip()\n",
    "    s = s.replace('  ', '')\n",
    "    s = s.replace('\\n', '')\n",
    "    return s"
   ]
  },
  {
   "cell_type": "code",
   "execution_count": 85,
   "id": "30d02eba",
   "metadata": {},
   "outputs": [],
   "source": [
    "#j = 0\n",
    "html_acids = browser.page_source\n",
    "acid_url = browser.current_url\n",
    "acids_soup = BeautifulSoup(html_acids)\n",
    "result = []\n",
    "while True:\n",
    "    #j += 1\n",
    "    a = acids_soup.find_all(\"div\", {\"class\": \"inner_wrap TYPE_1\"})\n",
    "    for item in a:\n",
    "        ref = url+item.find('a').attrs['href']\n",
    "        acid = requests.get(ref).text#.replace('\\t', '')\n",
    "        #acid = acid.replace('\\n', '')\n",
    "        soup = BeautifulSoup(acid)\n",
    "        \n",
    "        name = soup.find_all(\"h1\", {\"id\": \"pagetitle\"})\n",
    "        name = name[0].text\n",
    "        \n",
    "        properties = soup.find_all(\"div\", {\"class\": \"properties list\"})\n",
    "        props = {'name': name}\n",
    "        for key, value in zip(properties[0].find_all(\"span\", {\"class\": \"properties__title-text\"}),\n",
    "                             properties[0].find_all(\"div\", {\"class\": \"properties__value darken properties__item--inline\"})):\n",
    "            \n",
    "            props[remove_spaces_enters(key.text)] = remove_spaces_enters(value.text)\n",
    "        \n",
    "        price = soup.find_all(\"span\", {\"class\": \"price_value\"})\n",
    "        if len(price) > 0:\n",
    "            price = int(unidecode.unidecode(price[0].getText()).replace(' ',''))\n",
    "        else:\n",
    "            try:\n",
    "                vp_start = acid.find('price_value')\n",
    "                price = int(re.split('[<>]', acid[vp_start:vp_start + 40])[1].replace('&nbsp;', ''))\n",
    "            except Exception:\n",
    "                continue\n",
    "        props['price'] = price\n",
    "\n",
    "        characteristic = soup.find_all(\"table\", {\"class\": \"props_list nbg\"})\n",
    "        if len(characteristic) > 0:\n",
    "            characteristic = characteristic[0].findAll('span')\n",
    "            for i in range(len(characteristic) // 2):\n",
    "                props[characteristic[i * 2].text] = characteristic[i * 2 + 1].text\n",
    "            \n",
    "        result.append(props)\n",
    "        \n",
    "    next_page = acids_soup.find_all(\"a\", {\"class\": \"flex-next\"})\n",
    "    if len(next_page) == 0:\n",
    "        break\n",
    "    ref = url + next_page[0].attrs['href']\n",
    "    browser.get(ref)\n",
    "    html_acids = browser.page_source\n",
    "    acid_url = browser.current_url\n",
    "    acids_soup = BeautifulSoup(html_acids)"
   ]
  },
  {
   "cell_type": "code",
   "execution_count": 88,
   "id": "3c6892ae",
   "metadata": {},
   "outputs": [],
   "source": [
    "acids_df = pd.DataFrame(result)\n",
    "acids_df.to_csv('acids.csv')"
   ]
  },
  {
   "cell_type": "code",
   "execution_count": 14,
   "id": "771f5a9c",
   "metadata": {},
   "outputs": [],
   "source": [
    "def parse(browser, file_name):\n",
    "    html_catalog = browser.page_source\n",
    "    catalog_url = browser.current_url\n",
    "    catalog_soup = BeautifulSoup(html_catalog)\n",
    "    result = []\n",
    "    while True:\n",
    "        #j += 1\n",
    "        a = catalog_soup.find_all(\"div\", {\"class\": \"inner_wrap TYPE_1\"})\n",
    "        for item in a:\n",
    "            ref = url+item.find('a').attrs['href']\n",
    "            page = requests.get(ref).text\n",
    "            soup = BeautifulSoup(page)\n",
    "\n",
    "            name = soup.find_all(\"h1\", {\"id\": \"pagetitle\"})\n",
    "            name = name[0].text\n",
    "\n",
    "            properties = soup.find_all(\"div\", {\"class\": \"properties list\"})\n",
    "            props = {'name': name}\n",
    "            for key, value in zip(properties[0].find_all(\"span\", {\"class\": \"properties__title-text\"}),\n",
    "                                 properties[0].find_all(\"div\", {\"class\": \"properties__value darken properties__item--inline\"})):\n",
    "\n",
    "                props[remove_spaces_enters(key.text)] = remove_spaces_enters(value.text)\n",
    "\n",
    "            price = soup.find_all(\"span\", {\"class\": \"price_value\"})\n",
    "            if len(price) > 0:\n",
    "                price = int(unidecode.unidecode(price[0].getText()).replace(' ',''))\n",
    "            else:\n",
    "                try:\n",
    "                    vp_start = page.find('price_value')\n",
    "                    price = int(re.split('[<>]', page[vp_start:vp_start + 40])[1].replace('&nbsp;', ''))\n",
    "                except Exception:\n",
    "                    continue\n",
    "            props['price'] = price\n",
    "\n",
    "            characteristic = soup.find_all(\"table\", {\"class\": \"props_list nbg\"})\n",
    "            if len(characteristic) > 0:\n",
    "                characteristic = characteristic[0].findAll('span')\n",
    "                for i in range(len(characteristic) // 2):\n",
    "                    props[characteristic[i * 2].text] = characteristic[i * 2 + 1].text\n",
    "\n",
    "            result.append(props)\n",
    "\n",
    "        next_page = catalog_soup.find_all(\"a\", {\"class\": \"flex-next\"})\n",
    "        if len(next_page) == 0:\n",
    "            break\n",
    "        ref = url + next_page[0].attrs['href']\n",
    "        browser.get(ref)\n",
    "        html_catalog = browser.page_source\n",
    "        catalog_url = browser.current_url\n",
    "        catalog_soup = BeautifulSoup(html_catalog)\n",
    "    df = pd.DataFrame(result)\n",
    "    df.to_csv(f'{file_name}.csv', index=False)"
   ]
  },
  {
   "cell_type": "code",
   "execution_count": null,
   "id": "b80a7b2f",
   "metadata": {},
   "outputs": [],
   "source": [
    "browser.get(url)"
   ]
  },
  {
   "cell_type": "code",
   "execution_count": null,
   "id": "7f85d7b0",
   "metadata": {},
   "outputs": [],
   "source": [
    "sport_nutrition = browser.find_element(By.CSS_SELECTOR, \"#header > div.header-wrapper.fix-logo2.header-v8 > div.menu-row.middle-block.bgdark > div > div > div > div > nav > div > table > tbody > tr > td:nth-child(3) > div > a\")\n",
    "sport_nutrition.click()"
   ]
  },
  {
   "cell_type": "code",
   "execution_count": null,
   "id": "10581436",
   "metadata": {},
   "outputs": [],
   "source": [
    "proteins = browser.find_element(By.CSS_SELECTOR, \"#bx_1847241719_229 > div.section-compact-list__info > a\")\n",
    "proteins.click()"
   ]
  },
  {
   "cell_type": "code",
   "execution_count": null,
   "id": "cb53723f",
   "metadata": {},
   "outputs": [],
   "source": [
    "parse(browser, 'proteins')"
   ]
  },
  {
   "cell_type": "code",
   "execution_count": 9,
   "id": "8f7ea1fe",
   "metadata": {},
   "outputs": [],
   "source": [
    "browser.get(url)"
   ]
  },
  {
   "cell_type": "code",
   "execution_count": 11,
   "id": "a8b0fc3a",
   "metadata": {},
   "outputs": [],
   "source": [
    "sport_nutrition = browser.find_element(By.CSS_SELECTOR, \"#header > div.header-wrapper.fix-logo2.header-v8 > div.menu-row.middle-block.bgdark > div > div > div > div > nav > div > table > tbody > tr > td:nth-child(3) > div > a\")\n",
    "sport_nutrition.click()"
   ]
  },
  {
   "cell_type": "code",
   "execution_count": 12,
   "id": "ea9c6d82",
   "metadata": {},
   "outputs": [],
   "source": [
    "proteins = browser.find_element(By.CSS_SELECTOR, \"#bx_1847241719_231 > div.section-compact-list__info > a\")\n",
    "proteins.click()"
   ]
  },
  {
   "cell_type": "code",
   "execution_count": 17,
   "id": "3f37ebd7",
   "metadata": {},
   "outputs": [],
   "source": [
    "parse(browser, 'energy')"
   ]
  }
 ],
 "metadata": {
  "kernelspec": {
   "display_name": "Python 3 (ipykernel)",
   "language": "python",
   "name": "python3"
  },
  "language_info": {
   "codemirror_mode": {
    "name": "ipython",
    "version": 3
   },
   "file_extension": ".py",
   "mimetype": "text/x-python",
   "name": "python",
   "nbconvert_exporter": "python",
   "pygments_lexer": "ipython3",
   "version": "3.8.9"
  }
 },
 "nbformat": 4,
 "nbformat_minor": 5
}
